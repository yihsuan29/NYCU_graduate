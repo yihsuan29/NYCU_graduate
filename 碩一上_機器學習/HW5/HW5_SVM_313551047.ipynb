{
 "cells": [
  {
   "cell_type": "code",
   "execution_count": 1,
   "metadata": {},
   "outputs": [],
   "source": [
    "import numpy as np\n",
    "from libsvm.svmutil import *\n",
    "from numpy import matmul as mul"
   ]
  },
  {
   "cell_type": "markdown",
   "metadata": {},
   "source": [
    "## LoadData"
   ]
  },
  {
   "cell_type": "code",
   "execution_count": 2,
   "metadata": {},
   "outputs": [],
   "source": [
    "def LoadData(X_path, Y_path):\n",
    "    X = np.loadtxt(X_path, delimiter=',') \n",
    "    Y = np.loadtxt(Y_path, delimiter=',') \n",
    "    return X, Y"
   ]
  },
  {
   "cell_type": "code",
   "execution_count": 3,
   "metadata": {},
   "outputs": [],
   "source": [
    "X_train, Y_train = LoadData(\"./data/X_train.csv\", \"./data/Y_train.csv\")\n",
    "X_test, Y_test = LoadData(\"./data/X_test.csv\", \"./data/Y_test.csv\")"
   ]
  },
  {
   "cell_type": "markdown",
   "metadata": {},
   "source": [
    "## Different kernel\n",
    "-t, kernel_type :\n",
    "* 0 -> linear\n",
    "* 1 -> polynomial\n",
    "* 2 -> RBF"
   ]
  },
  {
   "cell_type": "code",
   "execution_count": 4,
   "metadata": {},
   "outputs": [
    {
     "name": "stdout",
     "output_type": "stream",
     "text": [
      "kernel: linear, Accuracy = 95.08% (2377/2500) (classification)\n",
      "kernel: polynomial, Accuracy = 34.68% (867/2500) (classification)\n",
      "kernel: RBF, Accuracy = 95.32% (2383/2500) (classification)\n"
     ]
    }
   ],
   "source": [
    "# task 1 different kernrl\n",
    "kernels = {'linear': 0, 'polynomial': 1, 'RBF': 2}\n",
    "\n",
    "for key, value in kernels.items():\n",
    "    print(f\"kernel: {key}\", end = \", \")\n",
    "    model = svm_train(Y_train, X_train, f\"-t {value}\")\n",
    "    pred = svm_predict(Y_test, X_test, model)\n"
   ]
  },
  {
   "cell_type": "markdown",
   "metadata": {},
   "source": [
    "## Grid search\n",
    "| arg | useage| linear | polynomial | RBF | default value|\n",
    "|--|--|--|--|--|--|\n",
    "|-c| cost for C-SVC| v | v | v |1|\n",
    "|-g |gamma| | v | v | 1/number of features|\n",
    "|-d |degree| |v |  | 3|\n",
    "|-r |coefficient 0| |v |  | 0|\n",
    "|-v| n-fold | v | v | v ||\n"
   ]
  },
  {
   "cell_type": "code",
   "execution_count": 27,
   "metadata": {},
   "outputs": [],
   "source": [
    "def GridSearch(X,Y):    \n",
    "    D = [2, 3, 4]\n",
    "    Gamma = [1e-2, 1e-1, 1] \n",
    "    Coef0 = [2, 4, 10]\n",
    "    C = [0.001, 0.01, 0.1, 1, 10]\n",
    "    v = 5\n",
    "    \n",
    "    for key, kernel in kernels.items():\n",
    "        print(f\"\\nkernel: {key}\")\n",
    "        print(\"Default:\", end = \" \")\n",
    "        res = svm_train(Y, X, f\"-t {kernel} -v {v}\")\n",
    "        if kernel==0:\n",
    "            for c in C:\n",
    "                arg = f\"-t {kernel} -v {v} -c {c}\"\n",
    "                print(f\"-c {c:<5.3f}\", end = \" \") \n",
    "                res = svm_train(Y, X, arg) \n",
    "        elif kernel==1:\n",
    "            for c in C:\n",
    "                for d in D:\n",
    "                    for gamma in Gamma:\n",
    "                        for coef0 in Coef0:\n",
    "                            arg = f\"-t {kernel} -v {v} -c {c} -d {d} -g {gamma} -r {coef0} \"\n",
    "                            print(f\"-c {c:<5.3f} -d {d:<1d} -g {gamma:<3.2f} -r {coef0:<2d} \", end = \" \") \n",
    "                            res = svm_train(Y, X, arg)              \n",
    "        else:\n",
    "            for c in C:\n",
    "                for gamma in Gamma:\n",
    "                    arg = f\"-t {kernel} -v {v} -c {c} -g {gamma}\"\n",
    "                    print(f\"-c {c:<5.3f} -g {gamma:<3.2f}\", end = \" \") \n",
    "                    res = svm_train(Y, X, arg)   \n",
    "\n",
    "\n"
   ]
  },
  {
   "cell_type": "code",
   "execution_count": 28,
   "metadata": {},
   "outputs": [
    {
     "name": "stdout",
     "output_type": "stream",
     "text": [
      "\n",
      "kernel: linear\n",
      "Default: Cross Validation Accuracy = 96.24%\n",
      "-c 0.001 Cross Validation Accuracy = 95.52%\n",
      "-c 0.010 Cross Validation Accuracy = 97.12%\n",
      "-c 0.100 Cross Validation Accuracy = 96.84%\n",
      "-c 1.000 Cross Validation Accuracy = 96.36%\n",
      "-c 10.000 Cross Validation Accuracy = 96%\n",
      "\n",
      "kernel: polynomial\n",
      "Default: Cross Validation Accuracy = 32.56%\n",
      "-c 0.001 -d 2 -g 0.01 -r 2   Cross Validation Accuracy = 80.26%\n",
      "-c 0.001 -d 2 -g 0.01 -r 4   Cross Validation Accuracy = 88.14%\n",
      "-c 0.001 -d 2 -g 0.01 -r 10  Cross Validation Accuracy = 92.58%\n",
      "-c 0.001 -d 2 -g 0.10 -r 2   Cross Validation Accuracy = 95.8%\n",
      "-c 0.001 -d 2 -g 0.10 -r 4   Cross Validation Accuracy = 96.16%\n",
      "-c 0.001 -d 2 -g 0.10 -r 10  Cross Validation Accuracy = 96.54%\n",
      "-c 0.001 -d 2 -g 1.00 -r 2   Cross Validation Accuracy = 98.16%\n",
      "-c 0.001 -d 2 -g 1.00 -r 4   Cross Validation Accuracy = 98.2%\n",
      "-c 0.001 -d 2 -g 1.00 -r 10  Cross Validation Accuracy = 98.06%\n",
      "-c 0.001 -d 3 -g 0.01 -r 2   Cross Validation Accuracy = 91.28%\n",
      "-c 0.001 -d 3 -g 0.01 -r 4   Cross Validation Accuracy = 94.86%\n",
      "-c 0.001 -d 3 -g 0.01 -r 10  Cross Validation Accuracy = 96.42%\n",
      "-c 0.001 -d 3 -g 0.10 -r 2   Cross Validation Accuracy = 97.68%\n",
      "-c 0.001 -d 3 -g 0.10 -r 4   Cross Validation Accuracy = 97.92%\n",
      "-c 0.001 -d 3 -g 0.10 -r 10  Cross Validation Accuracy = 97.94%\n",
      "-c 0.001 -d 3 -g 1.00 -r 2   Cross Validation Accuracy = 97.82%\n",
      "-c 0.001 -d 3 -g 1.00 -r 4   Cross Validation Accuracy = 97.94%\n",
      "-c 0.001 -d 3 -g 1.00 -r 10  Cross Validation Accuracy = 97.88%\n",
      "-c 0.001 -d 4 -g 0.01 -r 2   Cross Validation Accuracy = 94.76%\n",
      "-c 0.001 -d 4 -g 0.01 -r 4   Cross Validation Accuracy = 96.76%\n",
      "-c 0.001 -d 4 -g 0.01 -r 10  Cross Validation Accuracy = 97.26%\n",
      "-c 0.001 -d 4 -g 0.10 -r 2   Cross Validation Accuracy = 97.82%\n",
      "-c 0.001 -d 4 -g 0.10 -r 4   Cross Validation Accuracy = 97.94%\n",
      "-c 0.001 -d 4 -g 0.10 -r 10  Cross Validation Accuracy = 97.92%\n",
      "-c 0.001 -d 4 -g 1.00 -r 2   Cross Validation Accuracy = 96.96%\n",
      "-c 0.001 -d 4 -g 1.00 -r 4   Cross Validation Accuracy = 97.12%\n",
      "-c 0.001 -d 4 -g 1.00 -r 10  Cross Validation Accuracy = 97.56%\n",
      "-c 0.010 -d 2 -g 0.01 -r 2   Cross Validation Accuracy = 94.6%\n",
      "-c 0.010 -d 2 -g 0.01 -r 4   Cross Validation Accuracy = 95.44%\n",
      "-c 0.010 -d 2 -g 0.01 -r 10  Cross Validation Accuracy = 96.08%\n",
      "-c 0.010 -d 2 -g 0.10 -r 2   Cross Validation Accuracy = 97.62%\n",
      "-c 0.010 -d 2 -g 0.10 -r 4   Cross Validation Accuracy = 97.62%\n",
      "-c 0.010 -d 2 -g 0.10 -r 10  Cross Validation Accuracy = 97.44%\n",
      "-c 0.010 -d 2 -g 1.00 -r 2   Cross Validation Accuracy = 98.02%\n",
      "-c 0.010 -d 2 -g 1.00 -r 4   Cross Validation Accuracy = 98.12%\n",
      "-c 0.010 -d 2 -g 1.00 -r 10  Cross Validation Accuracy = 97.92%\n",
      "-c 0.010 -d 3 -g 0.01 -r 2   Cross Validation Accuracy = 96.2%\n",
      "-c 0.010 -d 3 -g 0.01 -r 4   Cross Validation Accuracy = 97.14%\n",
      "-c 0.010 -d 3 -g 0.01 -r 10  Cross Validation Accuracy = 97.04%\n",
      "-c 0.010 -d 3 -g 0.10 -r 2   Cross Validation Accuracy = 98.08%\n",
      "-c 0.010 -d 3 -g 0.10 -r 4   Cross Validation Accuracy = 98%\n",
      "-c 0.010 -d 3 -g 0.10 -r 10  Cross Validation Accuracy = 97.96%\n",
      "-c 0.010 -d 3 -g 1.00 -r 2   Cross Validation Accuracy = 97.78%\n",
      "-c 0.010 -d 3 -g 1.00 -r 4   Cross Validation Accuracy = 97.96%\n",
      "-c 0.010 -d 3 -g 1.00 -r 10  Cross Validation Accuracy = 97.96%\n",
      "-c 0.010 -d 4 -g 0.01 -r 2   Cross Validation Accuracy = 97.14%\n",
      "-c 0.010 -d 4 -g 0.01 -r 4   Cross Validation Accuracy = 97.66%\n",
      "-c 0.010 -d 4 -g 0.01 -r 10  Cross Validation Accuracy = 97.24%\n",
      "-c 0.010 -d 4 -g 0.10 -r 2   Cross Validation Accuracy = 97.86%\n",
      "-c 0.010 -d 4 -g 0.10 -r 4   Cross Validation Accuracy = 97.98%\n",
      "-c 0.010 -d 4 -g 0.10 -r 10  Cross Validation Accuracy = 98.04%\n",
      "-c 0.010 -d 4 -g 1.00 -r 2   Cross Validation Accuracy = 96.84%\n",
      "-c 0.010 -d 4 -g 1.00 -r 4   Cross Validation Accuracy = 97.28%\n",
      "-c 0.010 -d 4 -g 1.00 -r 10  Cross Validation Accuracy = 97.66%\n",
      "-c 0.100 -d 2 -g 0.01 -r 2   Cross Validation Accuracy = 96.86%\n",
      "-c 0.100 -d 2 -g 0.01 -r 4   Cross Validation Accuracy = 97.16%\n",
      "-c 0.100 -d 2 -g 0.01 -r 10  Cross Validation Accuracy = 97.22%\n",
      "-c 0.100 -d 2 -g 0.10 -r 2   Cross Validation Accuracy = 98.04%\n",
      "-c 0.100 -d 2 -g 0.10 -r 4   Cross Validation Accuracy = 98.14%\n",
      "-c 0.100 -d 2 -g 0.10 -r 10  Cross Validation Accuracy = 97.48%\n",
      "-c 0.100 -d 2 -g 1.00 -r 2   Cross Validation Accuracy = 98.16%\n",
      "-c 0.100 -d 2 -g 1.00 -r 4   Cross Validation Accuracy = 97.84%\n",
      "-c 0.100 -d 2 -g 1.00 -r 10  Cross Validation Accuracy = 98.22%\n",
      "-c 0.100 -d 3 -g 0.01 -r 2   Cross Validation Accuracy = 97.4%\n",
      "-c 0.100 -d 3 -g 0.01 -r 4   Cross Validation Accuracy = 97.48%\n",
      "-c 0.100 -d 3 -g 0.01 -r 10  Cross Validation Accuracy = 97.16%\n",
      "-c 0.100 -d 3 -g 0.10 -r 2   Cross Validation Accuracy = 98.02%\n",
      "-c 0.100 -d 3 -g 0.10 -r 4   Cross Validation Accuracy = 98%\n",
      "-c 0.100 -d 3 -g 0.10 -r 10  Cross Validation Accuracy = 97.78%\n",
      "-c 0.100 -d 3 -g 1.00 -r 2   Cross Validation Accuracy = 97.72%\n",
      "-c 0.100 -d 3 -g 1.00 -r 4   Cross Validation Accuracy = 97.86%\n",
      "-c 0.100 -d 3 -g 1.00 -r 10  Cross Validation Accuracy = 97.9%\n",
      "-c 0.100 -d 4 -g 0.01 -r 2   Cross Validation Accuracy = 97.68%\n",
      "-c 0.100 -d 4 -g 0.01 -r 4   Cross Validation Accuracy = 97.66%\n",
      "-c 0.100 -d 4 -g 0.01 -r 10  Cross Validation Accuracy = 97.06%\n",
      "-c 0.100 -d 4 -g 0.10 -r 2   Cross Validation Accuracy = 98%\n",
      "-c 0.100 -d 4 -g 0.10 -r 4   Cross Validation Accuracy = 98%\n",
      "-c 0.100 -d 4 -g 0.10 -r 10  Cross Validation Accuracy = 98.06%\n",
      "-c 0.100 -d 4 -g 1.00 -r 2   Cross Validation Accuracy = 96.9%\n",
      "-c 0.100 -d 4 -g 1.00 -r 4   Cross Validation Accuracy = 97.02%\n",
      "-c 0.100 -d 4 -g 1.00 -r 10  Cross Validation Accuracy = 97.58%\n",
      "-c 1.000 -d 2 -g 0.01 -r 2   Cross Validation Accuracy = 97.54%\n",
      "-c 1.000 -d 2 -g 0.01 -r 4   Cross Validation Accuracy = 97.46%\n",
      "-c 1.000 -d 2 -g 0.01 -r 10  Cross Validation Accuracy = 97.06%\n",
      "-c 1.000 -d 2 -g 0.10 -r 2   Cross Validation Accuracy = 97.96%\n",
      "-c 1.000 -d 2 -g 0.10 -r 4   Cross Validation Accuracy = 98.02%\n",
      "-c 1.000 -d 2 -g 0.10 -r 10  Cross Validation Accuracy = 97.96%\n",
      "-c 1.000 -d 2 -g 1.00 -r 2   Cross Validation Accuracy = 98.06%\n",
      "-c 1.000 -d 2 -g 1.00 -r 4   Cross Validation Accuracy = 98.04%\n",
      "-c 1.000 -d 2 -g 1.00 -r 10  Cross Validation Accuracy = 98.14%\n",
      "-c 1.000 -d 3 -g 0.01 -r 2   Cross Validation Accuracy = 97.64%\n",
      "-c 1.000 -d 3 -g 0.01 -r 4   Cross Validation Accuracy = 97.44%\n",
      "-c 1.000 -d 3 -g 0.01 -r 10  Cross Validation Accuracy = 96.96%\n",
      "-c 1.000 -d 3 -g 0.10 -r 2   Cross Validation Accuracy = 98.2%\n",
      "-c 1.000 -d 3 -g 0.10 -r 4   Cross Validation Accuracy = 98.08%\n",
      "-c 1.000 -d 3 -g 0.10 -r 10  Cross Validation Accuracy = 98%\n",
      "-c 1.000 -d 3 -g 1.00 -r 2   Cross Validation Accuracy = 97.84%\n",
      "-c 1.000 -d 3 -g 1.00 -r 4   Cross Validation Accuracy = 97.84%\n",
      "-c 1.000 -d 3 -g 1.00 -r 10  Cross Validation Accuracy = 98.06%\n",
      "-c 1.000 -d 4 -g 0.01 -r 2   Cross Validation Accuracy = 97.82%\n",
      "-c 1.000 -d 4 -g 0.01 -r 4   Cross Validation Accuracy = 97.34%\n",
      "-c 1.000 -d 4 -g 0.01 -r 10  Cross Validation Accuracy = 97.18%\n",
      "-c 1.000 -d 4 -g 0.10 -r 2   Cross Validation Accuracy = 97.84%\n",
      "-c 1.000 -d 4 -g 0.10 -r 4   Cross Validation Accuracy = 98.14%\n",
      "-c 1.000 -d 4 -g 0.10 -r 10  Cross Validation Accuracy = 98%\n",
      "-c 1.000 -d 4 -g 1.00 -r 2   Cross Validation Accuracy = 96.94%\n",
      "-c 1.000 -d 4 -g 1.00 -r 4   Cross Validation Accuracy = 97.34%\n",
      "-c 1.000 -d 4 -g 1.00 -r 10  Cross Validation Accuracy = 97.7%\n",
      "-c 10.000 -d 2 -g 0.01 -r 2   Cross Validation Accuracy = 97.58%\n",
      "-c 10.000 -d 2 -g 0.01 -r 4   Cross Validation Accuracy = 97%\n",
      "-c 10.000 -d 2 -g 0.01 -r 10  Cross Validation Accuracy = 96.58%\n",
      "-c 10.000 -d 2 -g 0.10 -r 2   Cross Validation Accuracy = 97.96%\n",
      "-c 10.000 -d 2 -g 0.10 -r 4   Cross Validation Accuracy = 97.76%\n",
      "-c 10.000 -d 2 -g 0.10 -r 10  Cross Validation Accuracy = 97.58%\n",
      "-c 10.000 -d 2 -g 1.00 -r 2   Cross Validation Accuracy = 98.04%\n",
      "-c 10.000 -d 2 -g 1.00 -r 4   Cross Validation Accuracy = 98.08%\n",
      "-c 10.000 -d 2 -g 1.00 -r 10  Cross Validation Accuracy = 98.12%\n",
      "-c 10.000 -d 3 -g 0.01 -r 2   Cross Validation Accuracy = 97.74%\n",
      "-c 10.000 -d 3 -g 0.01 -r 4   Cross Validation Accuracy = 97.58%\n",
      "-c 10.000 -d 3 -g 0.01 -r 10  Cross Validation Accuracy = 96.88%\n",
      "-c 10.000 -d 3 -g 0.10 -r 2   Cross Validation Accuracy = 98.08%\n",
      "-c 10.000 -d 3 -g 0.10 -r 4   Cross Validation Accuracy = 98.06%\n",
      "-c 10.000 -d 3 -g 0.10 -r 10  Cross Validation Accuracy = 97.82%\n",
      "-c 10.000 -d 3 -g 1.00 -r 2   Cross Validation Accuracy = 97.76%\n",
      "-c 10.000 -d 3 -g 1.00 -r 4   Cross Validation Accuracy = 97.9%\n",
      "-c 10.000 -d 3 -g 1.00 -r 10  Cross Validation Accuracy = 97.96%\n",
      "-c 10.000 -d 4 -g 0.01 -r 2   Cross Validation Accuracy = 97.88%\n",
      "-c 10.000 -d 4 -g 0.01 -r 4   Cross Validation Accuracy = 97.56%\n",
      "-c 10.000 -d 4 -g 0.01 -r 10  Cross Validation Accuracy = 97.36%\n",
      "-c 10.000 -d 4 -g 0.10 -r 2   Cross Validation Accuracy = 97.96%\n",
      "-c 10.000 -d 4 -g 0.10 -r 4   Cross Validation Accuracy = 98.02%\n",
      "-c 10.000 -d 4 -g 0.10 -r 10  Cross Validation Accuracy = 98.22%\n",
      "-c 10.000 -d 4 -g 1.00 -r 2   Cross Validation Accuracy = 96.9%\n",
      "-c 10.000 -d 4 -g 1.00 -r 4   Cross Validation Accuracy = 97.34%\n",
      "-c 10.000 -d 4 -g 1.00 -r 10  Cross Validation Accuracy = 97.6%\n",
      "\n",
      "kernel: RBF\n",
      "Default: Cross Validation Accuracy = 96.32%\n",
      "-c 0.001 -g 0.01 Cross Validation Accuracy = 89.86%\n",
      "-c 0.001 -g 0.10 Cross Validation Accuracy = 49.02%\n",
      "-c 0.001 -g 1.00 Cross Validation Accuracy = 20.52%\n",
      "-c 0.010 -g 0.01 Cross Validation Accuracy = 92.28%\n",
      "-c 0.010 -g 0.10 Cross Validation Accuracy = 49.12%\n",
      "-c 0.010 -g 1.00 Cross Validation Accuracy = 20.52%\n",
      "-c 0.100 -g 0.01 Cross Validation Accuracy = 96.28%\n",
      "-c 0.100 -g 0.10 Cross Validation Accuracy = 54.32%\n",
      "-c 0.100 -g 1.00 Cross Validation Accuracy = 20.54%\n",
      "-c 1.000 -g 0.01 Cross Validation Accuracy = 97.86%\n",
      "-c 1.000 -g 0.10 Cross Validation Accuracy = 92.08%\n",
      "-c 1.000 -g 1.00 Cross Validation Accuracy = 30.26%\n",
      "-c 10.000 -g 0.01 Cross Validation Accuracy = 98.14%\n",
      "-c 10.000 -g 0.10 Cross Validation Accuracy = 92.44%\n",
      "-c 10.000 -g 1.00 Cross Validation Accuracy = 31.4%\n"
     ]
    }
   ],
   "source": [
    "# part 2 grid search\n",
    "kernels = {'linear': 0, 'polynomial': 1, 'RBF': 2}\n",
    "GridSearch(X_train, Y_train)"
   ]
  },
  {
   "cell_type": "code",
   "execution_count": 5,
   "metadata": {},
   "outputs": [
    {
     "name": "stdout",
     "output_type": "stream",
     "text": [
      "kernel: linear, best opt: -t 0 -c 0.01\n",
      "Accuracy = 95.96% (2399/2500) (classification)\n",
      "\n",
      "kernel: polynomial, best opt: -t 1 -c 0.1 -d 2 -g 1 -r 10\n",
      "Accuracy = 97.84% (2446/2500) (classification)\n",
      "\n",
      "kernel: RBF, best opt: -t 2 -c 10 -g 0.01\n",
      "Accuracy = 98.2% (2455/2500) (classification)\n",
      "\n"
     ]
    }
   ],
   "source": [
    "# Linear best parameter: -c 0.01\n",
    "# Polynomial best parameter: -c 0.1 -d 2 -g 1 -r 10\n",
    "# RBF best parameter: -c 10 -g 0.01\n",
    "\n",
    "kernels = {'linear': 0, 'polynomial': 1, 'RBF': 2}\n",
    "best_opt = {'linear': \"-c 0.01\",\n",
    "            'polynomial': \"-c 0.1 -d 2 -g 1 -r 10\",\n",
    "            'RBF': \"-c 10 -g 0.01\"}\n",
    "\n",
    "for key, value in kernels.items():\n",
    "    print(f\"kernel: {key}\", end = \", \")\n",
    "    print(f\"best opt: -t {value} {best_opt[key]}\")\n",
    "    model = svm_train(Y_train, X_train, f\"-t {value} \"+best_opt[key])\n",
    "    pred = svm_predict(Y_test, X_test, model)\n",
    "    print(\"\")"
   ]
  },
  {
   "cell_type": "markdown",
   "metadata": {},
   "source": [
    "## linear + RBF"
   ]
  },
  {
   "cell_type": "markdown",
   "metadata": {},
   "source": [
    "| Kernel|| $$ K_{ij} $$|| $$ Matrix　K $$|\n",
    "|--|--|--|--|--|\n",
    "|Linear|| $$ K_{ij} = x_i \\cdot x_j $$|| $$ K = X X^{'T} $$|\n",
    "|RBF|| $$ K_{ij} = \\exp^{-\\gamma \\|x_i - x_j\\|^2} $$|| $$ K = e^{-\\gamma D},  where  D = \\|x_i\\|^2 + \\|x_j\\|^2 - 2 (x_i \\cdot x_j) $$ |\n"
   ]
  },
  {
   "cell_type": "code",
   "execution_count": 6,
   "metadata": {},
   "outputs": [],
   "source": [
    "def Linear_K(X1,X2):\n",
    "    return mul(X1,X2.T)"
   ]
  },
  {
   "cell_type": "code",
   "execution_count": 7,
   "metadata": {},
   "outputs": [],
   "source": [
    "def RBF_K(X1,X2, gamma):\n",
    "    square_X1 = np.sum(X1 ** 2, axis=1).reshape(-1, 1)\n",
    "    square_X2 = np.sum(X2 ** 2, axis=1)\n",
    "    d = square_X1 - 2 * mul(X1, X2.T) + square_X2\n",
    "    k = np.exp(-gamma* d)\n",
    "    return k"
   ]
  },
  {
   "cell_type": "markdown",
   "metadata": {},
   "source": [
    "Precomputed Kernel<br>\n",
    "New training instance for xi: 0:i 1:K(xi,x1) ... L:K(xi,xL)<br>\n",
    "the first column must be the \"ID\" of xi."
   ]
  },
  {
   "cell_type": "code",
   "execution_count": 8,
   "metadata": {},
   "outputs": [],
   "source": [
    "gamma = 0.01\n",
    "K_train = Linear_K(X_train, X_train) + RBF_K(X_train, X_train, gamma)\n",
    "K_test = Linear_K(X_train,X_test).T + RBF_K(X_train,X_test, gamma).T\n",
    "\n",
    "# add index for every Ki\n",
    "train_idx = np.arange(1,K_train.shape[0]+1)\n",
    "K_train = np.column_stack((train_idx, K_train))\n",
    "\n",
    "test_idx = np.arange(1,K_test.shape[0]+1)\n",
    "K_test = np.column_stack((test_idx, K_test))"
   ]
  },
  {
   "cell_type": "code",
   "execution_count": 9,
   "metadata": {},
   "outputs": [
    {
     "name": "stdout",
     "output_type": "stream",
     "text": [
      "Accuracy = 95.32% (2383/2500) (classification)\n"
     ]
    }
   ],
   "source": [
    "# -t 4: precomputed kernel\n",
    "model = svm_train(Y_train, K_train, \"-t 4\")\n",
    "pred = svm_predict(Y_test, K_test, model)"
   ]
  },
  {
   "cell_type": "code",
   "execution_count": null,
   "metadata": {},
   "outputs": [],
   "source": []
  }
 ],
 "metadata": {
  "kernelspec": {
   "display_name": "Python 3",
   "language": "python",
   "name": "python3"
  },
  "language_info": {
   "codemirror_mode": {
    "name": "ipython",
    "version": 3
   },
   "file_extension": ".py",
   "mimetype": "text/x-python",
   "name": "python",
   "nbconvert_exporter": "python",
   "pygments_lexer": "ipython3",
   "version": "3.8.5"
  }
 },
 "nbformat": 4,
 "nbformat_minor": 4
}
