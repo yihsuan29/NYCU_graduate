{
 "cells": [
  {
   "cell_type": "markdown",
   "metadata": {},
   "source": [
    "## Regularized linear model regression and visualization"
   ]
  },
  {
   "cell_type": "code",
   "execution_count": 1,
   "metadata": {},
   "outputs": [],
   "source": [
    "import numpy as np\n",
    "import matplotlib.pyplot as plt"
   ]
  },
  {
   "cell_type": "code",
   "execution_count": 2,
   "metadata": {},
   "outputs": [],
   "source": [
    "# read file\n",
    "def ReadFile(file_path):\n",
    "    file = open(file_path, mode='r')\n",
    "    line = file.readline()\n",
    "    data_points = []\n",
    "    while line:\n",
    "        x,y = map(float,line.strip().split(','))\n",
    "        data_points.append((x,y))\n",
    "        line = file.readline()   \n",
    "        \n",
    "    data_array = np.array(data_points)\n",
    "    A = data_array[:,0].reshape(1, -1) #[1,n]\n",
    "    b = data_array[:,1].reshape(-1, 1) \n",
    "    return data_points, A, b"
   ]
  },
  {
   "cell_type": "markdown",
   "metadata": {},
   "source": [
    "### LU Decomposition for inverse\n",
    "LU decomposition:<br>\n",
    "to find A-1, that [A][A-1] = [I]<br>\n",
    "step1: using [A] = [L][U]<br>\n",
    "step2: find [Y], that [Y] = [U][A-1] => [A][A-1] = [L][U][A-1] = [L][Y] = [I]<br>\n",
    "step3: find [A-1], that [Y] = [U][A-1]"
   ]
  },
  {
   "cell_type": "code",
   "execution_count": 3,
   "metadata": {},
   "outputs": [],
   "source": [
    "# lambda matrix\n",
    "def lambdaM(size, lambda_value):\n",
    "    M = np.identity(size) * lambda_value\n",
    "    return M"
   ]
  },
  {
   "cell_type": "code",
   "execution_count": 4,
   "metadata": {},
   "outputs": [],
   "source": [
    "# zero matrix\n",
    "def zeroM(size):\n",
    "    M = np.zeros((size, size))\n",
    "    return M"
   ]
  },
  {
   "cell_type": "code",
   "execution_count": 5,
   "metadata": {},
   "outputs": [],
   "source": [
    "# LU decomposition A=LU\n",
    "def LUDecomposition(A):\n",
    "    n = A.shape[0]\n",
    "    L = zeroM(n)\n",
    "    U = A.copy()\n",
    "    for i in range(n):\n",
    "        L[i][i] = 1.0\n",
    "        for j in range(i+1, n):\n",
    "            scalar = U[j][i]/U[i][i]\n",
    "            L[j][i] = scalar\n",
    "            for k in range (n):\n",
    "                U[j][k] -= scalar* U[i][k]\n",
    "    return L, U\n",
    "            "
   ]
  },
  {
   "cell_type": "code",
   "execution_count": 6,
   "metadata": {},
   "outputs": [],
   "source": [
    "# find [Y], that [L][Y] = [I]\n",
    "def FindY(L):\n",
    "    n = L.shape[0]\n",
    "    Y = zeroM(n)\n",
    "    I = np.identity(n)\n",
    "    # for every column solve Ly = b\n",
    "    for i in range(n):\n",
    "        b = I[:, i]\n",
    "        y = np.zeros_like(b, dtype=np.float64)\n",
    "        for row in range(n):\n",
    "            y[row] = b[row]\n",
    "            for col in range(row):\n",
    "                y[row] -= L[row][col] * y[col]\n",
    "            y[row] /= L[row][row]\n",
    "        \n",
    "        Y[:, i] = y\n",
    "    return Y"
   ]
  },
  {
   "cell_type": "code",
   "execution_count": 7,
   "metadata": {},
   "outputs": [],
   "source": [
    "# find [X], that [Y] = [U][X]\n",
    "def FindX(Y, U):\n",
    "    n = U.shape[0]\n",
    "    X = np.zeros_like(Y)    \n",
    "    # For every column, solve Ux = y\n",
    "    for i in range(Y.shape[1]):\n",
    "        y = Y[:, i]\n",
    "        x = np.zeros_like(y, dtype=np.float64)\n",
    "        for row in reversed(range(n)):\n",
    "            x[row] = y[row]\n",
    "            for col in range(row + 1, n):\n",
    "                x[row] -= U[row][col] * x[col]\n",
    "            x[row] /= U[row][row]\n",
    "        \n",
    "        X[:, i] = x\n",
    "    \n",
    "    return X"
   ]
  },
  {
   "cell_type": "code",
   "execution_count": 8,
   "metadata": {},
   "outputs": [],
   "source": [
    "# Find inverse using LU decomposition\n",
    "# to find A-1, that [A][A-1] = [I]\n",
    "# step1: using [A] = [L][U]\n",
    "# step2: find [Y], that [Y] = [U][A-1] => [A][A-1] = [L][U][A-1] = [L][Y] = [I]\n",
    "# step3: find [X] = [A-1], that [Y] = [U][X]\n",
    "def FindInverse(A):\n",
    "    # step1: using [A] = [L][U]\n",
    "    L, U = LUDecomposition(A)\n",
    "    # step2: find [Y], that [L][Y] = [I]\n",
    "    Y = FindY(L)\n",
    "    # step3: find [X], that [Y] = [U][X]\n",
    "    Inverse = FindX(Y,U)\n",
    "    \n",
    "    return Inverse\n",
    "    "
   ]
  },
  {
   "cell_type": "code",
   "execution_count": 9,
   "metadata": {},
   "outputs": [],
   "source": [
    "# design matrix phi\n",
    "#|..., x1^2, x1^1, 1|\n",
    "#|..., x2^2, x2^1, 1|\n",
    "#|..., x3^2, x3^1, 1|\n",
    "def phiM(A,N):\n",
    "    m = len(A[0])    \n",
    "    M = np.zeros((m,N))\n",
    "    for i in range(len(M)):\n",
    "        for j in range(N):\n",
    "            M[i][N-1-j] = A[0][i]**j\n",
    "    return M"
   ]
  },
  {
   "cell_type": "markdown",
   "metadata": {},
   "source": [
    "### Output"
   ]
  },
  {
   "cell_type": "code",
   "execution_count": 10,
   "metadata": {},
   "outputs": [],
   "source": [
    "# output of LSE\n",
    "def Output(X,N):\n",
    "    print(\"Fitting line: \", end=\"\")\n",
    "    for idx, item in enumerate(X.flat):\n",
    "        if idx== N-1:\n",
    "            print(item)\n",
    "        else:\n",
    "            print(f\"{item} X^{N-1-idx}\",end=\" + \")"
   ]
  },
  {
   "cell_type": "code",
   "execution_count": 11,
   "metadata": {},
   "outputs": [],
   "source": [
    "# Error = ((phix-b)^2+ lambda|x|^2)\n",
    "def Error(phi, b, X, N, lambda_value,method):\n",
    "    error = 0.0\n",
    "    for i in range(len(phi)):\n",
    "        y_pred = 0.0\n",
    "        for j in range(N):\n",
    "            y_pred += phi[i][j] * X[j]\n",
    "        error += (y_pred - b[i])**2\n",
    "    if method==1:\n",
    "        for j in range(N):\n",
    "            error += lambda_value * (X[j]**2)\n",
    "    elif method ==2:\n",
    "        for j in range(N):\n",
    "            error += lambda_value * (np.abs(X[j]))\n",
    "    print(f\"Total error: {error}\")  "
   ]
  },
  {
   "cell_type": "markdown",
   "metadata": {},
   "source": [
    "### Main"
   ]
  },
  {
   "cell_type": "code",
   "execution_count": 15,
   "metadata": {},
   "outputs": [
    {
     "name": "stdout",
     "output_type": "stream",
     "text": [
      "File_name: testfile.txt\n",
      "The number of polynomial bases n: 3\n",
      "Lambda for rLSE and Steepest Descent: 10000\n",
      "Max iteration for Steepest Descent: 10000\n",
      "Learning rate for Steepest Descent: 0.00001\n",
      " \n",
      "LSE:\n",
      "Fitting line: 0.834533282700286 X^2 + 0.09314819831918818 X^1 + 0.046950699273469274\n",
      "Total error: 29723.00604249309\n",
      "\n",
      "Steepest descent:\n",
      "Fitting line: 1.67348596432416 X^2 + -0.03488482199691706 X^1 + 0.056732763573644124\n",
      "Total error: 29361.506124128417\n",
      "\n",
      "Newton's method:\n",
      "Fitting line: 3.0238533934865712 X^2 + 4.906190263863799 X^1 + -0.2314017560877098\n",
      "Total error: 26.55995949933308\n"
     ]
    },
    {
     "data": {
      "image/png": "[encoded data removed]",
      "text/plain": [
       "<Figure size 432x648 with 3 Axes>"
      ]
     },
     "metadata": {
      "needs_background": "light"
     },
     "output_type": "display_data"
    }
   ],
   "source": [
    "# Input parameters\n",
    "file_name = input(\"File_name: \") # testfile.txt\n",
    "N = int(input(\"The number of polynomial bases n: \"))\n",
    "lambda_ = float(input(\"Lambda for rLSE and Steepest Descent: \"))\n",
    "max_it = int(input(\"Max iteration for Steepest Descent: \")) # 1000\n",
    "lr = float(input(\"Learning rate for Steepest Descent: \")) # 0.0001\n",
    "print(\" \")\n",
    "# read data\n",
    "data_points, A, b = ReadFile(file_name)\n",
    "size = len(A[0])\n",
    "phi = phiM(A,N)\n",
    "phiT = phi.T\n",
    "\n",
    "# rLSE\n",
    "# X = (phiT*phi+ lambda*I)^-1*phiT*b\n",
    "Inverse = FindInverse(np.dot(phiT, phi) +lambdaM(N, lambda_))\n",
    "X1 = np.squeeze(np.dot(np.dot(Inverse, phiT), b))\n",
    "b = np.squeeze(b)\n",
    "method =1\n",
    "print('LSE:')\n",
    "Output(X1,N)\n",
    "Error(phi, b, X1, N, lambda_, method)\n",
    "\n",
    "# Steepest descent\n",
    "# x <- x - lr*(grad_LSE + grad_L1)\n",
    "# x <- x - lr*(2PhiT(Phix-b)+ lambda sign x)\n",
    "X2 = np.zeros(N)\n",
    "for _ in range(max_it):\n",
    "    grad_LSE = 2 * np.dot(phiT, (np.dot(phi, X2) - b))\n",
    "    grad_L1 = lambda_ * np.sign(X2)\n",
    "    grad = grad_LSE + grad_L1\n",
    "    X2 -= lr * grad\n",
    "method = 2\n",
    "print('\\nSteepest descent:')\n",
    "Output(X2,N)\n",
    "Error(phi, b, X2, N, lambda_,method)\n",
    "\n",
    "# Newton's method\n",
    "# X <- X - Hessian^-1* gradient(X)\n",
    "# Hessian = 2phiTphi\n",
    "# gradient = 2phiTphix-2phiTb\n",
    "X3 = np.zeros(N)\n",
    "gradient = 2*np.dot(np.dot(phiT,phi),X3) - 2*np.dot(phiT,b)\n",
    "hessian = 2* np.dot(phiT,phi)\n",
    "hessian_inv = FindInverse(hessian)\n",
    "X3 = X3 - np.dot(hessian_inv,gradient)\n",
    "method = 3\n",
    "print(\"\\nNewton's method:\")\n",
    "Output(X3,N)\n",
    "Error(phi, b, X3, N, lambda_,method )\n",
    "\n",
    "# Visualize\n",
    "titles = ['rLSE', 'Steepen gradient', 'Newton method']\n",
    "\n",
    "plt.figure(figsize=(6, 9))\n",
    "\n",
    "for i, (coeffs, title) in enumerate(zip([X1, X2, X3], titles)):\n",
    "    plt.subplot(3, 1, i+1)\n",
    "    # Plot data points\n",
    "    plt.scatter(A, b, color='blue', label='Data Points')\n",
    "\n",
    "    # Plot curve\n",
    "    x_range = np.linspace(min(A[0]), max(A[0]), 500)  # Adjust x_range calculation\n",
    "    y_range = np.polyval(coeffs, x_range)\n",
    "    plt.plot(x_range, y_range, color='red')\n",
    "    \n",
    "    plt.title(title)\n",
    "    \n",
    "plt.tight_layout()  # Adjust layout to prevent overlap\n",
    "plt.show()"
   ]
  },
  {
   "cell_type": "code",
   "execution_count": null,
   "metadata": {},
   "outputs": [],
   "source": []
  }
 ],
 "metadata": {
  "kernelspec": {
   "display_name": "Python 3",
   "language": "python",
   "name": "python3"
  },
  "language_info": {
   "codemirror_mode": {
    "name": "ipython",
    "version": 3
   },
   "file_extension": ".py",
   "mimetype": "text/x-python",
   "name": "python",
   "nbconvert_exporter": "python",
   "pygments_lexer": "ipython3",
   "version": "3.8.5"
  }
 },
 "nbformat": 4,
 "nbformat_minor": 4
}
