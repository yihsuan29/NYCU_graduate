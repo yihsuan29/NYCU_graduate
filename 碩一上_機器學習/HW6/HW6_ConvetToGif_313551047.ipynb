{
 "cells": [
  {
   "cell_type": "code",
   "execution_count": 2,
   "metadata": {},
   "outputs": [
    {
     "name": "stdout",
     "output_type": "stream",
     "text": [
      "GIF created: ./result\\Image1_2clusters_kmeans++.gif\n",
      "GIF created: ./result\\Image1_2clusters_random.gif\n",
      "GIF created: ./result\\Image1_3clusters_kmeans++.gif\n",
      "GIF created: ./result\\Image1_3clusters_random.gif\n",
      "GIF created: ./result\\Image1_4clusters_kmeans++.gif\n",
      "GIF created: ./result\\Image1_4clusters_random.gif\n",
      "GIF created: ./result\\Image2_2clusters_kmeans++.gif\n",
      "GIF created: ./result\\Image2_2clusters_random.gif\n",
      "GIF created: ./result\\Image2_3clusters_kmeans++.gif\n",
      "GIF created: ./result\\Image2_3clusters_random.gif\n",
      "GIF created: ./result\\Image2_4clusters_kmeans++.gif\n",
      "GIF created: ./result\\Image2_4clusters_random.gif\n",
      "GIF created: ./result\\Image1_2clusters_kmeans++_Normalized Cut.gif\n",
      "GIF created: ./result\\Image1_2clusters_kmeans++_Ratio Cut.gif\n",
      "GIF created: ./result\\Image1_2clusters_random_Normalized Cut.gif\n",
      "GIF created: ./result\\Image1_2clusters_random_Ratio Cut.gif\n",
      "GIF created: ./result\\Image1_3clusters_kmeans++_Normalized Cut.gif\n",
      "GIF created: ./result\\Image1_3clusters_kmeans++_Ratio Cut.gif\n",
      "GIF created: ./result\\Image1_3clusters_random_Normalized Cut.gif\n",
      "GIF created: ./result\\Image1_3clusters_random_Ratio Cut.gif\n",
      "GIF created: ./result\\Image2_2clusters_kmeans++_Normalized Cut.gif\n",
      "GIF created: ./result\\Image2_2clusters_kmeans++_Ratio Cut.gif\n",
      "GIF created: ./result\\Image2_2clusters_random_Normalized Cut.gif\n",
      "GIF created: ./result\\Image2_2clusters_random_Ratio Cut.gif\n",
      "GIF created: ./result\\Image2_3clusters_kmeans++_Normalized Cut.gif\n",
      "GIF created: ./result\\Image2_3clusters_kmeans++_Ratio Cut.gif\n",
      "GIF created: ./result\\Image2_3clusters_random_Normalized Cut.gif\n",
      "GIF created: ./result\\Image2_3clusters_random_Ratio Cut.gif\n"
     ]
    }
   ],
   "source": [
    "import os\n",
    "from PIL import Image\n",
    "\n",
    "main_folder = './result'\n",
    "\n",
    "for folder in os.listdir(main_folder):\n",
    "    folder_path = os.path.join(main_folder, folder)\n",
    "    if os.path.isdir(folder_path):\n",
    "        for c_folder in os.listdir(folder_path):\n",
    "            c_folder_path = os.path.join(folder_path, c_folder)\n",
    "            if os.path.isdir(c_folder_path):\n",
    "                \n",
    "                image_files = [f for f in os.listdir(c_folder_path) if f.endswith('.jpg')]\n",
    "                image_files.sort(key=lambda x: int(os.path.splitext(x)[0]))\n",
    "                images = []\n",
    "\n",
    "                for image_file in image_files:\n",
    "                    image_path = os.path.join(c_folder_path, image_file)\n",
    "                    img = Image.open(image_path)\n",
    "                    images.append(img)\n",
    "\n",
    "                if images:\n",
    "                    gif_path = os.path.join(main_folder, f\"{c_folder}.gif\")\n",
    "                    images[0].save(gif_path, save_all=True, append_images=images[1:], duration=500, loop=0)\n",
    "                    print(f\"GIF created: {gif_path}\")\n",
    "                else:\n",
    "                    print(f\"No .jpg images found in {c_folder_path}\")\n"
   ]
  },
  {
   "cell_type": "code",
   "execution_count": null,
   "metadata": {},
   "outputs": [],
   "source": []
  }
 ],
 "metadata": {
  "kernelspec": {
   "display_name": "Python 3",
   "language": "python",
   "name": "python3"
  },
  "language_info": {
   "codemirror_mode": {
    "name": "ipython",
    "version": 3
   },
   "file_extension": ".py",
   "mimetype": "text/x-python",
   "name": "python",
   "nbconvert_exporter": "python",
   "pygments_lexer": "ipython3",
   "version": "3.8.5"
  }
 },
 "nbformat": 4,
 "nbformat_minor": 4
}
