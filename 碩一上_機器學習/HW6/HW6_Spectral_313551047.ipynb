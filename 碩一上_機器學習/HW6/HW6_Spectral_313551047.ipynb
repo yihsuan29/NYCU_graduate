{
 "cells": [
  {
   "cell_type": "code",
   "execution_count": null,
   "metadata": {
    "id": "oDn8KWRPeoS9"
   },
   "outputs": [],
   "source": [
    "import numpy as np\n",
    "import cv2\n",
    "from scipy.spatial.distance import cdist\n",
    "import matplotlib.pyplot as plt\n",
    "import os\n",
    "from numpy import linalg as LA\n",
    "from numpy.linalg import inv"
   ]
  },
  {
   "cell_type": "markdown",
   "metadata": {
    "id": "ovFJGNh-eoS-"
   },
   "source": [
    "## Load Image"
   ]
  },
  {
   "cell_type": "code",
   "execution_count": null,
   "metadata": {
    "id": "dD9HJ6KneoS_"
   },
   "outputs": [],
   "source": [
    "def LoadImg(path):\n",
    "    img = cv2.imread(path)\n",
    "    return img.reshape(imgSize, 3)\n",
    "\n",
    "imgL = 100\n",
    "imgSize = imgL*imgL\n",
    "imgs = []\n",
    "for i in range(2):\n",
    "    imgs.append(LoadImg(f\"./data/image{i+1}.png\"))"
   ]
  },
  {
   "cell_type": "markdown",
   "metadata": {
    "id": "PyuZcUr-eoS_"
   },
   "source": [
    "## Kernel\n",
    "$$K(x,x') = e^{-\\gamma_s||S(x)-S(x')||^2} *  e^{-\\gamma_c||C(x)-C(x')||^2}$$"
   ]
  },
  {
   "cell_type": "code",
   "execution_count": null,
   "metadata": {
    "id": "7kLA2AEoeoTA"
   },
   "outputs": [],
   "source": [
    "def Kernel(img):\n",
    "    K = np.zeros((imgSize,imgSize))\n",
    "    # Spetial distance\n",
    "    pos = np.array([(p // imgL, p % imgL) for p in range(imgSize)])\n",
    "    Sd = cdist(pos, pos, metric='sqeuclidean')\n",
    "    # Color distance\n",
    "    Cd = cdist(img, img, metric='sqeuclidean')\n",
    "    kernel = np.exp(-Gamma_s * Sd) * np.exp(-Gamma_c * Cd)\n",
    "    return kernel"
   ]
  },
  {
   "cell_type": "markdown",
   "metadata": {
    "id": "Ik3giTXxeoTA"
   },
   "source": [
    "## Eigen Decomposition"
   ]
  },
  {
   "cell_type": "code",
   "execution_count": null,
   "metadata": {
    "id": "t9pWMuRseoTA"
   },
   "outputs": [],
   "source": [
    "def EigenDecomp(L):\n",
    "    eigenvalues, eigenvectors = LA.eig(L)\n",
    "    sorted_idx = np.argsort(eigenvalues)\n",
    "    return eigenvectors[:, sorted_idx[1:(K + 1)]].real"
   ]
  },
  {
   "cell_type": "code",
   "execution_count": null,
   "metadata": {
    "id": "QvhVtEQpeoTB"
   },
   "outputs": [],
   "source": [
    "def Normalized(L,D):\n",
    "    D_inv_sqrt = np.diag(1 / np.sqrt(np.diag(D)))\n",
    "    L_sym = D_inv_sqrt @ L @ D_inv_sqrt\n",
    "    T = EigenDecomp(L_sym)\n",
    "\n",
    "    H = D_inv_sqrt @ T\n",
    "    return H"
   ]
  },
  {
   "cell_type": "markdown",
   "metadata": {
    "id": "wOZFdSaUeoTB"
   },
   "source": [
    "## Kmeans clustering\n",
    "1. Initialize k cluster center$\\mu_{k}$\n",
    "2. Estep: fixed mean, assigned $r_{nk}$ to the closest cluster\n",
    "3. Mstep: fixed $r_{nk}$, calculate new center\n",
    "4. Repeat EM until $\\mu_{k}$ not changed"
   ]
  },
  {
   "cell_type": "code",
   "execution_count": null,
   "metadata": {
    "id": "w7aSE1GjeoTB"
   },
   "outputs": [],
   "source": [
    "def Init(X):\n",
    "    # Initial Centers, save value\n",
    "    # (1) random initialize\n",
    "    M = []\n",
    "    R = np.zeros((imgSize, K))\n",
    "    if Mode == 0:\n",
    "        M_idx = np.random.choice(imgSize, size=K, replace=False)\n",
    "        M = X[M_idx]\n",
    "        R[M_idx]=1\n",
    "\n",
    "    # (2) Kmeans++\n",
    "    else:\n",
    "        M = []\n",
    "        m0_idx = np.random.choice(imgSize)\n",
    "        M.append(X[m0_idx])\n",
    "        R[m0_idx,0]=1\n",
    "        for k in range(1, K):\n",
    "            min_d = []\n",
    "            for x in X:\n",
    "                mean_d = [np.linalg.norm(x - m) for m in M]\n",
    "                min_dist = min(mean_d)\n",
    "                min_d.append(min_dist**2)\n",
    "\n",
    "            min_d = np.array(min_d)\n",
    "            # Roulette selection\n",
    "            p = min_d/np.sum(min_d)\n",
    "            cumulative_p = np.cumsum(p)\n",
    "            r = np.random.rand()\n",
    "            next_c = np.where(cumulative_p >= r)[0][0]\n",
    "\n",
    "            M.append(X[next_c])\n",
    "            R[next_c,k]=1\n",
    "    return M, R\n"
   ]
  },
  {
   "cell_type": "code",
   "execution_count": null,
   "metadata": {
    "id": "tThjUy6VeoTB"
   },
   "outputs": [],
   "source": [
    "def NewCluster(X,M):\n",
    "    R_new = np.zeros((imgSize, K))\n",
    "    for n in range (imgSize):\n",
    "        d = np.sum((X[n] - M) ** 2, axis=1)\n",
    "        c = np.argmin(d)\n",
    "        R_new[n,c] = 1\n",
    "    return R_new"
   ]
  },
  {
   "cell_type": "code",
   "execution_count": null,
   "metadata": {
    "id": "g59C84pKeoTC"
   },
   "outputs": [],
   "source": [
    "def NewMean(X,R):\n",
    "    M_new = []\n",
    "    for k in range(K):\n",
    "        Ck = X[R[:, k] == 1]\n",
    "        m = np.mean(Ck, axis=0)\n",
    "        M_new.append(m)\n",
    "    return np.array(M_new)\n"
   ]
  },
  {
   "cell_type": "code",
   "execution_count": null,
   "metadata": {
    "id": "PExwb45XeoTC"
   },
   "outputs": [],
   "source": [
    "def Kmeans(X):\n",
    "    M_last, R= Init(X)\n",
    "    diff = imgSize\n",
    "    iter_=1\n",
    "\n",
    "    while diff>0:\n",
    "        # Estep\n",
    "        R = NewCluster(X, M_last)\n",
    "\n",
    "        # Mstep\n",
    "        M = NewMean(X,R)\n",
    "\n",
    "        diff = np.sum(np.abs(M-M_last))\n",
    "        print(f\"Iteration:{iter_}, Difference: {diff}\")\n",
    "        VizAll(img, U, R, iter_, f\"{CutMap[Cut]} Spectral, Clusters:{K}, Init:{ModeMap[Mode]}\")\n",
    "\n",
    "        if diff==0:\n",
    "            break\n",
    "        M_last = M\n",
    "        iter_+=1\n",
    "\n"
   ]
  },
  {
   "cell_type": "markdown",
   "metadata": {
    "id": "VfIAlB1UeoTC"
   },
   "source": [
    "## Viz"
   ]
  },
  {
   "cell_type": "code",
   "execution_count": null,
   "metadata": {
    "id": "z7jIuwyzeoTC"
   },
   "outputs": [],
   "source": [
    "Color = [[0, 0, 255],    #blue\n",
    "         [255, 165, 0],  #orange\n",
    "         [0, 255, 0],    #green\n",
    "         [255, 0, 0]]   #red\n",
    "\n",
    "ColorE = ['blue','orange', 'green','red']\n",
    "\n",
    "def VizAll(img, U, R, iter_, title):\n",
    "    # Clustered img\n",
    "    img_iter = np.zeros((imgL, imgL, 3), dtype=np.uint8)\n",
    "    cluster = np.argmax(R, axis=1)\n",
    "    for n in range(imgSize):\n",
    "        img_iter[n // imgL][n % imgL] = Color[cluster[n]]\n",
    "\n",
    "    # Eigenspace scatter data\n",
    "    px, py, pz = [], [], []\n",
    "    for _ in range(K):\n",
    "        px.append([])\n",
    "        py.append([])\n",
    "        if K == 3:\n",
    "            pz.append([])\n",
    "\n",
    "    for n in range(imgSize):\n",
    "        px[cluster[n]].append(U[n][0])\n",
    "        py[cluster[n]].append(U[n][1])\n",
    "        if K == 3:\n",
    "            pz[cluster[n]].append(U[n][2])\n",
    "\n",
    "\n",
    "\n",
    "    if K==2:\n",
    "        fig = plt.figure(figsize=(9, 3.5))\n",
    "        fig.suptitle(title, fontsize=14, y=0.96)\n",
    "    else:\n",
    "        fig = plt.figure(figsize=(9, 4))\n",
    "        fig.suptitle(title, fontsize=14, y=0.98)\n",
    "\n",
    "    ax1 = fig.add_subplot(1,3,1)\n",
    "    img_ = cv2.cvtColor(img.reshape(imgL, imgL, 3), cv2.COLOR_RGB2BGR)\n",
    "    ax1.imshow(img_)\n",
    "    ax1.axis('off')\n",
    "\n",
    "    ax2 = fig.add_subplot(1,3,2)\n",
    "    ax2.imshow(img_iter)\n",
    "    ax2.axis('off')\n",
    "    ax2.set_title(f\"Iteration: {iter_}\")\n",
    "\n",
    "    if K == 2:\n",
    "        ax3 = fig.add_subplot(1,3,3)\n",
    "        for k in range(K):\n",
    "            ax3.scatter(px[k], py[k], c=ColorE[k])\n",
    "        ax3.set_title(\"Eigenspace Clustering\")\n",
    "    elif K == 3:\n",
    "        ax3 = fig.add_subplot(1,3,3, projection='3d')\n",
    "        for k in range(K):\n",
    "            ax3.scatter(px[k], py[k], pz[k], c=ColorE[k])\n",
    "        ax3.set_title(\"Eigenspace Clustering\")\n",
    "\n",
    "    plt.tight_layout()\n",
    "    plt.show()\n",
    "    fig.savefig(f'{Outpath}/{iter_}.jpg')\n"
   ]
  },
  {
   "cell_type": "markdown",
   "metadata": {
    "id": "YDgA7bu8eoTC"
   },
   "source": [
    "## Spectral Clustering\n",
    "Ratio cut:\n",
    "1. Use kernel to construct similarity graph, W is the weighted adjency matrix\n",
    "2. Compute  $L = D-W$\n",
    "3. Find the eigenvector $u_1, u_2,...,u_k$ of $L $, $U = [u_1 u_2...u_k]$\n",
    "5. $y_i$ is the i-th row of U\n",
    "6. cluster points $y_i$ with kmeans\n",
    "7. Output: $A_1, A_2,...,A_k, A_i = \\{j|y_j\\in Ci\\}$\n",
    "\n",
    "Normalizsd cut:\n",
    "1. Use kernel to construct similarity graph, W is the weighted adjency matrix\n",
    "2. Compute  $L_{sym} = I - D^{\\frac{1}{2}}WD^{\\frac{1}{2}}$\n",
    "3. Find the eigenvector $u_1, u_2,...,u_k$ of $L_{sym}$, $U = [u_1 u_2...u_k]$\n",
    "4. Calculate T that $ t_{ij} = \\frac{u_{ij}}{\\sqrt{\\sum_k u_{ik}^2}}$\n",
    "5. $y_i$ is the i-th row of T\n",
    "6. cluster points $y_i$ with kmeans\n",
    "7. Output: $A_1, A_2,...,A_k, A_i = \\{j|y_j\\in Ci\\}$"
   ]
  },
  {
   "cell_type": "code",
   "execution_count": null,
   "metadata": {
    "colab": {
     "base_uri": "https://localhost:8080/",
     "height": 1000
    },
    "id": "FRpsU4BteoTC",
    "outputId": "9546cca3-19c1-483a-f0fe-c28f17da3e68"
   },
   "outputs": [],
   "source": [
    "Ks = [2,3]\n",
    "Modes = [0, 1]\n",
    "ModeMap = {0:\"random\", 1:\"kmeans++\"}\n",
    "Cuts = [0, 1]\n",
    "CutMap = {0:\"Ratio Cut\", 1:\"Normalized Cut\"}\n",
    "CutMap2 = {0:\"Ratio\", 1:\"Normalized\"}\n",
    "\n",
    "for img_idx in range(2):\n",
    "    img = imgs[img_idx]\n",
    "    for K in Ks:\n",
    "        # Construct plot\n",
    "        Gamma_s = 0.0001\n",
    "        Gamma_c = 0.001\n",
    "\n",
    "        W = Kernel(img)\n",
    "        D = np.diag(np.sum(W,axis = 1))\n",
    "        L = D - W\n",
    "\n",
    "        for Cut in Cuts:\n",
    "            if Cut == 0:\n",
    "                    U = EigenDecomp(L)\n",
    "            else:\n",
    "                    U = Normalized(L,D)\n",
    "            Outpath2 = f\"./result/Spectral/U\"\n",
    "            try:\n",
    "                os.mkdir(Outpath2)\n",
    "            except:\n",
    "                pass\n",
    "            np.save(os.path.join(Outpath2, f\"Image{img_idx+1}_{K}clusters_{CutMap2[Cut]}.npy\"), U)\n",
    "\n",
    "            for Mode in Modes:\n",
    "                Outpath = f\"./result/Spectral/Image{img_idx+1}_{K}clusters_{ModeMap[Mode]}_{CutMap[Cut]}\"\n",
    "                try:\n",
    "                    os.mkdir(Outpath)\n",
    "                except:\n",
    "                    pass\n",
    "                Kmeans(U)\n"
   ]
  }
 ],
 "metadata": {
  "colab": {
   "provenance": []
  },
  "kernelspec": {
   "display_name": "Python 3",
   "language": "python",
   "name": "python3"
  },
  "language_info": {
   "codemirror_mode": {
    "name": "ipython",
    "version": 3
   },
   "file_extension": ".py",
   "mimetype": "text/x-python",
   "name": "python",
   "nbconvert_exporter": "python",
   "pygments_lexer": "ipython3",
   "version": "3.8.5"
  }
 },
 "nbformat": 4,
 "nbformat_minor": 1
}
