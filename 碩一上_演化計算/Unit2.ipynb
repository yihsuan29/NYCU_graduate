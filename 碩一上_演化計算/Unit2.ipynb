{
 "cells": [
  {
   "cell_type": "code",
   "execution_count": 1,
   "metadata": {},
   "outputs": [],
   "source": [
    "import random\n",
    "import copy"
   ]
  },
  {
   "cell_type": "code",
   "execution_count": 2,
   "metadata": {},
   "outputs": [],
   "source": [
    "# Initialize a random population\n",
    "def initialize_population(pop_size):\n",
    "    population = []\n",
    "    for _ in range(pop_size):\n",
    "        individual = random.sample(range(BOARD_SIZE), BOARD_SIZE)\n",
    "        population.append(individual)\n",
    "    return population"
   ]
  },
  {
   "cell_type": "code",
   "execution_count": 3,
   "metadata": {},
   "outputs": [],
   "source": [
    "# Calculate the penalty for a given individual\n",
    "def calculate_penalty(individual):\n",
    "    penalty = 0\n",
    "    for i in range(BOARD_SIZE):\n",
    "        for j in range(i + 1, BOARD_SIZE):\n",
    "            if individual[i] == individual[j] or abs(individual[i] - individual[j]) == j - i:\n",
    "                penalty += 1\n",
    "    return penalty"
   ]
  },
  {
   "cell_type": "code",
   "execution_count": 4,
   "metadata": {},
   "outputs": [],
   "source": [
    "# Calculate the fitness of an individual (inverse of penalty)\n",
    "def calculate_fitness(individual):\n",
    "    penalty = calculate_penalty(individual)\n",
    "    if penalty == 0:\n",
    "        return float('inf')  # Ideal fitness when no penalties\n",
    "    return 1 / (1 + penalty)"
   ]
  },
  {
   "cell_type": "code",
   "execution_count": 5,
   "metadata": {},
   "outputs": [],
   "source": [
    "# Tournament Selection: Select the best individual from a random set\n",
    "def tournament_selection(population, tournament_size=5):\n",
    "    selected = random.sample(population, tournament_size)\n",
    "    selected.sort(key=lambda x: calculate_fitness(x), reverse=True)\n",
    "    return selected[0], selected[1]  # Return the top two individuals\n"
   ]
  },
  {
   "cell_type": "code",
   "execution_count": 6,
   "metadata": {},
   "outputs": [],
   "source": [
    "# Single-Point Crossover\n",
    "def single_point_crossover(parent1, parent2):\n",
    "    crossover_point = random.randint(1, BOARD_SIZE - 1)\n",
    "    child1 = parent1[:crossover_point] + parent2[crossover_point:]\n",
    "    child2 = parent2[:crossover_point] + parent1[crossover_point:]\n",
    "    return child1, child2"
   ]
  },
  {
   "cell_type": "code",
   "execution_count": 7,
   "metadata": {},
   "outputs": [],
   "source": [
    "# Cycle Crossover (CX)\n",
    "def cycle_crossover(parent1, parent2):\n",
    "    child1 = [-1] * BOARD_SIZE\n",
    "    child2 = [-1] * BOARD_SIZE\n",
    "    cycle_start = 0\n",
    "\n",
    "    while -1 in child1:\n",
    "        if child1[cycle_start] == -1:\n",
    "            cycle_value = parent1[cycle_start]\n",
    "            while parent2[cycle_start] != cycle_value:\n",
    "                cycle_start = parent1.index(parent2[cycle_start])\n",
    "                cycle_value = parent1[cycle_start]\n",
    "            child1[cycle_start] = parent1[cycle_start]\n",
    "            child2[cycle_start] = parent2[cycle_start]\n",
    "    return child1, child2\n"
   ]
  },
  {
   "cell_type": "code",
   "execution_count": 8,
   "metadata": {},
   "outputs": [],
   "source": [
    "# Order-Based Crossover (OX)\n",
    "def order_based_crossover(parent1, parent2):\n",
    "    start, end = sorted(random.sample(range(BOARD_SIZE), 2))\n",
    "    child1 = [-1] * BOARD_SIZE\n",
    "    child2 = [-1] * BOARD_SIZE\n",
    "\n",
    "    # Copy the slice from parent1 to the child\n",
    "    child1[start:end+1] = parent1[start:end+1]\n",
    "    child2[start:end+1] = parent2[start:end+1]\n",
    "\n",
    "    # Fill the remaining positions with the genes from parent2 and parent1 respectively\n",
    "    p1_fill = [gene for gene in parent2 if gene not in child1]\n",
    "    p2_fill = [gene for gene in parent1 if gene not in child2]\n",
    "    \n",
    "    for i in range(BOARD_SIZE):\n",
    "        if child1[i] == -1:\n",
    "            child1[i] = p1_fill.pop(0)\n",
    "        if child2[i] == -1:\n",
    "            child2[i] = p2_fill.pop(0)\n",
    "\n",
    "    return child1, child2"
   ]
  },
  {
   "cell_type": "code",
   "execution_count": 9,
   "metadata": {},
   "outputs": [],
   "source": [
    "# Swap Mutation\n",
    "def swap_mutation(individual):\n",
    "    i, j = random.sample(range(BOARD_SIZE), 2)\n",
    "    individual[i], individual[j] = individual[j], individual[i]\n",
    "    return individual\n"
   ]
  },
  {
   "cell_type": "code",
   "execution_count": null,
   "metadata": {},
   "outputs": [],
   "source": [
    "# Swap Mutation\n",
    "def swap_mutation2(individual):\n",
    "    i, j = random.sample(range(BOARD_SIZE), 2)\n",
    "    individual[i], individual[j] = individual[j], individual[i]\n",
    "    m, n = random.sample(range(BOARD_SIZE), 2)\n",
    "    individual[m], individual[n] = individual[n], individual[m]\n",
    "    return individual"
   ]
  },
  {
   "cell_type": "code",
   "execution_count": 11,
   "metadata": {},
   "outputs": [],
   "source": [
    "def inversion_mutation(individual):\n",
    "    # Step 1: Choose two random points to define the subset range\n",
    "    idx1, idx2 = sorted(random.sample(range(len(individual)), 2))\n",
    "    \n",
    "    # Step 2: Reverse the subset within the selected range\n",
    "    individual[idx1:idx2+1] = individual[idx1:idx2+1][::-1]\n",
    "    \n",
    "    return individual"
   ]
  },
  {
   "cell_type": "code",
   "execution_count": 12,
   "metadata": {},
   "outputs": [],
   "source": [
    "# Replace less fit individuals\n",
    "def replace_population(population, new_individuals):\n",
    "    population.sort(key=lambda x: calculate_fitness(x), reverse=True)\n",
    "    for i in range(len(new_individuals)):\n",
    "        if calculate_fitness(new_individuals[i]) > calculate_fitness(population[i]):\n",
    "            population[i] = new_individuals[i]\n",
    "    return population"
   ]
  },
  {
   "cell_type": "code",
   "execution_count": 33,
   "metadata": {},
   "outputs": [],
   "source": [
    "# Main Genetic Algorithm Function\n",
    "def genetic_algorithm(flag,population,pop_size=100, generations=1000, crossover_method=None):\n",
    "\n",
    "    for generation in range(generations):\n",
    "        if generation%100 ==0:\n",
    "            print( generation)\n",
    "        new_population = []\n",
    "\n",
    "        # Perform Selection, Crossover, and Mutation\n",
    "        while len(new_population) < pop_size:\n",
    "            parent1, parent2 = tournament_selection(population)\n",
    "            \n",
    "            # Use the provided crossover method\n",
    "            child1, child2 = crossover_method(parent1, parent2)\n",
    "            \n",
    "            if flag==1:\n",
    "                # Apply mutation\n",
    "                child1 = swap_mutation(child1)\n",
    "                child2 = swap_mutation(child2)\n",
    "\n",
    "        # Replace old population with new individuals\n",
    "        population = replace_population(population, new_population)\n",
    "\n",
    "        # Check for a valid solution\n",
    "        best_individual = max(population, key=lambda x: calculate_fitness(x))\n",
    "        if calculate_fitness(best_individual) == float('inf'):\n",
    "            print(f\"Solution found in generation {generation}\")\n",
    "            print(f\"Best individual: {best_individual}\")\n",
    "            break\n",
    "    else:\n",
    "        print(\"Solution not found within the maximum number of generations.\")\n",
    "\n",
    "\n",
    "\n"
   ]
  },
  {
   "cell_type": "code",
   "execution_count": 31,
   "metadata": {},
   "outputs": [],
   "source": [
    "# Run the genetic algorithm with different crossover methods\n",
    "def run_experiment(pop_size=100):\n",
    "    pop1 = initialize_population(pop_size)\n",
    "        \n",
    "    # Experiment 3: Using Order-Based Crossover (OX)\n",
    "    print(\"\\nOX, Swap:\")\n",
    "    genetic_algorithm(1,pop1,pop_size=100, generations=1000, crossover_method=order_based_crossover)\n",
    "\n",
    "    \n",
    "    "
   ]
  },
  {
   "cell_type": "code",
   "execution_count": 32,
   "metadata": {},
   "outputs": [
    {
     "name": "stdout",
     "output_type": "stream",
     "text": [
      "\n",
      "OX, Swap:\n",
      "0\n",
      "100\n",
      "200\n",
      "300\n",
      "Solution found in generation 369\n",
      "Best individual: [13, 19, 22, 14, 27, 2, 5, 12, 29, 24, 26, 23, 6, 3, 0, 11, 16, 10, 21, 4, 9, 1, 28, 7, 25, 20, 18, 8, 15, 17]\n",
      "\n",
      "OX, inverse\n",
      "0\n",
      "100\n",
      "200\n",
      "300\n",
      "400\n",
      "Solution found in generation 495\n",
      "Best individual: [7, 13, 21, 25, 12, 3, 27, 10, 1, 9, 14, 28, 23, 0, 16, 11, 5, 26, 24, 18, 2, 4, 19, 8, 29, 15, 6, 22, 20, 17]\n"
     ]
    }
   ],
   "source": [
    "# Define the size of the board\n",
    "BOARD_SIZE = 30\n",
    "# Run the three experiments\n",
    "run_experiment()\n"
   ]
  },
  {
   "cell_type": "code",
   "execution_count": null,
   "metadata": {},
   "outputs": [],
   "source": []
  }
 ],
 "metadata": {
  "kernelspec": {
   "display_name": "Python 3",
   "language": "python",
   "name": "python3"
  },
  "language_info": {
   "codemirror_mode": {
    "name": "ipython",
    "version": 3
   },
   "file_extension": ".py",
   "mimetype": "text/x-python",
   "name": "python",
   "nbconvert_exporter": "python",
   "pygments_lexer": "ipython3",
   "version": "3.8.5"
  }
 },
 "nbformat": 4,
 "nbformat_minor": 4
}
