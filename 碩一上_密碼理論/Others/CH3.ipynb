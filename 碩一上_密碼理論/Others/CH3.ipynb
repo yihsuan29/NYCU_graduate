{
 "cells": [
  {
   "cell_type": "markdown",
   "metadata": {
    "id": "TCZWn0kJsiqZ"
   },
   "source": [
    "## a-1 mod n"
   ]
  },
  {
   "cell_type": "code",
   "execution_count": 1,
   "metadata": {
    "colab": {
     "base_uri": "https://localhost:8080/"
    },
    "executionInfo": {
     "elapsed": 1905,
     "status": "ok",
     "timestamp": 1731136028877,
     "user": {
      "displayName": "陳以瑄",
      "userId": "05941134565667133281"
     },
     "user_tz": -480
    },
    "id": "zvTvt2YBsiqe",
    "outputId": "9e3f6380-554f-4aa3-82fa-9bbb3df3e76e"
   },
   "outputs": [
    {
     "name": "stdout",
     "output_type": "stream",
     "text": [
      "t     | s       | r       | q      \n",
      "1     | 0       | 113     |\n",
      "0     | 1       | 35      |\n",
      "1     | -3      | 8       | 3      \n",
      "-4    | 13      | 3       | 4      \n",
      "9     | -29     | 2       | 2      \n",
      "-13   | 42      | 1       | 1      \n",
      "      |         | 0       | 2      \n",
      "The modular inverse of 35 mod 113 is: 42\n"
     ]
    }
   ],
   "source": [
    "def extended_euclidean(a, n):\n",
    "    # Initialize values\n",
    "    r1, r2 = n, a\n",
    "    t1, t2 = 1, 0  # t now holds the values previously held by s\n",
    "    s1, s2 = 0, 1  # s now holds the values previously held by t\n",
    "\n",
    "    # Print the initial header\n",
    "    print(f\"{'t':<5} | {'s':<7} | {'r':<7} | {'q':<7}\")\n",
    "    print(f\"{t1:<5} | {s1:<7} | {r1:<7} |\")\n",
    "    print(f\"{t2:<5} | {s2:<7} | {r2:<7} |\")\n",
    "\n",
    "    while r2 != 0:\n",
    "        q = r1 // r2  # Quotient\n",
    "        r = r1 - q * r2  # Remainder\n",
    "        r1, r2 = r2, r\n",
    "        t = t1 - q * t2\n",
    "        t1, t2 = t2, t\n",
    "        s = s1 - q * s2\n",
    "        s1, s2 = s2, s\n",
    "\n",
    "        if r2 ==0:\n",
    "            t=\"\"\n",
    "            s=\"\"\n",
    "        # Print s, t, r, q in the required format\n",
    "        print(f\"{t:<5} | {s:<7} | {r:<7} | {q:<7}\")\n",
    "\n",
    "    # At the end of the loop, r1 is the gcd and s1 is the modular inverse if r1 == 1\n",
    "    if r1 == 1:\n",
    "        return s1 % n  # Ensure the inverse is positive\n",
    "    else:\n",
    "        return None  # Inverse doesn't exist if gcd(a, n) != 1\n",
    "\n",
    "# Test case\n",
    "a = 35\n",
    "n = 113\n",
    "inverse = extended_euclidean(a, n)\n",
    "\n",
    "if inverse is not None:\n",
    "    print(f\"The modular inverse of {a} mod {n} is: {inverse}\")\n",
    "else:\n",
    "    print(f\"No modular inverse exists for {a} mod {n}\")\n"
   ]
  },
  {
   "cell_type": "markdown",
   "metadata": {
    "id": "NZREoRIGsiqj"
   },
   "source": [
    "## GCD"
   ]
  },
  {
   "cell_type": "code",
   "execution_count": 2,
   "metadata": {
    "executionInfo": {
     "elapsed": 65,
     "status": "ok",
     "timestamp": 1731136029407,
     "user": {
      "displayName": "陳以瑄",
      "userId": "05941134565667133281"
     },
     "user_tz": -480
    },
    "id": "5l1SbyKYsiqj"
   },
   "outputs": [],
   "source": [
    "def gcd(a, b):\n",
    "    print(f\"a:{a},b:{b}\")\n",
    "    while b:\n",
    "        a, b = b, a % b\n",
    "        print(f\"a:{a},b:{b}\")\n",
    "    return a"
   ]
  },
  {
   "cell_type": "markdown",
   "metadata": {
    "id": "AX3Bdj40siqk"
   },
   "source": [
    "## a^b mod n"
   ]
  },
  {
   "cell_type": "code",
   "execution_count": 3,
   "metadata": {
    "executionInfo": {
     "elapsed": 65,
     "status": "ok",
     "timestamp": 1731136029408,
     "user": {
      "displayName": "陳以瑄",
      "userId": "05941134565667133281"
     },
     "user_tz": -480
    },
    "id": "GP8OV6VHsiqk"
   },
   "outputs": [],
   "source": [
    "def square_and_multiply(a, b, n):\n",
    "    z = 1\n",
    "    a = a % n\n",
    "    print(f\"{'b':<2} |{'':<35}| {'z':<5}\")\n",
    "    print(f\"{'':<2} |{'':<35}| {z:<5}\")\n",
    "    for i in range(b.bit_length() - 1, -1, -1):\n",
    "        current_bit = (b >> i) & 1\n",
    "        if current_bit == 0:\n",
    "            sentence = f\"{z}*{z} mod {n}\"\n",
    "            z = (z * z) % n\n",
    "\n",
    "        else:\n",
    "            sentence = f\"{z}*{z}*{a} mod {n}\"\n",
    "            z = (z* z * a) % n\n",
    "\n",
    "        print(f\"{current_bit:<2} |{sentence:<35}| {z:<5}\")\n",
    "    return z\n"
   ]
  },
  {
   "cell_type": "code",
   "execution_count": 4,
   "metadata": {
    "colab": {
     "base_uri": "https://localhost:8080/"
    },
    "executionInfo": {
     "elapsed": 65,
     "status": "ok",
     "timestamp": 1731136029408,
     "user": {
      "displayName": "陳以瑄",
      "userId": "05941134565667133281"
     },
     "user_tz": -480
    },
    "id": "W9-MDOi4siql",
    "outputId": "47ce6727-bf97-4db3-bd73-9bf777118918"
   },
   "outputs": [
    {
     "name": "stdout",
     "output_type": "stream",
     "text": [
      "b  |                                   | z    \n",
      "   |                                   | 1    \n",
      "1  |1*1*3 mod 197                      | 3    \n",
      "1  |3*3*3 mod 197                      | 27   \n",
      "0  |27*27 mod 197                      | 138  \n",
      "0  |138*138 mod 197                    | 132  \n",
      "0  |132*132 mod 197                    | 88   \n",
      "1  |88*88*3 mod 197                    | 183  \n",
      "0  |183*183 mod 197                    | 196  \n"
     ]
    },
    {
     "data": {
      "text/plain": [
       "196"
      ]
     },
     "execution_count": 4,
     "metadata": {},
     "output_type": "execute_result"
    }
   ],
   "source": [
    "square_and_multiply(3, 98, 197)"
   ]
  },
  {
   "cell_type": "markdown",
   "metadata": {
    "id": "gEReq2zrsiql"
   },
   "source": [
    "## RSA"
   ]
  },
  {
   "cell_type": "code",
   "execution_count": 5,
   "metadata": {
    "executionInfo": {
     "elapsed": 57,
     "status": "ok",
     "timestamp": 1731136029408,
     "user": {
      "displayName": "陳以瑄",
      "userId": "05941134565667133281"
     },
     "user_tz": -480
    },
    "id": "5N4UaCKKsiqm"
   },
   "outputs": [],
   "source": [
    "def RSA_Key(p,q,e):\n",
    "    # Key\n",
    "    print(\"KEY:\")\n",
    "    print(f\"p = {p}\")\n",
    "    print(f\"q = {q}\")\n",
    "    n = p*q\n",
    "    print(f\"n = {n}\")\n",
    "    phi_n = (p-1)*(q-1)\n",
    "    print(f\"phi(n) = {phi_n}\")\n",
    "    print(f\"e = {e}\")\n",
    "    print(f\"e phi independent ={bool(phi_n%e!=0)}\")\n",
    "    print(\"\\nFind d:\")\n",
    "    d = extended_euclidean(e, phi_n)\n",
    "    print(f\"d = {d}\")\n",
    "    return d\n",
    "\n",
    "def RSA_Enc(m,e,n):\n",
    "    # Encryption\n",
    "    print(\"\\nEncryption:\")\n",
    "    print(f\"m = {m}\")\n",
    "    print(f\"gcd(m,n)={gcd(m,n)}\")\n",
    "    print(\"\\nFind c:\")\n",
    "    c = square_and_multiply(m, e,n)\n",
    "    print(f\"c = {m}^{e} mod {n}= {c}\")\n",
    "    return c\n",
    "\n",
    "def RSA_Dec(c,d,n):\n",
    "    # Decryption\n",
    "    print(\"\\nDecryption:\")\n",
    "    print(f\"c = {c}\")\n",
    "    print(\"Find m:\")\n",
    "    m = square_and_multiply(c, d,n)\n",
    "    print(f\"m = {c}^{d} mod {n}= {m}\")\n",
    "    return m"
   ]
  },
  {
   "cell_type": "code",
   "execution_count": 6,
   "metadata": {
    "colab": {
     "base_uri": "https://localhost:8080/"
    },
    "executionInfo": {
     "elapsed": 400,
     "status": "ok",
     "timestamp": 1731141509732,
     "user": {
      "displayName": "陳以瑄",
      "userId": "05941134565667133281"
     },
     "user_tz": -480
    },
    "id": "g_5cGNG-siqm",
    "outputId": "c73d64ef-7287-46aa-9146-9582d058fd4a"
   },
   "outputs": [
    {
     "name": "stdout",
     "output_type": "stream",
     "text": [
      "KEY:\n",
      "p = 317\n",
      "q = 547\n",
      "n = 173399\n",
      "phi(n) = 172536\n",
      "e = 17\n",
      "e phi independent =True\n",
      "\n",
      "Find d:\n",
      "t     | s       | r       | q      \n",
      "1     | 0       | 172536  |\n",
      "0     | 1       | 17      |\n",
      "1     | -10149  | 3       | 10149  \n",
      "-5    | 50746   | 2       | 5      \n",
      "6     | -60895  | 1       | 1      \n",
      "      |         | 0       | 2      \n",
      "d = 111641\n",
      "\n",
      "\n",
      "Encryption:\n",
      "m = 3175\n",
      "a:3175,b:173399\n",
      "a:173399,b:3175\n",
      "a:3175,b:1949\n",
      "a:1949,b:1226\n",
      "a:1226,b:723\n",
      "a:723,b:503\n",
      "a:503,b:220\n",
      "a:220,b:63\n",
      "a:63,b:31\n",
      "a:31,b:1\n",
      "a:1,b:0\n",
      "gcd(m,n)=1\n",
      "\n",
      "Find c:\n",
      "b  |                                   | z    \n",
      "   |                                   | 1    \n",
      "1  |1*1*3175 mod 173399                | 3175 \n",
      "0  |3175*3175 mod 173399               | 23483\n",
      "0  |23483*23483 mod 173399             | 42469\n",
      "0  |42469*42469 mod 173399             | 92962\n",
      "1  |92962*92962*3175 mod 173399        | 81306\n",
      "c = 3175^17 mod 173399= 81306\n",
      "\n",
      "Decryption:\n",
      "c = 81306\n",
      "Find m:\n",
      "b  |                                   | z    \n",
      "   |                                   | 1    \n",
      "1  |1*1*81306 mod 173399               | 81306\n",
      "1  |81306*81306*81306 mod 173399       | 141172\n",
      "0  |141172*141172 mod 173399           | 92918\n",
      "1  |92918*92918*81306 mod 173399       | 37744\n",
      "1  |37744*37744*81306 mod 173399       | 159527\n",
      "0  |159527*159527 mod 173399           | 132893\n",
      "1  |132893*132893*81306 mod 173399     | 127257\n",
      "0  |127257*127257 mod 173399           | 91242\n",
      "0  |91242*91242 mod 173399             | 43175\n",
      "0  |43175*43175 mod 173399             | 41375\n",
      "0  |41375*41375 mod 173399             | 95697\n",
      "0  |95697*95697 mod 173399             | 21023\n",
      "1  |21023*21023*81306 mod 173399       | 10363\n",
      "1  |10363*10363*81306 mod 173399       | 91824\n",
      "0  |91824*91824 mod 173399             | 120601\n",
      "0  |120601*120601 mod 173399           | 66480\n",
      "1  |66480*66480*81306 mod 173399       | 3175 \n",
      "m = 81306^111641 mod 173399= 3175\n",
      "\n",
      "\n",
      "Decryption:\n",
      "c = 2313\n",
      "Find m:\n",
      "b  |                                   | z    \n",
      "   |                                   | 1    \n",
      "1  |1*1*2313 mod 173399                | 2313 \n",
      "1  |2313*2313*2313 mod 173399          | 32061\n",
      "0  |32061*32061 mod 173399             | 171848\n",
      "1  |171848*171848*2313 mod 173399      | 128001\n",
      "1  |128001*128001*2313 mod 173399      | 49808\n",
      "0  |49808*49808 mod 173399             | 17371\n",
      "1  |17371*17371*2313 mod 173399        | 109551\n",
      "0  |109551*109551 mod 173399           | 130013\n",
      "0  |130013*130013 mod 173399           | 98851\n",
      "0  |98851*98851 mod 173399             | 139753\n",
      "0  |139753*139753 mod 173399           | 104644\n",
      "0  |104644*104644 mod 173399           | 46487\n",
      "1  |46487*46487*2313 mod 173399        | 43008\n",
      "1  |43008*43008*2313 mod 173399        | 170948\n",
      "0  |170948*170948 mod 173399           | 111835\n",
      "0  |111835*111835 mod 173399           | 144153\n",
      "1  |144153*144153*2313 mod 173399      | 121686\n",
      "m = 2313^111641 mod 173399= 121686\n",
      "\n",
      "Encryption:\n",
      "m = 121686\n",
      "a:121686,b:173399\n",
      "a:173399,b:121686\n",
      "a:121686,b:51713\n",
      "a:51713,b:18260\n",
      "a:18260,b:15193\n",
      "a:15193,b:3067\n",
      "a:3067,b:2925\n",
      "a:2925,b:142\n",
      "a:142,b:85\n",
      "a:85,b:57\n",
      "a:57,b:28\n",
      "a:28,b:1\n",
      "a:1,b:0\n",
      "gcd(m,n)=1\n",
      "\n",
      "Find c:\n",
      "b  |                                   | z    \n",
      "   |                                   | 1    \n",
      "1  |1*1*121686 mod 173399              | 121686\n",
      "0  |121686*121686 mod 173399           | 74991\n",
      "0  |74991*74991 mod 173399             | 147112\n",
      "0  |147112*147112 mod 173399           | 11354\n",
      "1  |11354*11354*121686 mod 173399      | 2313 \n",
      "c = 121686^17 mod 173399= 2313\n"
     ]
    }
   ],
   "source": [
    "p = 317\n",
    "q = 547\n",
    "n = p*q\n",
    "e = 17\n",
    "d = RSA_Key(p,q,e)\n",
    "print(\"\")\n",
    "m = 3175\n",
    "c = RSA_Enc(m,e,n)\n",
    "m = RSA_Dec(c,d,n)\n",
    "\n",
    "print(\"\")\n",
    "c = 2313\n",
    "m = RSA_Dec(c,d,n)\n",
    "c = RSA_Enc(m,e,n)\n"
   ]
  },
  {
   "cell_type": "markdown",
   "metadata": {
    "id": "v_0y9nY6siqn"
   },
   "source": [
    "## RSA Factorization"
   ]
  },
  {
   "cell_type": "code",
   "execution_count": 7,
   "metadata": {
    "executionInfo": {
     "elapsed": 55,
     "status": "ok",
     "timestamp": 1731136029408,
     "user": {
      "displayName": "陳以瑄",
      "userId": "05941134565667133281"
     },
     "user_tz": -480
    },
    "id": "M6nfJmz7siqn"
   },
   "outputs": [],
   "source": [
    "def findRS(e, d):\n",
    "    tmp = e*d - 1\n",
    "    s = 0\n",
    "    while tmp%2==0:\n",
    "        tmp //= 2\n",
    "        s += 1\n",
    "    return tmp, s"
   ]
  },
  {
   "cell_type": "code",
   "execution_count": 8,
   "metadata": {
    "executionInfo": {
     "elapsed": 615,
     "status": "ok",
     "timestamp": 1731141667721,
     "user": {
      "displayName": "陳以瑄",
      "userId": "05941134565667133281"
     },
     "user_tz": -480
    },
    "id": "K-cjpNj-siqo"
   },
   "outputs": [],
   "source": [
    "def RSA_Fact(w,e,d,n):\n",
    "    print(\"Initial parameters:\")\n",
    "    print(f\"w = {w}\")\n",
    "    print(f\"e = {e}\")\n",
    "    print(f\"d = {d}\")\n",
    "    print(f\"n = {n}\")\n",
    "    print(\"=================================\\n\")\n",
    "\n",
    "    if gcd(w,n)!=1:\n",
    "        print(f\"p = {w}\")\n",
    "        print(f\"q = {n//w}\")\n",
    "        return w, n//w\n",
    "\n",
    "    # Find r,s where ed-1 = w^{r2^s}\n",
    "    print(\"Find r,s:\")\n",
    "    r,s = findRS(e,d)\n",
    "    print(f\"r = {r}\")\n",
    "    print(f\"s = {s}\\n\")\n",
    "    print(\"=================================\\n\")\n",
    "\n",
    "    # find v\n",
    "    print(\"Find v:\")\n",
    "    last_v = square_and_multiply(w, r, n)\n",
    "    print(f\"v0 = {last_v}\")\n",
    "    print(\"---------------------------------\\n\")\n",
    "    for i in range(1, s+1,1):\n",
    "        v = square_and_multiply(w, r*2**i, n)\n",
    "        print(f\"v{i} = {v}\")\n",
    "        print(\"---------------------------------\\n\")\n",
    "        if(last_v!=1 and last_v!=n-1 and v==1):\n",
    "            print(\"=================================\\n\")\n",
    "            print(\"Find p,q:\")\n",
    "            print(f\"v{i} = 1, v{i-1}!= 1\")\n",
    "            p = gcd(last_v-1, n)\n",
    "            q = n//p\n",
    "            print(f\"p = {p}\")\n",
    "            print(f\"q = {q}\")\n",
    "            return p,q\n",
    "        last_v = v\n"
   ]
  },
  {
   "cell_type": "code",
   "execution_count": 9,
   "metadata": {},
   "outputs": [
    {
     "data": {
      "text/plain": [
       "173613"
      ]
     },
     "execution_count": 9,
     "metadata": {},
     "output_type": "execute_result"
    }
   ],
   "source": [
    "270451*270451//421301 "
   ]
  },
  {
   "cell_type": "code",
   "execution_count": 10,
   "metadata": {
    "colab": {
     "base_uri": "https://localhost:8080/"
    },
    "executionInfo": {
     "elapsed": 5,
     "status": "ok",
     "timestamp": 1731141667721,
     "user": {
      "displayName": "陳以瑄",
      "userId": "05941134565667133281"
     },
     "user_tz": -480
    },
    "id": "pRhA-1Rrsiqo",
    "outputId": "1790a11d-8bbe-4a9b-de45-6b192ef75d63"
   },
   "outputs": [
    {
     "name": "stdout",
     "output_type": "stream",
     "text": [
      "Initial parameters:\n",
      "w = 2\n",
      "e = 65537\n",
      "d = 153473\n",
      "n = 421301\n",
      "=================================\n",
      "\n",
      "a:2,b:421301\n",
      "a:421301,b:2\n",
      "a:2,b:1\n",
      "a:1,b:0\n",
      "Find r,s:\n",
      "r = 78579375\n",
      "s = 7\n",
      "\n",
      "=================================\n",
      "\n",
      "Find v:\n",
      "b  |                                   | z    \n",
      "   |                                   | 1    \n",
      "1  |1*1*2 mod 421301                   | 2    \n",
      "0  |2*2 mod 421301                     | 4    \n",
      "0  |4*4 mod 421301                     | 16   \n",
      "1  |16*16*2 mod 421301                 | 512  \n",
      "0  |512*512 mod 421301                 | 262144\n",
      "1  |262144*262144*2 mod 421301         | 34747\n",
      "0  |34747*34747 mod 421301             | 326644\n",
      "1  |326644*326644*2 mod 421301         | 278564\n",
      "1  |278564*278564*2 mod 421301         | 312220\n",
      "1  |312220*312220*2 mod 421301         | 142137\n",
      "1  |142137*142137*2 mod 421301         | 138531\n",
      "0  |138531*138531 mod 421301           | 156110\n",
      "0  |156110*156110 mod 421301           | 175755\n",
      "0  |175755*175755 mod 421301           | 30705\n",
      "0  |30705*30705 mod 421301             | 346688\n",
      "0  |346688*346688 mod 421301           | 28355\n",
      "1  |28355*28355*2 mod 421301           | 327434\n",
      "1  |327434*327434*2 mod 421301         | 270451\n",
      "0  |270451*270451 mod 421301           | 412888\n",
      "1  |412888*412888*2 mod 421301         | 2    \n",
      "0  |2*2 mod 421301                     | 4    \n",
      "1  |4*4*2 mod 421301                   | 32   \n",
      "0  |32*32 mod 421301                   | 1024 \n",
      "1  |1024*1024*2 mod 421301             | 411948\n",
      "1  |411948*411948*2 mod 421301         | 117303\n",
      "1  |117303*117303*2 mod 421301         | 184997\n",
      "1  |184997*184997*2 mod 421301         | 270451\n",
      "v0 = 270451\n",
      "---------------------------------\n",
      "\n",
      "b  |                                   | z    \n",
      "   |                                   | 1    \n",
      "1  |1*1*2 mod 421301                   | 2    \n",
      "0  |2*2 mod 421301                     | 4    \n",
      "0  |4*4 mod 421301                     | 16   \n",
      "1  |16*16*2 mod 421301                 | 512  \n",
      "0  |512*512 mod 421301                 | 262144\n",
      "1  |262144*262144*2 mod 421301         | 34747\n",
      "0  |34747*34747 mod 421301             | 326644\n",
      "1  |326644*326644*2 mod 421301         | 278564\n",
      "1  |278564*278564*2 mod 421301         | 312220\n",
      "1  |312220*312220*2 mod 421301         | 142137\n",
      "1  |142137*142137*2 mod 421301         | 138531\n",
      "0  |138531*138531 mod 421301           | 156110\n",
      "0  |156110*156110 mod 421301           | 175755\n",
      "0  |175755*175755 mod 421301           | 30705\n",
      "0  |30705*30705 mod 421301             | 346688\n",
      "0  |346688*346688 mod 421301           | 28355\n",
      "1  |28355*28355*2 mod 421301           | 327434\n",
      "1  |327434*327434*2 mod 421301         | 270451\n",
      "0  |270451*270451 mod 421301           | 412888\n",
      "1  |412888*412888*2 mod 421301         | 2    \n",
      "0  |2*2 mod 421301                     | 4    \n",
      "1  |4*4*2 mod 421301                   | 32   \n",
      "0  |32*32 mod 421301                   | 1024 \n",
      "1  |1024*1024*2 mod 421301             | 411948\n",
      "1  |411948*411948*2 mod 421301         | 117303\n",
      "1  |117303*117303*2 mod 421301         | 184997\n",
      "1  |184997*184997*2 mod 421301         | 270451\n",
      "0  |270451*270451 mod 421301           | 412888\n",
      "v1 = 412888\n",
      "---------------------------------\n",
      "\n",
      "b  |                                   | z    \n",
      "   |                                   | 1    \n",
      "1  |1*1*2 mod 421301                   | 2    \n",
      "0  |2*2 mod 421301                     | 4    \n",
      "0  |4*4 mod 421301                     | 16   \n",
      "1  |16*16*2 mod 421301                 | 512  \n",
      "0  |512*512 mod 421301                 | 262144\n",
      "1  |262144*262144*2 mod 421301         | 34747\n",
      "0  |34747*34747 mod 421301             | 326644\n",
      "1  |326644*326644*2 mod 421301         | 278564\n",
      "1  |278564*278564*2 mod 421301         | 312220\n",
      "1  |312220*312220*2 mod 421301         | 142137\n",
      "1  |142137*142137*2 mod 421301         | 138531\n",
      "0  |138531*138531 mod 421301           | 156110\n",
      "0  |156110*156110 mod 421301           | 175755\n",
      "0  |175755*175755 mod 421301           | 30705\n",
      "0  |30705*30705 mod 421301             | 346688\n",
      "0  |346688*346688 mod 421301           | 28355\n",
      "1  |28355*28355*2 mod 421301           | 327434\n",
      "1  |327434*327434*2 mod 421301         | 270451\n",
      "0  |270451*270451 mod 421301           | 412888\n",
      "1  |412888*412888*2 mod 421301         | 2    \n",
      "0  |2*2 mod 421301                     | 4    \n",
      "1  |4*4*2 mod 421301                   | 32   \n",
      "0  |32*32 mod 421301                   | 1024 \n",
      "1  |1024*1024*2 mod 421301             | 411948\n",
      "1  |411948*411948*2 mod 421301         | 117303\n",
      "1  |117303*117303*2 mod 421301         | 184997\n",
      "1  |184997*184997*2 mod 421301         | 270451\n",
      "0  |270451*270451 mod 421301           | 412888\n",
      "0  |412888*412888 mod 421301           | 1    \n",
      "v2 = 1\n",
      "---------------------------------\n",
      "\n",
      "=================================\n",
      "\n",
      "Find p,q:\n",
      "v2 = 1, v1!= 1\n",
      "a:412887,b:421301\n",
      "a:421301,b:412887\n",
      "a:412887,b:8414\n",
      "a:8414,b:601\n",
      "a:601,b:0\n",
      "p = 601\n",
      "q = 701\n"
     ]
    }
   ],
   "source": [
    "w = 2\n",
    "e = 65537\n",
    "d = 153473\n",
    "n = 421301\n",
    "p,q =RSA_Fact(w,e,d,n)"
   ]
  },
  {
   "cell_type": "markdown",
   "metadata": {
    "id": "Iw-KJdMNsiqo"
   },
   "source": [
    "##  ElGamal"
   ]
  },
  {
   "cell_type": "code",
   "execution_count": 11,
   "metadata": {
    "executionInfo": {
     "elapsed": 46,
     "status": "ok",
     "timestamp": 1731136029408,
     "user": {
      "displayName": "陳以瑄",
      "userId": "05941134565667133281"
     },
     "user_tz": -480
    },
    "id": "ACumtvFOsiqp"
   },
   "outputs": [],
   "source": [
    "def ElGamal_Key(p,g,x):\n",
    "    # Initial variable\n",
    "    print(f\"Initial variable\")\n",
    "    print(f\"p = {p}\")\n",
    "    print(f\"g = {g}\")\n",
    "    print(f\"x = {x}\")\n",
    "\n",
    "    # Find y\n",
    "    print(f\"\\nFind y:\")\n",
    "    y = square_and_multiply(g, x, p)\n",
    "    print(f\"y = {y}\")\n",
    "    return y\n",
    "\n",
    "def ElGamal_Enc(m,g,k,p,y):\n",
    "    # Initial variable\n",
    "    print(f\"\\nEncryption\\nInitial variable\")\n",
    "    print(f\"m = {m}\")\n",
    "    print(f\"g = {g}\")\n",
    "    print(f\"k = {k}\")\n",
    "    print(f\"p = {p}\")\n",
    "    print(f\"y = {y}\")\n",
    "\n",
    "    # Find a,b\n",
    "    print(f\"\\nFind a,b:\")\n",
    "    a = square_and_multiply(g, k, p)\n",
    "    print(f\"a = {a}\\n\")\n",
    "    b = (m*square_and_multiply(y, k, p))%p\n",
    "    print(f\"b = {b}\\n\")\n",
    "    print(f\"(a,b) = ({a},{b})\")\n",
    "    return a,b\n",
    "\n",
    "def ElGamal_Dec(a,b,x,p):\n",
    "    print(f\"\\nDecryption\\nInitial variable\")\n",
    "    print(f\"a = {a}\")\n",
    "    print(f\"b = {b}\")\n",
    "    print(f\"x = {x}\")\n",
    "    print(f\"p = {p}\")\n",
    "\n",
    "    # Find m\n",
    "    print(f\"\\nFind m:\")\n",
    "    ax = square_and_multiply(a, x, p)\n",
    "    print(f\"{a}^{x} mod {p} = {ax}\\n\")\n",
    "    m = (b*extended_euclidean(ax, p))%p\n",
    "    print(f\"m = {m}\")\n",
    "    return m\n",
    "\n",
    "\n",
    "\n"
   ]
  },
  {
   "cell_type": "code",
   "execution_count": 12,
   "metadata": {
    "colab": {
     "base_uri": "https://localhost:8080/"
    },
    "executionInfo": {
     "elapsed": 462,
     "status": "ok",
     "timestamp": 1731142536972,
     "user": {
      "displayName": "陳以瑄",
      "userId": "05941134565667133281"
     },
     "user_tz": -480
    },
    "id": "Fjf1Widisiqp",
    "outputId": "8a56aae8-1b8c-492f-af07-ca2f99efadef"
   },
   "outputs": [
    {
     "name": "stdout",
     "output_type": "stream",
     "text": [
      "Initial variable\n",
      "p = 113\n",
      "g = 17\n",
      "x = 25\n",
      "\n",
      "Find y:\n",
      "b  |                                   | z    \n",
      "   |                                   | 1    \n",
      "1  |1*1*17 mod 113                     | 17   \n",
      "1  |17*17*17 mod 113                   | 54   \n",
      "0  |54*54 mod 113                      | 91   \n",
      "0  |91*91 mod 113                      | 32   \n",
      "1  |32*32*17 mod 113                   | 6    \n",
      "y = 6\n",
      "\n",
      "Encryption\n",
      "Initial variable\n",
      "m = 23\n",
      "g = 17\n",
      "k = 22\n",
      "p = 113\n",
      "y = 6\n",
      "\n",
      "Find a,b:\n",
      "b  |                                   | z    \n",
      "   |                                   | 1    \n",
      "1  |1*1*17 mod 113                     | 17   \n",
      "0  |17*17 mod 113                      | 63   \n",
      "1  |63*63*17 mod 113                   | 12   \n",
      "1  |12*12*17 mod 113                   | 75   \n",
      "0  |75*75 mod 113                      | 88   \n",
      "a = 88\n",
      "\n",
      "b  |                                   | z    \n",
      "   |                                   | 1    \n",
      "1  |1*1*6 mod 113                      | 6    \n",
      "0  |6*6 mod 113                        | 36   \n",
      "1  |36*36*6 mod 113                    | 92   \n",
      "1  |92*92*6 mod 113                    | 47   \n",
      "0  |47*47 mod 113                      | 62   \n",
      "b = 70\n",
      "\n",
      "(a,b) = (88,70)\n",
      "\n",
      "Decryption\n",
      "Initial variable\n",
      "a = 88\n",
      "b = 70\n",
      "x = 25\n",
      "p = 113\n",
      "\n",
      "Find m:\n",
      "b  |                                   | z    \n",
      "   |                                   | 1    \n",
      "1  |1*1*88 mod 113                     | 88   \n",
      "1  |88*88*88 mod 113                   | 82   \n",
      "0  |82*82 mod 113                      | 57   \n",
      "0  |57*57 mod 113                      | 85   \n",
      "1  |85*85*88 mod 113                   | 62   \n",
      "88^25 mod 113 = 62\n",
      "\n",
      "t     | s       | r       | q      \n",
      "1     | 0       | 113     |\n",
      "0     | 1       | 62      |\n",
      "1     | -1      | 51      | 1      \n",
      "-1    | 2       | 11      | 1      \n",
      "5     | -9      | 7       | 4      \n",
      "-6    | 11      | 4       | 1      \n",
      "11    | -20     | 3       | 1      \n",
      "-17   | 31      | 1       | 1      \n",
      "      |         | 0       | 3      \n",
      "m = 23\n"
     ]
    }
   ],
   "source": [
    "import math\n",
    "p = 113\n",
    "g = 17\n",
    "x = 25\n",
    "y = ElGamal_Key(p,g,x)\n",
    "\n",
    "m = 23\n",
    "k = 22\n",
    "a,b =ElGamal_Enc(m,g,k,p,y)\n",
    "m = ElGamal_Dec(a,b,x,p)\n",
    "\n"
   ]
  },
  {
   "cell_type": "markdown",
   "metadata": {
    "id": "L4v4xot-siqp"
   },
   "source": [
    "## Shank DL algo"
   ]
  },
  {
   "cell_type": "code",
   "execution_count": 13,
   "metadata": {
    "executionInfo": {
     "elapsed": 41,
     "status": "ok",
     "timestamp": 1731136029409,
     "user": {
      "displayName": "陳以瑄",
      "userId": "05941134565667133281"
     },
     "user_tz": -480
    },
    "id": "0zf3NBeWsiqq"
   },
   "outputs": [],
   "source": [
    "def Shank(p,g,y):\n",
    "    # Initial parameter\n",
    "    print(\"Initial value:\")\n",
    "    print(f\"p = {p}\")\n",
    "    print(f\"g = {g}\")\n",
    "    print(f\"y = {y}\")\n",
    "\n",
    "    # Find m\n",
    "    m = int((p-1)**0.5 +1)\n",
    "    print(f\"m = {m}\")\n",
    "\n",
    "    # Calculate L1, L2:\n",
    "    print(\"Calculate L1,L2:\")\n",
    "    L1=[]\n",
    "    L2=[]\n",
    "    for i in range (0,m):\n",
    "        print(f\"\\ni = j = {i}\")\n",
    "        Zj = square_and_multiply(g, i*m, p)\n",
    "        L1.append(Zj)\n",
    "        Zi = square_and_multiply(g, i, p)\n",
    "        Zi = (y*extended_euclidean(Zi, p))%p\n",
    "        L2.append(Zi)\n",
    "    print(f\"L1:{L1}\")\n",
    "    print(f\"L2:{L2}\")\n",
    "    print(\"=========================================\")\n",
    "    print(\"\\nFind Z:\")\n",
    "    for j,z in enumerate(L1):\n",
    "        if z in L2:\n",
    "            i = L2.index(z)\n",
    "            print(f\"(z, j, i) = ({z}, {j}, {i})\")\n",
    "            x = (m*j+i)%(p-1)\n",
    "            print(x)\n",
    "            return x"
   ]
  },
  {
   "cell_type": "code",
   "execution_count": 14,
   "metadata": {},
   "outputs": [
    {
     "name": "stdout",
     "output_type": "stream",
     "text": [
      "t     | s       | r       | q      \n",
      "1     | 0       | 113     |\n",
      "0     | 1       | 1341068619663964900807 |\n",
      "1     | 0       | 113     | 0      \n",
      "-11867863890831547794 | 1       | 85      | 11867863890831547794\n",
      "11867863890831547795 | -1      | 28      | 1      \n",
      "-47471455563326191179 | 4       | 1       | 3      \n",
      "      |         | 0       | 28     \n"
     ]
    },
    {
     "data": {
      "text/plain": [
       "4"
      ]
     },
     "execution_count": 14,
     "metadata": {},
     "output_type": "execute_result"
    }
   ],
   "source": [
    "\n",
    "extended_euclidean(7**25, 113)"
   ]
  },
  {
   "cell_type": "code",
   "execution_count": 15,
   "metadata": {},
   "outputs": [
    {
     "data": {
      "text/plain": [
       "27"
      ]
     },
     "execution_count": 15,
     "metadata": {},
     "output_type": "execute_result"
    }
   ],
   "source": [
    "4*35 %113"
   ]
  },
  {
   "cell_type": "code",
   "execution_count": 16,
   "metadata": {
    "colab": {
     "base_uri": "https://localhost:8080/"
    },
    "executionInfo": {
     "elapsed": 41,
     "status": "ok",
     "timestamp": 1731136029409,
     "user": {
      "displayName": "陳以瑄",
      "userId": "05941134565667133281"
     },
     "user_tz": -480
    },
    "id": "R3U20Hfpsiqq",
    "outputId": "e0c35327-a0ba-44e9-cf6c-f54446c5d4e5"
   },
   "outputs": [
    {
     "name": "stdout",
     "output_type": "stream",
     "text": [
      "\n",
      "Decryption\n",
      "Initial variable\n",
      "a = 7\n",
      "b = 35\n",
      "x = 25\n",
      "p = 113\n",
      "\n",
      "Find m:\n",
      "b  |                                   | z    \n",
      "   |                                   | 1    \n",
      "1  |1*1*7 mod 113                      | 7    \n",
      "1  |7*7*7 mod 113                      | 4    \n",
      "0  |4*4 mod 113                        | 16   \n",
      "0  |16*16 mod 113                      | 30   \n",
      "1  |30*30*7 mod 113                    | 85   \n",
      "7^25 mod 113 = 85\n",
      "\n",
      "t     | s       | r       | q      \n",
      "1     | 0       | 113     |\n",
      "0     | 1       | 85      |\n",
      "1     | -1      | 28      | 1      \n",
      "-3    | 4       | 1       | 3      \n",
      "      |         | 0       | 28     \n",
      "m = 27\n",
      "Initial value:\n",
      "p = 113\n",
      "g = 17\n",
      "y = 7\n",
      "m = 11\n",
      "Calculate L1,L2:\n",
      "\n",
      "i = j = 0\n",
      "b  |                                   | z    \n",
      "   |                                   | 1    \n",
      "b  |                                   | z    \n",
      "   |                                   | 1    \n",
      "t     | s       | r       | q      \n",
      "1     | 0       | 113     |\n",
      "0     | 1       | 1       |\n",
      "      |         | 0       | 113    \n",
      "\n",
      "i = j = 1\n",
      "b  |                                   | z    \n",
      "   |                                   | 1    \n",
      "1  |1*1*17 mod 113                     | 17   \n",
      "0  |17*17 mod 113                      | 63   \n",
      "1  |63*63*17 mod 113                   | 12   \n",
      "1  |12*12*17 mod 113                   | 75   \n",
      "b  |                                   | z    \n",
      "   |                                   | 1    \n",
      "1  |1*1*17 mod 113                     | 17   \n",
      "t     | s       | r       | q      \n",
      "1     | 0       | 113     |\n",
      "0     | 1       | 17      |\n",
      "1     | -6      | 11      | 6      \n",
      "-1    | 7       | 6       | 1      \n",
      "2     | -13     | 5       | 1      \n",
      "-3    | 20      | 1       | 1      \n",
      "      |         | 0       | 5      \n",
      "\n",
      "i = j = 2\n",
      "b  |                                   | z    \n",
      "   |                                   | 1    \n",
      "1  |1*1*17 mod 113                     | 17   \n",
      "0  |17*17 mod 113                      | 63   \n",
      "1  |63*63*17 mod 113                   | 12   \n",
      "1  |12*12*17 mod 113                   | 75   \n",
      "0  |75*75 mod 113                      | 88   \n",
      "b  |                                   | z    \n",
      "   |                                   | 1    \n",
      "1  |1*1*17 mod 113                     | 17   \n",
      "0  |17*17 mod 113                      | 63   \n",
      "t     | s       | r       | q      \n",
      "1     | 0       | 113     |\n",
      "0     | 1       | 63      |\n",
      "1     | -1      | 50      | 1      \n",
      "-1    | 2       | 13      | 1      \n",
      "4     | -7      | 11      | 3      \n",
      "-5    | 9       | 2       | 1      \n",
      "29    | -52     | 1       | 5      \n",
      "      |         | 0       | 2      \n",
      "\n",
      "i = j = 3\n",
      "b  |                                   | z    \n",
      "   |                                   | 1    \n",
      "1  |1*1*17 mod 113                     | 17   \n",
      "0  |17*17 mod 113                      | 63   \n",
      "0  |63*63 mod 113                      | 14   \n",
      "0  |14*14 mod 113                      | 83   \n",
      "0  |83*83 mod 113                      | 109  \n",
      "1  |109*109*17 mod 113                 | 46   \n",
      "b  |                                   | z    \n",
      "   |                                   | 1    \n",
      "1  |1*1*17 mod 113                     | 17   \n",
      "1  |17*17*17 mod 113                   | 54   \n",
      "t     | s       | r       | q      \n",
      "1     | 0       | 113     |\n",
      "0     | 1       | 54      |\n",
      "1     | -2      | 5       | 2      \n",
      "-10   | 21      | 4       | 10     \n",
      "11    | -23     | 1       | 1      \n",
      "      |         | 0       | 4      \n",
      "\n",
      "i = j = 4\n",
      "b  |                                   | z    \n",
      "   |                                   | 1    \n",
      "1  |1*1*17 mod 113                     | 17   \n",
      "0  |17*17 mod 113                      | 63   \n",
      "1  |63*63*17 mod 113                   | 12   \n",
      "1  |12*12*17 mod 113                   | 75   \n",
      "0  |75*75 mod 113                      | 88   \n",
      "0  |88*88 mod 113                      | 60   \n",
      "b  |                                   | z    \n",
      "   |                                   | 1    \n",
      "1  |1*1*17 mod 113                     | 17   \n",
      "0  |17*17 mod 113                      | 63   \n",
      "0  |63*63 mod 113                      | 14   \n",
      "t     | s       | r       | q      \n",
      "1     | 0       | 113     |\n",
      "0     | 1       | 14      |\n",
      "1     | -8      | 1       | 8      \n",
      "      |         | 0       | 14     \n",
      "\n",
      "i = j = 5\n",
      "b  |                                   | z    \n",
      "   |                                   | 1    \n",
      "1  |1*1*17 mod 113                     | 17   \n",
      "1  |17*17*17 mod 113                   | 54   \n",
      "0  |54*54 mod 113                      | 91   \n",
      "1  |91*91*17 mod 113                   | 92   \n",
      "1  |92*92*17 mod 113                   | 39   \n",
      "1  |39*39*17 mod 113                   | 93   \n",
      "b  |                                   | z    \n",
      "   |                                   | 1    \n",
      "1  |1*1*17 mod 113                     | 17   \n",
      "0  |17*17 mod 113                      | 63   \n",
      "1  |63*63*17 mod 113                   | 12   \n",
      "t     | s       | r       | q      \n",
      "1     | 0       | 113     |\n",
      "0     | 1       | 12      |\n",
      "1     | -9      | 5       | 9      \n",
      "-2    | 19      | 2       | 2      \n",
      "5     | -47     | 1       | 2      \n",
      "      |         | 0       | 2      \n",
      "\n",
      "i = j = 6\n",
      "b  |                                   | z    \n",
      "   |                                   | 1    \n",
      "1  |1*1*17 mod 113                     | 17   \n",
      "0  |17*17 mod 113                      | 63   \n",
      "0  |63*63 mod 113                      | 14   \n",
      "0  |14*14 mod 113                      | 83   \n",
      "0  |83*83 mod 113                      | 109  \n",
      "1  |109*109*17 mod 113                 | 46   \n",
      "0  |46*46 mod 113                      | 82   \n",
      "b  |                                   | z    \n",
      "   |                                   | 1    \n",
      "1  |1*1*17 mod 113                     | 17   \n",
      "1  |17*17*17 mod 113                   | 54   \n",
      "0  |54*54 mod 113                      | 91   \n",
      "t     | s       | r       | q      \n",
      "1     | 0       | 113     |\n",
      "0     | 1       | 91      |\n",
      "1     | -1      | 22      | 1      \n",
      "-4    | 5       | 3       | 4      \n",
      "29    | -36     | 1       | 7      \n",
      "      |         | 0       | 3      \n",
      "\n",
      "i = j = 7\n",
      "b  |                                   | z    \n",
      "   |                                   | 1    \n",
      "1  |1*1*17 mod 113                     | 17   \n",
      "0  |17*17 mod 113                      | 63   \n",
      "0  |63*63 mod 113                      | 14   \n",
      "1  |14*14*17 mod 113                   | 55   \n",
      "1  |55*55*17 mod 113                   | 10   \n",
      "0  |10*10 mod 113                      | 100  \n",
      "1  |100*100*17 mod 113                 | 48   \n",
      "b  |                                   | z    \n",
      "   |                                   | 1    \n",
      "1  |1*1*17 mod 113                     | 17   \n",
      "1  |17*17*17 mod 113                   | 54   \n",
      "1  |54*54*17 mod 113                   | 78   \n",
      "t     | s       | r       | q      \n",
      "1     | 0       | 113     |\n",
      "0     | 1       | 78      |\n",
      "1     | -1      | 35      | 1      \n",
      "-2    | 3       | 8       | 2      \n",
      "9     | -13     | 3       | 4      \n",
      "-20   | 29      | 2       | 2      \n",
      "29    | -42     | 1       | 1      \n",
      "      |         | 0       | 2      \n",
      "\n",
      "i = j = 8\n",
      "b  |                                   | z    \n",
      "   |                                   | 1    \n",
      "1  |1*1*17 mod 113                     | 17   \n",
      "0  |17*17 mod 113                      | 63   \n",
      "1  |63*63*17 mod 113                   | 12   \n",
      "1  |12*12*17 mod 113                   | 75   \n",
      "0  |75*75 mod 113                      | 88   \n",
      "0  |88*88 mod 113                      | 60   \n",
      "0  |60*60 mod 113                      | 97   \n",
      "b  |                                   | z    \n",
      "   |                                   | 1    \n",
      "1  |1*1*17 mod 113                     | 17   \n",
      "0  |17*17 mod 113                      | 63   \n",
      "0  |63*63 mod 113                      | 14   \n",
      "0  |14*14 mod 113                      | 83   \n",
      "t     | s       | r       | q      \n",
      "1     | 0       | 113     |\n",
      "0     | 1       | 83      |\n",
      "1     | -1      | 30      | 1      \n",
      "-2    | 3       | 23      | 2      \n",
      "3     | -4      | 7       | 1      \n",
      "-11   | 15      | 2       | 3      \n",
      "36    | -49     | 1       | 3      \n",
      "      |         | 0       | 2      \n",
      "\n",
      "i = j = 9\n",
      "b  |                                   | z    \n",
      "   |                                   | 1    \n",
      "1  |1*1*17 mod 113                     | 17   \n",
      "1  |17*17*17 mod 113                   | 54   \n",
      "0  |54*54 mod 113                      | 91   \n",
      "0  |91*91 mod 113                      | 32   \n",
      "0  |32*32 mod 113                      | 7    \n",
      "1  |7*7*17 mod 113                     | 42   \n",
      "1  |42*42*17 mod 113                   | 43   \n",
      "b  |                                   | z    \n",
      "   |                                   | 1    \n",
      "1  |1*1*17 mod 113                     | 17   \n",
      "0  |17*17 mod 113                      | 63   \n",
      "0  |63*63 mod 113                      | 14   \n",
      "1  |14*14*17 mod 113                   | 55   \n",
      "t     | s       | r       | q      \n",
      "1     | 0       | 113     |\n",
      "0     | 1       | 55      |\n",
      "1     | -2      | 3       | 2      \n",
      "-18   | 37      | 1       | 18     \n",
      "      |         | 0       | 3      \n",
      "\n",
      "i = j = 10\n",
      "b  |                                   | z    \n",
      "   |                                   | 1    \n",
      "1  |1*1*17 mod 113                     | 17   \n",
      "1  |17*17*17 mod 113                   | 54   \n",
      "0  |54*54 mod 113                      | 91   \n",
      "1  |91*91*17 mod 113                   | 92   \n",
      "1  |92*92*17 mod 113                   | 39   \n",
      "1  |39*39*17 mod 113                   | 93   \n",
      "0  |93*93 mod 113                      | 61   \n",
      "b  |                                   | z    \n",
      "   |                                   | 1    \n",
      "1  |1*1*17 mod 113                     | 17   \n",
      "0  |17*17 mod 113                      | 63   \n",
      "1  |63*63*17 mod 113                   | 12   \n",
      "0  |12*12 mod 113                      | 31   \n",
      "t     | s       | r       | q      \n",
      "1     | 0       | 113     |\n",
      "0     | 1       | 31      |\n",
      "1     | -3      | 20      | 3      \n",
      "-1    | 4       | 11      | 1      \n",
      "2     | -7      | 9       | 1      \n",
      "-3    | 11      | 2       | 1      \n",
      "14    | -51     | 1       | 4      \n",
      "      |         | 0       | 2      \n",
      "L1:[1, 75, 88, 46, 60, 93, 82, 48, 97, 43, 61]\n",
      "L2:[7, 27, 88, 65, 57, 10, 87, 45, 109, 33, 95]\n",
      "=========================================\n",
      "\n",
      "Find Z:\n",
      "(z, j, i) = (88, 2, 2)\n",
      "24\n",
      "\n",
      "Encryption\n",
      "Initial variable\n",
      "m = 27\n",
      "g = 17\n",
      "k = 24\n",
      "p = 113\n",
      "y = 6\n",
      "\n",
      "Find a,b:\n",
      "b  |                                   | z    \n",
      "   |                                   | 1    \n",
      "1  |1*1*17 mod 113                     | 17   \n",
      "1  |17*17*17 mod 113                   | 54   \n",
      "0  |54*54 mod 113                      | 91   \n",
      "0  |91*91 mod 113                      | 32   \n",
      "0  |32*32 mod 113                      | 7    \n",
      "a = 7\n",
      "\n",
      "b  |                                   | z    \n",
      "   |                                   | 1    \n",
      "1  |1*1*6 mod 113                      | 6    \n",
      "1  |6*6*6 mod 113                      | 103  \n",
      "0  |103*103 mod 113                    | 100  \n",
      "0  |100*100 mod 113                    | 56   \n",
      "0  |56*56 mod 113                      | 85   \n",
      "b = 35\n",
      "\n",
      "(a,b) = (7,35)\n"
     ]
    }
   ],
   "source": [
    "a = 7\n",
    "b = 35\n",
    "m = ElGamal_Dec(a,b,x,p)\n",
    "k = Shank(p,g,a)\n",
    "a,b =ElGamal_Enc(m,g,k,p,y)"
   ]
  },
  {
   "cell_type": "markdown",
   "metadata": {
    "id": "90YaxVv7YNnB"
   },
   "source": [
    "## RSA signature"
   ]
  },
  {
   "cell_type": "code",
   "execution_count": 17,
   "metadata": {
    "executionInfo": {
     "elapsed": 37,
     "status": "ok",
     "timestamp": 1731136029409,
     "user": {
      "displayName": "陳以瑄",
      "userId": "05941134565667133281"
     },
     "user_tz": -480
    },
    "id": "ijLx2bX4bFX0"
   },
   "outputs": [],
   "source": [
    "def findFact(n):\n",
    "    print(\"Find p,g:\")\n",
    "    for i in range(2,int(n**0.5+1)):\n",
    "        if n%i==0:\n",
    "            print(f\"p = {i}\")\n",
    "            print(f\"q = {n//i}\\n\")\n",
    "            return i, n//i\n",
    "\n",
    "    print(\"n is prime\")\n",
    "    return 1,n"
   ]
  },
  {
   "cell_type": "code",
   "execution_count": 18,
   "metadata": {
    "executionInfo": {
     "elapsed": 535,
     "status": "ok",
     "timestamp": 1731142748106,
     "user": {
      "displayName": "陳以瑄",
      "userId": "05941134565667133281"
     },
     "user_tz": -480
    },
    "id": "aBj1Jjtbsiqq"
   },
   "outputs": [],
   "source": [
    "def RSA_Sign_Key(p,q,e):\n",
    "    # Key\n",
    "    print(\"Initial:\")\n",
    "    print(f\"p = {p}\")\n",
    "    print(f\"q = {q}\")\n",
    "    n = p*q\n",
    "    print(f\"n = {n}\")\n",
    "    phi_n = (p-1)*(q-1)\n",
    "    print(f\"phi(n) = {phi_n}\")\n",
    "    print(f\"e = {e}\")\n",
    "    print(f\"e phi independent ={bool(phi_n%e!=0)}\")\n",
    "    print(\"\\nFind d:\")\n",
    "    d = extended_euclidean(e, phi_n)\n",
    "    print(f\"d = {d}\\n\")\n",
    "    return d\n",
    "\n",
    "def RSA_Sign_Key_Inv(p,q,d):\n",
    "    # Key\n",
    "    print(\"KEY:\")\n",
    "    print(f\"p = {p}\")\n",
    "    print(f\"q = {q}\")\n",
    "    n = p*q\n",
    "    print(f\"n = {n}\")\n",
    "    phi_n = (p-1)*(q-1)\n",
    "    print(f\"phi(n) = {phi_n}\")\n",
    "    print(f\"d = {d}\")\n",
    "    print(f\"d phi independent ={bool(phi_n%d!=0)}\")\n",
    "    print(\"\\nFind e:\")\n",
    "    e = extended_euclidean(d, phi_n)\n",
    "    print(f\"e = {e}\\n\")\n",
    "    return e\n",
    "\n",
    "def RSA_Sign(hm,d,n):\n",
    "    # Encryption\n",
    "    print(\"\\nSigning:\")\n",
    "    print(f\"h(m) = {hm}\")\n",
    "    print(\"\\nFind σ:\")\n",
    "    sigma = square_and_multiply(hm,d,n)\n",
    "    print(f\"σ = {hm}^{d} mod {n}= {sigma}\\n\")\n",
    "    return sigma\n",
    "\n",
    "def RSA_Very(sigma,e,n,hm):\n",
    "    # Decryption\n",
    "    print(\"\\nVerifying:\")\n",
    "    print(f\"σ = {sigma}\")\n",
    "    print(\"Find h(m)':\")\n",
    "    hm_ = square_and_multiply(sigma,e,n)\n",
    "    print(f\"h(m)' = {sigma}^{e} mod {n}= {hm_}\")\n",
    "    if(hm==hm_):\n",
    "      print(\"True\")\n",
    "    else:\n",
    "      print(\"False\")"
   ]
  },
  {
   "cell_type": "code",
   "execution_count": 19,
   "metadata": {
    "colab": {
     "base_uri": "https://localhost:8080/"
    },
    "executionInfo": {
     "elapsed": 409,
     "status": "ok",
     "timestamp": 1731142749375,
     "user": {
      "displayName": "陳以瑄",
      "userId": "05941134565667133281"
     },
     "user_tz": -480
    },
    "id": "eTz69RXDZ21i",
    "outputId": "cbf54ac5-a885-4816-fd94-2831767c9f24"
   },
   "outputs": [
    {
     "name": "stdout",
     "output_type": "stream",
     "text": [
      "\n",
      "Signing:\n",
      "h(m) = 23\n",
      "\n",
      "Find σ:\n",
      "b  |                                   | z    \n",
      "   |                                   | 1    \n",
      "1  |1*1*23 mod 323                     | 23   \n",
      "1  |23*23*23 mod 323                   | 216  \n",
      "1  |216*216*23 mod 323                 | 82   \n",
      "1  |82*82*23 mod 323                   | 258  \n",
      "0  |258*258 mod 323                    | 26   \n",
      "1  |26*26*23 mod 323                   | 44   \n",
      "1  |44*44*23 mod 323                   | 277  \n",
      "1  |277*277*23 mod 323                 | 218  \n",
      "σ = 23^247 mod 323= 218\n",
      "\n",
      "Find p,g:\n",
      "p = 17\n",
      "q = 19\n",
      "\n",
      "KEY:\n",
      "p = 17\n",
      "q = 19\n",
      "n = 323\n",
      "phi(n) = 288\n",
      "d = 247\n",
      "d phi independent =True\n",
      "\n",
      "Find e:\n",
      "t     | s       | r       | q      \n",
      "1     | 0       | 288     |\n",
      "0     | 1       | 247     |\n",
      "1     | -1      | 41      | 1      \n",
      "-6    | 7       | 1       | 6      \n",
      "      |         | 0       | 41     \n",
      "e = 7\n",
      "\n",
      "\n",
      "Verifying:\n",
      "σ = 218\n",
      "Find h(m)':\n",
      "b  |                                   | z    \n",
      "   |                                   | 1    \n",
      "1  |1*1*218 mod 323                    | 218  \n",
      "1  |218*218*218 mod 323                | 7    \n",
      "1  |7*7*218 mod 323                    | 23   \n",
      "h(m)' = 218^7 mod 323= 23\n",
      "True\n"
     ]
    }
   ],
   "source": [
    "hm = 23\n",
    "d = 247\n",
    "n = 323\n",
    "sigma = RSA_Sign(hm,d,n)\n",
    "\n",
    "p, q = findFact(n)\n",
    "e = RSA_Sign_Key_Inv(p,q,d)\n",
    "RSA_Very(sigma,e,n,hm)"
   ]
  },
  {
   "cell_type": "markdown",
   "metadata": {
    "id": "_svS2YpO8PT9"
   },
   "source": [
    "## ElGamal Signature"
   ]
  },
  {
   "cell_type": "code",
   "execution_count": 20,
   "metadata": {
    "executionInfo": {
     "elapsed": 2388,
     "status": "ok",
     "timestamp": 1731137541612,
     "user": {
      "displayName": "陳以瑄",
      "userId": "05941134565667133281"
     },
     "user_tz": -480
    },
    "id": "qlFYRhgrbzEJ"
   },
   "outputs": [],
   "source": [
    "def ElGamal_Sign_Key(p,g,x):\n",
    "    # Initial variable\n",
    "    print(f\"Initial variable\")\n",
    "    print(f\"p = {p}\")\n",
    "    print(f\"g = {g}\")\n",
    "    print(f\"x = {x}\")\n",
    "\n",
    "    # Find y\n",
    "    print(f\"\\nFind y:\")\n",
    "    y = square_and_multiply(g, x, p)\n",
    "    print(f\"y = {y}\")\n",
    "    return y\n",
    "\n",
    "def ElGamal_Sign(hm,g,k,p,y,x):\n",
    "    # Initial variable\n",
    "    print(f\"\\nSign\\nInitial variable\")\n",
    "    print(f\"h(m) = {hm}\")\n",
    "    print(f\"g = {g}\")\n",
    "    print(f\"k = {k}\")\n",
    "    print(f\"p = {p}\")\n",
    "    print(f\"y = {y}\")\n",
    "    print(f\"x = {x}\")\n",
    "\n",
    "    # Find r,s\n",
    "    print(f\"\\nFind r,s:\")\n",
    "    r = square_and_multiply(g, k, p)\n",
    "    print(f\"r = {r}\\n\")\n",
    "    s = extended_euclidean(k, p-1)\n",
    "    print(f\"k-1 mod p = {k}-1 mod{p-1} = {s}\")\n",
    "    s = ((hm-r*x)*s)%(p-1)\n",
    "    print(f\"s = {s}\\n\")\n",
    "    print(f\"(r,s) = ({r},{s})\")\n",
    "    return r,s\n",
    "\n",
    "def ElGamal_Very(r,s,hm,g,y,p):\n",
    "    print(f\"\\nVerify\\nInitial variable\")\n",
    "    print(f\"r = {r}\")\n",
    "    print(f\"s = {s}\")\n",
    "    print(f\"g = {g}\")\n",
    "    print(f\"p = {p}\")\n",
    "    print(f\"y = {y}\")\n",
    "    print(f\"x = {x}\")\n",
    "\n",
    "    # Verify\n",
    "    print(f\"\\nFind yrrs:\")\n",
    "    yr = square_and_multiply(y, r, p)\n",
    "    rs = square_and_multiply(r, s, p)\n",
    "    yrrs = (yr*rs)%p\n",
    "    print(f\"yrrs mod p = {y}^{r}*{r}^{s} mod {p} = {yrrs}\")\n",
    "    print(f\"\\nFind g^h(m):\")\n",
    "    print(f\"h(m) = {hm}\")\n",
    "    g_hm = square_and_multiply(g, hm, p)\n",
    "    print(f\"gh(m) mod p = {g}^{hm} mod {p} = {g_hm}\\n\")\n",
    "    if(yrrs == g_hm):\n",
    "      print(\"True\")\n",
    "    else:\n",
    "      print(\"False\")\n",
    "\n",
    "\n",
    "\n"
   ]
  },
  {
   "cell_type": "code",
   "execution_count": 21,
   "metadata": {
    "colab": {
     "base_uri": "https://localhost:8080/"
    },
    "executionInfo": {
     "elapsed": 414,
     "status": "ok",
     "timestamp": 1731142888352,
     "user": {
      "displayName": "陳以瑄",
      "userId": "05941134565667133281"
     },
     "user_tz": -480
    },
    "id": "jpsbH6cUb2TG",
    "outputId": "a314d840-7e4d-4dc6-b2b1-0bf4ef4aa48c"
   },
   "outputs": [
    {
     "name": "stdout",
     "output_type": "stream",
     "text": [
      "Initial variable\n",
      "p = 103\n",
      "g = 11\n",
      "x = 37\n",
      "\n",
      "Find y:\n",
      "b  |                                   | z    \n",
      "   |                                   | 1    \n",
      "1  |1*1*11 mod 103                     | 11   \n",
      "0  |11*11 mod 103                      | 18   \n",
      "0  |18*18 mod 103                      | 15   \n",
      "1  |15*15*11 mod 103                   | 3    \n",
      "0  |3*3 mod 103                        | 9    \n",
      "1  |9*9*11 mod 103                     | 67   \n",
      "y = 67\n",
      "\n",
      "Sign\n",
      "Initial variable\n",
      "h(m) = 23\n",
      "g = 11\n",
      "k = 7\n",
      "p = 103\n",
      "y = 67\n",
      "x = 37\n",
      "\n",
      "Find r,s:\n",
      "b  |                                   | z    \n",
      "   |                                   | 1    \n",
      "1  |1*1*11 mod 103                     | 11   \n",
      "1  |11*11*11 mod 103                   | 95   \n",
      "1  |95*95*11 mod 103                   | 86   \n",
      "r = 86\n",
      "\n",
      "t     | s       | r       | q      \n",
      "1     | 0       | 102     |\n",
      "0     | 1       | 7       |\n",
      "1     | -14     | 4       | 14     \n",
      "-1    | 15      | 3       | 1      \n",
      "2     | -29     | 1       | 1      \n",
      "      |         | 0       | 3      \n",
      "k-1 mod p = 7-1 mod102 = 73\n",
      "s = 15\n",
      "\n",
      "(r,s) = (86,15)\n",
      "\n",
      "Verify\n",
      "Initial variable\n",
      "r = 86\n",
      "s = 15\n",
      "g = 11\n",
      "p = 103\n",
      "y = 67\n",
      "x = 37\n",
      "\n",
      "Find yrrs:\n",
      "b  |                                   | z    \n",
      "   |                                   | 1    \n",
      "1  |1*1*67 mod 103                     | 67   \n",
      "0  |67*67 mod 103                      | 60   \n",
      "1  |60*60*67 mod 103                   | 77   \n",
      "0  |77*77 mod 103                      | 58   \n",
      "1  |58*58*67 mod 103                   | 24   \n",
      "1  |24*24*67 mod 103                   | 70   \n",
      "0  |70*70 mod 103                      | 59   \n",
      "b  |                                   | z    \n",
      "   |                                   | 1    \n",
      "1  |1*1*86 mod 103                     | 86   \n",
      "1  |86*86*86 mod 103                   | 31   \n",
      "1  |31*31*86 mod 103                   | 40   \n",
      "1  |40*40*86 mod 103                   | 95   \n",
      "yrrs mod p = 67^86*86^15 mod 103 = 43\n",
      "\n",
      "Find g^h(m):\n",
      "h(m) = 23\n",
      "b  |                                   | z    \n",
      "   |                                   | 1    \n",
      "1  |1*1*11 mod 103                     | 11   \n",
      "0  |11*11 mod 103                      | 18   \n",
      "1  |18*18*11 mod 103                   | 62   \n",
      "1  |62*62*11 mod 103                   | 54   \n",
      "1  |54*54*11 mod 103                   | 43   \n",
      "gh(m) mod p = 11^23 mod 103 = 43\n",
      "\n",
      "True\n"
     ]
    }
   ],
   "source": [
    "p = 103\n",
    "g = 11\n",
    "x = 37\n",
    "y = ElGamal_Sign_Key(p,g,x)\n",
    "\n",
    "hm = 23\n",
    "k = 7\n",
    "r,s = ElGamal_Sign(hm,g,k,p,y,x)\n",
    "\n",
    "ElGamal_Very(r,s,hm,g,y,p)"
   ]
  },
  {
   "cell_type": "markdown",
   "metadata": {
    "id": "YBkShEyW8T7Y"
   },
   "source": [
    "## DSA Signature"
   ]
  },
  {
   "cell_type": "code",
   "execution_count": 22,
   "metadata": {
    "executionInfo": {
     "elapsed": 587,
     "status": "ok",
     "timestamp": 1731140547044,
     "user": {
      "displayName": "陳以瑄",
      "userId": "05941134565667133281"
     },
     "user_tz": -480
    },
    "id": "fb30bkuAzm5I"
   },
   "outputs": [],
   "source": [
    "def DSA_Sign_Key(p,q,g,x):\n",
    "    # Initial variable\n",
    "    print(f\"Initial variable\")\n",
    "    print(f\"p = {p}\")\n",
    "    print(f\"q = {q}\")\n",
    "    print(f\"g = {g}\")\n",
    "    print(f\"x = {x}\")\n",
    "\n",
    "    # Find y\n",
    "    print(f\"\\nFind y:\")\n",
    "    y = square_and_multiply(g, x, p)\n",
    "    print(f\"y = {y}\")\n",
    "    return y\n",
    "\n",
    "def DSA_Sign(hm,g,k,p,q,y,x):\n",
    "    # Initial variable\n",
    "    print(f\"\\nSign\\nInitial variable\")\n",
    "    print(f\"h(m) = {hm}\")\n",
    "    print(f\"g = {g}\")\n",
    "    print(f\"k = {k}\")\n",
    "    print(f\"p = {p}\")\n",
    "    print(f\"q = {q}\")\n",
    "    print(f\"y = {y}\")\n",
    "    print(f\"x = {x}\")\n",
    "\n",
    "    # Find r,s\n",
    "    print(f\"\\nFind r,s:\")\n",
    "    r = square_and_multiply(g, k, p)%q\n",
    "    print(f\"r = {r}\\n\")\n",
    "    s = extended_euclidean(k, q)\n",
    "    print(f\"k-1 mod q = {k}-1 mod{q} = {s}\")\n",
    "    s = ((hm+r*x)*s)%q\n",
    "    print(f\"s = {s}\\n\")\n",
    "    print(f\"(r,s) = ({r},{s})\")\n",
    "    return r,s\n",
    "\n",
    "def DSA_Very(hm,r,s,p,q,g,y):\n",
    "    print(f\"\\nVerify\\nInitial variable\")\n",
    "    print(f\"r = {r}\")\n",
    "    print(f\"s = {s}\")\n",
    "    print(f\"g = {g}\")\n",
    "    print(f\"p = {p}\")\n",
    "    print(f\"q = {q}\")\n",
    "    print(f\"y = {y}\")\n",
    "\n",
    "    # Verify\n",
    "    print(f\"\\nFind w:\")\n",
    "    w = extended_euclidean(s,q)\n",
    "    print(f\"w = {s}-1 mod {q} = {w}\")\n",
    "    print(f\"\\nFind u1,u2:\")\n",
    "    u1 = (hm*w)%q\n",
    "    u2 = (r*w)%q\n",
    "    print(f\"(u1,u2) = ({u1},{u2})\")\n",
    "    gu1 = square_and_multiply(g, u1, p)\n",
    "    yu2 = square_and_multiply(y, u2, p)\n",
    "    v = (gu1*yu2)%p%q\n",
    "    print(f\"v = gu1yu2 mod p mod q = {gu1}*{yu2} mod {p} mod {q} = {v}\")\n",
    "    if(v==r):\n",
    "      print(\"True\")\n",
    "    else:\n",
    "      print(\"False\")\n",
    "\n",
    "\n",
    "\n"
   ]
  },
  {
   "cell_type": "code",
   "execution_count": 23,
   "metadata": {
    "colab": {
     "base_uri": "https://localhost:8080/"
    },
    "executionInfo": {
     "elapsed": 482,
     "status": "ok",
     "timestamp": 1731143013290,
     "user": {
      "displayName": "陳以瑄",
      "userId": "05941134565667133281"
     },
     "user_tz": -480
    },
    "id": "FxBoUPtP8sg1",
    "outputId": "ea88ed83-7a68-4a75-9209-acb985570064"
   },
   "outputs": [
    {
     "name": "stdout",
     "output_type": "stream",
     "text": [
      "Initial variable\n",
      "p = 103\n",
      "q = 17\n",
      "g = 72\n",
      "x = 7\n",
      "\n",
      "Find y:\n",
      "b  |                                   | z    \n",
      "   |                                   | 1    \n",
      "1  |1*1*72 mod 103                     | 72   \n",
      "1  |72*72*72 mod 103                   | 79   \n",
      "1  |79*79*72 mod 103                   | 66   \n",
      "y = 66\n",
      "\n",
      "Sign\n",
      "Initial variable\n",
      "h(m) = 23\n",
      "g = 72\n",
      "k = 3\n",
      "p = 103\n",
      "q = 17\n",
      "y = 66\n",
      "x = 7\n",
      "\n",
      "Find r,s:\n",
      "b  |                                   | z    \n",
      "   |                                   | 1    \n",
      "1  |1*1*72 mod 103                     | 72   \n",
      "1  |72*72*72 mod 103                   | 79   \n",
      "r = 11\n",
      "\n",
      "t     | s       | r       | q      \n",
      "1     | 0       | 17      |\n",
      "0     | 1       | 3       |\n",
      "1     | -5      | 2       | 5      \n",
      "-1    | 6       | 1       | 1      \n",
      "      |         | 0       | 2      \n",
      "k-1 mod q = 3-1 mod17 = 6\n",
      "s = 5\n",
      "\n",
      "(r,s) = (11,5)\n",
      "\n",
      "Verify\n",
      "Initial variable\n",
      "r = 11\n",
      "s = 5\n",
      "g = 72\n",
      "p = 103\n",
      "q = 17\n",
      "y = 66\n",
      "\n",
      "Find w:\n",
      "t     | s       | r       | q      \n",
      "1     | 0       | 17      |\n",
      "0     | 1       | 5       |\n",
      "1     | -3      | 2       | 3      \n",
      "-2    | 7       | 1       | 2      \n",
      "      |         | 0       | 2      \n",
      "w = 5-1 mod 17 = 7\n",
      "\n",
      "Find u1,u2:\n",
      "(u1,u2) = (8,9)\n",
      "b  |                                   | z    \n",
      "   |                                   | 1    \n",
      "1  |1*1*72 mod 103                     | 72   \n",
      "0  |72*72 mod 103                      | 34   \n",
      "0  |34*34 mod 103                      | 23   \n",
      "0  |23*23 mod 103                      | 14   \n",
      "b  |                                   | z    \n",
      "   |                                   | 1    \n",
      "1  |1*1*66 mod 103                     | 66   \n",
      "0  |66*66 mod 103                      | 30   \n",
      "0  |30*30 mod 103                      | 76   \n",
      "1  |76*76*66 mod 103                   | 13   \n",
      "v = gu1yu2 mod p mod q = 14*13 mod 103 mod 17 = 11\n",
      "True\n"
     ]
    }
   ],
   "source": [
    "p = 103\n",
    "q = 17\n",
    "k = 3\n",
    "g = 72\n",
    "x = 7\n",
    "y = DSA_Sign_Key(p,q,g,x)\n",
    "\n",
    "hm = 23\n",
    "r,s = DSA_Sign(hm,g,k,p,q,y,x)\n",
    "\n",
    "DSA_Very(hm,r,s,p,q,g,y)"
   ]
  },
  {
   "cell_type": "markdown",
   "metadata": {
    "id": "J2gp2OnD87bZ"
   },
   "source": [
    "## NTRU"
   ]
  },
  {
   "cell_type": "code",
   "execution_count": 24,
   "metadata": {},
   "outputs": [],
   "source": [
    "from sympy import symbols, Poly, GF\n",
    "from sympy.polys.polytools import invert\n",
    "def GF_inv(F,N,p):\n",
    "    print(p)\n",
    "    x = symbols('x')\n",
    "    f = Poly.from_list(F.tolist(), x)\n",
    "    modulus = Poly(x**N -1, x)\n",
    "    fp = invert(f, modulus, domain=GF(p))\n",
    "    fp_coe = np.array(fp.all_coeffs(), dtype=int)%p\n",
    "    return  fp_coe"
   ]
  },
  {
   "cell_type": "code",
   "execution_count": 25,
   "metadata": {},
   "outputs": [],
   "source": [
    "def GF_add(F,G,N,p):\n",
    "    lenF = len(F)\n",
    "    lenG = len(G)\n",
    "    H = np.zeros(N)\n",
    "    for i in range(N):\n",
    "        if(i<lenF):\n",
    "            H[i]+=F[i]\n",
    "        if(i<lenG):\n",
    "            H[i]+=G[i]\n",
    "    H = H%p\n",
    "    H = H.astype(int)\n",
    "    return H"
   ]
  },
  {
   "cell_type": "code",
   "execution_count": 26,
   "metadata": {},
   "outputs": [],
   "source": [
    "def GF_mult(F,G,N,p):\n",
    "    lenF = len(F)\n",
    "    lenG = len(G)\n",
    "    H = np.zeros(N)\n",
    "    for i in range(lenF):\n",
    "        for j in range(lenG):\n",
    "            H[(i+j)%N]+=F[i]*G[j]\n",
    "    H = H%p\n",
    "    H = H.astype(int)\n",
    "    return H"
   ]
  },
  {
   "cell_type": "code",
   "execution_count": 27,
   "metadata": {},
   "outputs": [],
   "source": [
    "def NTRU_Key(N,p,q,f,g,fp,fq):\n",
    "    f_asc = f\n",
    "    f_dec = f_asc[::-1]\n",
    "    fp_asc = fp\n",
    "    fp_dec = fp_asc[::-1]\n",
    "    fq_asc = fq\n",
    "    fq_dec = fq_asc[::-1]\n",
    "    g_asc= g\n",
    "    g_dec= g_asc[::-1]\n",
    "    h_asc = GF_mult(g_asc,fq_asc,N,q)\n",
    "    h_dec= h_asc[::-1]\n",
    "    \n",
    "    print(\"\\nKey Generation:\")\n",
    "    print(\"f :\", f_dec)\n",
    "    print(\"fp:\", fp_dec)\n",
    "    print(\"fq:\", fq_dec)\n",
    "    print(\"fp*f mod p = \",GF_mult(f_asc,fp_asc,N,p))\n",
    "    print(\"fq*f mod q = \",GF_mult(f_asc,fq_asc,N,q))\n",
    "    print(\"g :\", g_dec)\n",
    "    print(\"h :\", h_dec)\n",
    "    return f_dec, f_asc, fp_dec, fp_asc, fq_dec, fq_asc, g_dec,g_asc,h_dec,h_asc"
   ]
  },
  {
   "cell_type": "code",
   "execution_count": 28,
   "metadata": {},
   "outputs": [],
   "source": [
    "def NTRU_Enc(m,r,p,h_asc,N,q):\n",
    "    print(\"\\nEncryption:\")\n",
    "    m_dec = m    \n",
    "    m_asc= m_dec[::-1]\n",
    "    r_dec = r\n",
    "    r_asc= r_dec[::-1]\n",
    "    print(\"m :\", m_dec)\n",
    "    print(\"r :\", r_dec)\n",
    "    \n",
    "    c1_asc = GF_mult(r_asc,h_asc,N,q)\n",
    "    c1_dec = c1_asc[::-1]\n",
    "    print(\"c1 :\", c1_dec)\n",
    "    c2_asc = p*c1_asc\n",
    "    c2_dec = c2_asc[::-1]\n",
    "    print(\"c2 :\", c2_dec)\n",
    "    c_asc = GF_add(c2_asc,m_asc,N,q)%q\n",
    "    c_dec = c_asc[::-1]\n",
    "    print(\"c :\", c_dec)\n",
    "    return m_asc,m_dec,r_asc,r_dec,c_asc,c_dec"
   ]
  },
  {
   "cell_type": "code",
   "execution_count": 29,
   "metadata": {},
   "outputs": [],
   "source": [
    "def center(a_asc,q):\n",
    "    for i in range(len(a_asc)):\n",
    "        if(a_asc[i]>q*0.5):\n",
    "            a_asc[i] = a_asc[i]-q\n",
    "    return a_asc"
   ]
  },
  {
   "cell_type": "code",
   "execution_count": 30,
   "metadata": {},
   "outputs": [],
   "source": [
    "def regular(m,p):\n",
    "    for i in range(len(m)):\n",
    "        if(m[i]==p-1):\n",
    "            m[i] = -1\n",
    "    return m"
   ]
  },
  {
   "cell_type": "code",
   "execution_count": 31,
   "metadata": {},
   "outputs": [],
   "source": [
    "def NTRU_Dec(f_asc,c_asc,N,q):\n",
    "    print('\\nDecryption:')\n",
    "    a_asc = GF_mult(f_asc,c_asc,N,q)\n",
    "    a_dec = a_asc[::-1]\n",
    "    print(f\"a = {a_dec}\")\n",
    "    \n",
    "    aa_asc = center(a_asc,q)\n",
    "    aa_dec = aa_asc[::-1]\n",
    "    print(f\"a' = {aa_dec}\")\n",
    "    \n",
    "    m_asc = GF_mult(fp_asc,aa_asc,N,p)\n",
    "    m_dec = m_asc[::-1]\n",
    "    print(f\"m' = {m_dec}\")\n",
    "    print(f\"m'(reg) = {regular(m_dec,p)}\")\n",
    "    return a_asc,a_dec,aa_asc,aa_dec,m_asc,m_dec"
   ]
  },
  {
   "cell_type": "code",
   "execution_count": 32,
   "metadata": {
    "scrolled": true
   },
   "outputs": [
    {
     "name": "stdout",
     "output_type": "stream",
     "text": [
      "Public Parameters\n",
      "N = 11\n",
      "p = 3\n",
      "q = 61\n",
      "\n",
      "Key Generation:\n",
      "f : [-1  0 -1  0 -1  0  1  0  1  1  1]\n",
      "fp: [0 1 0 1 0 1 2 2 2 1 0]\n",
      "fq: [45 49 26 40 53 47 21 24 60 32 31]\n",
      "fp*f mod p =  [1 0 0 0 0 0 0 0 0 0 0]\n",
      "fq*f mod q =  [1 0 0 0 0 0 0 0 0 0 0]\n",
      "g : [ 0 -1 -1  0 -1  0  1  0  1  0  1]\n",
      "h : [11 49 25 46 28 53 31 36 32  5 50]\n",
      "\n",
      "Encryption:\n",
      "m : [ 0  0  0  1  0  0 -1  1  0  1  1]\n",
      "r : [ 0 -1  0  1  0  0  1 -1  0  0  1]\n",
      "c1 : [24 56 58 52 10 29 12 51  6 59  9]\n",
      "c2 : [ 72 168 174 156  30  87  36 153  18 177  27]\n",
      "c : [11 46 52 35 30 26 35 32 18 56 28]\n",
      "\n",
      "Decryption:\n",
      "a = [58 60 60  4  0 56  6  0 55  3  6]\n",
      "a' = [-3 -1 -1  4  0 -5  6  0 -6  3  6]\n",
      "m' = [0 0 0 1 0 0 2 1 0 1 1]\n",
      "m'(reg) = [ 0  0  0  1  0  0 -1  1  0  1  1]\n"
     ]
    }
   ],
   "source": [
    "import numpy as np\n",
    "# public parameters\n",
    "N = 11\n",
    "p = 3\n",
    "q = 61\n",
    "print(\"Public Parameters\")\n",
    "print(f\"N = {N}\")\n",
    "print(f\"p = {p}\")\n",
    "print(f\"q = {q}\")\n",
    "\n",
    "# key generate\n",
    "f = np.array([1, 1, 1, 0, 1, 0, -1, 0, -1, 0, -1])\n",
    "g = np.array([1, 0, 1, 0, 1, 0, -1, 0, -1, -1, 0])\n",
    "#https://asecuritysite.com/lattice/ntru_key\n",
    "fp = np.array([0, 1, 2, 2, 2, 1, 0, 1, 0, 1, 0])\n",
    "fq = np.array([31, 32, 60, 24, 21, 47, 53, 40, 26, 49, 45])\n",
    "f_dec, f_asc, fp_dec, fp_asc, fq_dec, fq_asc, g_dec,g_asc,h_dec,h_asc = NTRU_Key(N,p,q,f,g,fp,fq)\n",
    "\n",
    "# Encryption\n",
    "m = np.array([0,0,0,1,0,0,-1,1,0,1,1])\n",
    "r = np.array([0,-1,0,1,0,0,1,-1,0,0,1])\n",
    "m_asc,m_dec,r_asc,r_dec,c_asc,c_dec = NTRU_Enc(m,r,p,h_asc,N,q)\n",
    "\n",
    "# Decryption\n",
    "a_asc,a_dec,aa_asc,aa_dec,m_asc,m_dec = NTRU_Dec(f_asc,c_asc,N,q)"
   ]
  },
  {
   "cell_type": "code",
   "execution_count": 33,
   "metadata": {},
   "outputs": [
    {
     "name": "stdout",
     "output_type": "stream",
     "text": [
      "Public Parameters\n",
      "N = 11\n",
      "p = 3\n",
      "q = 32\n",
      "\n",
      "Key Generation:\n",
      "f : [-1  1  0  0  1  0 -1  0  1  1 -1]\n",
      "fp: [0 2 1 2 0 1 2 2 0 2 1]\n",
      "fq: [30 18 20 22 16 15  4 16  6  9  5]\n",
      "fp*f mod p =  [1 0 0 0 0 0 0 0 0 0 0]\n",
      "fq*f mod q =  [1 0 0 0 0 0 0 0 0 0 0]\n",
      "g : [-1  0 -1  0  0  0  0  1  1  1 -1]\n",
      "h : [19  1 10 27 11  7 22 16  7  2  6]\n",
      "\n",
      "Encryption:\n",
      "m : [0 0 0 0 1 1 0 1 0 0 1]\n",
      "r : [0 0 0 1 0 0 0 0 1 1 1]\n",
      "c1 : [14 13 18 19 27 14 23 20 26  2 16]\n",
      "c2 : [42 39 54 57 81 42 69 60 78  6 48]\n",
      "c : [10  7 22 25 18 11  5 29 14  6 17]\n",
      "\n",
      "Decryption:\n",
      "a = [27  1  1 30 30  2  3  9  3  0 26]\n",
      "a' = [-5  1  1 -2 -2  2  3  9  3  0 -6]\n",
      "m' = [0 0 0 0 1 1 0 1 0 0 1]\n",
      "m'(reg) = [0 0 0 0 1 1 0 1 0 0 1]\n"
     ]
    }
   ],
   "source": [
    "import numpy as np\n",
    "# public parameters\n",
    "N = 11\n",
    "p = 3\n",
    "q = 32\n",
    "print(\"Public Parameters\")\n",
    "print(f\"N = {N}\")\n",
    "print(f\"p = {p}\")\n",
    "print(f\"q = {q}\")\n",
    "\n",
    "# key generate\n",
    "f = np.array([-1, 1, 1, 0, -1, 0, 1, 0, 0, 1, -1])\n",
    "g = np.array([-1, 1, 1, 1, 0, 0, 0, 0, -1, 0, -1])\n",
    "#https://asecuritysite.com/lattice/ntru_key\n",
    "fp = np.array([1, 2, 0, 2, 2, 1, 0, 2, 1, 2, 0])\n",
    "fq = np.array([5, 9, 6, 16, 4, 15, 16, 22, 20, 18, 30])\n",
    "f_dec, f_asc, fp_dec, fp_asc, fq_dec, fq_asc, g_dec,g_asc,h_dec,h_asc = NTRU_Key(N,p,q,f,g,fp,fq)\n",
    "\n",
    "# Encryption\n",
    "m = np.array([0,0,0,0,1,1,0,1,0,0,1])\n",
    "r = np.array([0,0,0,1,0,0,0,0,1,1,1])\n",
    "m_asc,m_dec,r_asc,r_dec,c_asc,c_dec = NTRU_Enc(m,r,p,h_asc,N,q)\n",
    "\n",
    "# Decryption\n",
    "a_asc,a_dec,aa_asc,aa_dec,m_asc,m_dec = NTRU_Dec(f_asc,c_asc,N,q)"
   ]
  },
  {
   "cell_type": "markdown",
   "metadata": {},
   "source": [
    "## McEliece"
   ]
  },
  {
   "cell_type": "code",
   "execution_count": 74,
   "metadata": {},
   "outputs": [
    {
     "name": "stdout",
     "output_type": "stream",
     "text": [
      "G:\n",
      "[[1 0 0 0 1 1 0]\n",
      " [0 1 0 0 1 0 1]\n",
      " [0 0 1 0 0 1 1]\n",
      " [0 0 0 1 1 1 1]]\n"
     ]
    }
   ],
   "source": [
    "# Hamming Code\n",
    "import numpy as np\n",
    "\n",
    "G = np.array([\n",
    "    [1, 0, 0, 0, 1, 1, 0],\n",
    "    [0, 1, 0, 0, 1, 0, 1],\n",
    "    [0, 0, 1, 0, 0, 1, 1],\n",
    "    [0, 0, 0, 1, 1, 1, 1]\n",
    "])\n",
    "print(f\"G:\\n{G}\")"
   ]
  },
  {
   "cell_type": "code",
   "execution_count": 75,
   "metadata": {},
   "outputs": [
    {
     "name": "stdout",
     "output_type": "stream",
     "text": [
      "S:\n",
      "[[1 0 1 0]\n",
      " [0 1 1 0]\n",
      " [1 1 0 1]\n",
      " [1 0 0 0]]\n",
      "\n",
      "det(S):1.0\n"
     ]
    }
   ],
   "source": [
    "S = np.array([\n",
    "    [1, 0, 1, 0],\n",
    "    [0, 1, 1, 0],\n",
    "    [1, 1, 0, 1],\n",
    "    [1, 0, 0, 0]\n",
    "])\n",
    "print(f\"S:\\n{S}\")\n",
    "det_S = np.linalg.det(S)\n",
    "print(f\"\\ndet(S):{det_S}\")"
   ]
  },
  {
   "cell_type": "code",
   "execution_count": 76,
   "metadata": {},
   "outputs": [
    {
     "name": "stdout",
     "output_type": "stream",
     "text": [
      "P:\n",
      "[[0 1 0 0 0 0 0]\n",
      " [0 0 0 0 0 1 0]\n",
      " [0 0 0 1 0 0 0]\n",
      " [1 0 0 0 0 0 0]\n",
      " [0 0 1 0 0 0 0]\n",
      " [0 0 0 0 0 0 1]\n",
      " [0 0 0 0 1 0 0]]\n",
      "\n",
      "det(P):1.0\n"
     ]
    }
   ],
   "source": [
    "P = np.array([\n",
    "    [0,1,0,0,0,0,0],\n",
    "    [0,0,0,0,0,1,0],\n",
    "    [0,0,0,1,0,0,0],\n",
    "    [1,0,0,0,0,0,0],\n",
    "    [0,0,1,0,0,0,0],\n",
    "    [0,0,0,0,0,0,1],\n",
    "    [0,0,0,0,1,0,0],\n",
    "])\n",
    "print(f\"P:\\n{P}\")\n",
    "det_P = np.linalg.det(P)\n",
    "print(f\"\\ndet(P):{det_P}\")"
   ]
  },
  {
   "cell_type": "code",
   "execution_count": 77,
   "metadata": {},
   "outputs": [
    {
     "name": "stdout",
     "output_type": "stream",
     "text": [
      "SG:\n",
      "[[1 0 1 0 1 0 1]\n",
      " [0 1 1 0 1 1 0]\n",
      " [1 1 0 1 1 0 0]\n",
      " [1 0 0 0 1 1 0]]\n"
     ]
    }
   ],
   "source": [
    "SG = np.mod(np.dot(S, G),2)\n",
    "print(f\"SG:\\n{SG}\")"
   ]
  },
  {
   "cell_type": "code",
   "execution_count": 78,
   "metadata": {},
   "outputs": [
    {
     "name": "stdout",
     "output_type": "stream",
     "text": [
      "G^:\n",
      "[[0 1 1 1 1 0 0]\n",
      " [0 0 1 1 0 1 1]\n",
      " [1 1 1 0 0 1 0]\n",
      " [0 1 1 0 0 0 1]]\n"
     ]
    }
   ],
   "source": [
    "G_hat = np.mod(np.dot(SG, P), 2)\n",
    "print(f\"G^:\\n{G_hat}\")"
   ]
  },
  {
   "cell_type": "code",
   "execution_count": 79,
   "metadata": {},
   "outputs": [
    {
     "name": "stdout",
     "output_type": "stream",
     "text": [
      "m:\n",
      "[0 1 1 0]\n"
     ]
    }
   ],
   "source": [
    "m = np.array([0, 1, 1, 0])\n",
    "print(f\"m:\\n{m}\")"
   ]
  },
  {
   "cell_type": "code",
   "execution_count": 80,
   "metadata": {},
   "outputs": [
    {
     "name": "stdout",
     "output_type": "stream",
     "text": [
      "c':\n",
      "[1 1 0 1 0 0 1]\n"
     ]
    }
   ],
   "source": [
    "c_prime = np.mod(np.dot(m, G_hat), 2)\n",
    "print(f\"c':\\n{c_prime}\")"
   ]
  },
  {
   "cell_type": "code",
   "execution_count": 81,
   "metadata": {},
   "outputs": [
    {
     "name": "stdout",
     "output_type": "stream",
     "text": [
      "z:\n",
      "[0 0 0 1 0 0 0]\n"
     ]
    }
   ],
   "source": [
    "z = np.array([0,0,0,1,0,0,0])\n",
    "print(f\"z:\\n{z}\")"
   ]
  },
  {
   "cell_type": "code",
   "execution_count": 82,
   "metadata": {},
   "outputs": [
    {
     "name": "stdout",
     "output_type": "stream",
     "text": [
      "c:\n",
      "[1 1 0 0 0 0 1]\n"
     ]
    }
   ],
   "source": [
    "c = np.mod(np.add(c_prime,z), 2)\n",
    "print(f\"c:\\n{c}\")"
   ]
  },
  {
   "cell_type": "code",
   "execution_count": 83,
   "metadata": {},
   "outputs": [
    {
     "name": "stdout",
     "output_type": "stream",
     "text": [
      "P-1:\n",
      "[[0 0 0 1 0 0 0]\n",
      " [1 0 0 0 0 0 0]\n",
      " [0 0 0 0 1 0 0]\n",
      " [0 0 1 0 0 0 0]\n",
      " [0 0 0 0 0 0 1]\n",
      " [0 1 0 0 0 0 0]\n",
      " [0 0 0 0 0 1 0]]\n"
     ]
    }
   ],
   "source": [
    "P_inv = np.linalg.inv(P)  \n",
    "P_inv = np.mod(P_inv, 2)  \n",
    "P_inv = np.round(P_inv).astype(int)  \n",
    "print(f\"P-1:\\n{P_inv}\")"
   ]
  },
  {
   "cell_type": "code",
   "execution_count": 84,
   "metadata": {},
   "outputs": [
    {
     "name": "stdout",
     "output_type": "stream",
     "text": [
      "c^:\n",
      "[1 0 0 1 0 1 0]\n"
     ]
    }
   ],
   "source": [
    "c_hat = np.mod(np.dot(c, P_inv), 2)\n",
    "print(f\"c^:\\n{c_hat}\")"
   ]
  },
  {
   "cell_type": "code",
   "execution_count": 85,
   "metadata": {},
   "outputs": [
    {
     "name": "stdout",
     "output_type": "stream",
     "text": [
      "m^:\n",
      "[1 0 1 1]\n"
     ]
    }
   ],
   "source": [
    "m_hat = np.array([1,0,1,1])\n",
    "print(f\"m^:\\n{m_hat}\")"
   ]
  },
  {
   "cell_type": "code",
   "execution_count": 86,
   "metadata": {},
   "outputs": [
    {
     "name": "stdout",
     "output_type": "stream",
     "text": [
      "S-1:\n",
      "[[0 0 0 1]\n",
      " [1 1 0 1]\n",
      " [1 0 0 1]\n",
      " [1 1 1 0]]\n"
     ]
    }
   ],
   "source": [
    "S_inv = np.linalg.inv(S)  \n",
    "S_inv = np.mod(S_inv, 2)  \n",
    "S_inv = np.round(S_inv).astype(int)  \n",
    "print(f\"S-1:\\n{S_inv}\")"
   ]
  },
  {
   "cell_type": "code",
   "execution_count": 87,
   "metadata": {},
   "outputs": [
    {
     "data": {
      "text/plain": [
       "array([0, 1, 1, 0], dtype=int32)"
      ]
     },
     "execution_count": 87,
     "metadata": {},
     "output_type": "execute_result"
    }
   ],
   "source": [
    "np.mod(np.dot(m_hat,S_inv), 2)"
   ]
  },
  {
   "cell_type": "code",
   "execution_count": 88,
   "metadata": {},
   "outputs": [
    {
     "data": {
      "text/plain": [
       "array([[1, 0, 0, 0],\n",
       "       [0, 1, 0, 0],\n",
       "       [0, 0, 1, 0],\n",
       "       [0, 0, 0, 1]], dtype=int32)"
      ]
     },
     "execution_count": 88,
     "metadata": {},
     "output_type": "execute_result"
    }
   ],
   "source": [
    "np.mod(np.dot(S,S_inv), 2)"
   ]
  },
  {
   "cell_type": "code",
   "execution_count": null,
   "metadata": {},
   "outputs": [],
   "source": []
  }
 ],
 "metadata": {
  "colab": {
   "provenance": []
  },
  "kernelspec": {
   "display_name": "Python 3",
   "language": "python",
   "name": "python3"
  },
  "language_info": {
   "codemirror_mode": {
    "name": "ipython",
    "version": 3
   },
   "file_extension": ".py",
   "mimetype": "text/x-python",
   "name": "python",
   "nbconvert_exporter": "python",
   "pygments_lexer": "ipython3",
   "version": "3.8.5"
  }
 },
 "nbformat": 4,
 "nbformat_minor": 1
}
