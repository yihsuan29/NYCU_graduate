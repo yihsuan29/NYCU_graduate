{
 "cells": [
  {
   "cell_type": "markdown",
   "metadata": {},
   "source": [
    "## DFT"
   ]
  },
  {
   "cell_type": "code",
   "execution_count": 1,
   "metadata": {},
   "outputs": [],
   "source": [
    "import numpy as np\n",
    "import matplotlib.pyplot as plt\n",
    "import math"
   ]
  },
  {
   "cell_type": "code",
   "execution_count": 2,
   "metadata": {},
   "outputs": [],
   "source": [
    "def g(N, s):\n",
    "    a=[]\n",
    "    for i in range(N):\n",
    "        a.append((i%s) + 1)\n",
    "    return np.array(a)"
   ]
  },
  {
   "cell_type": "code",
   "execution_count": 3,
   "metadata": {},
   "outputs": [],
   "source": [
    "def DFT(N,a):\n",
    "    omega = np.exp(-2j* np.pi/N)\n",
    "    f=[]\n",
    "    for y in range(N):\n",
    "        fy = 0\n",
    "        for x in range(N):\n",
    "            fy+=a[x]*(omega**(y*x))\n",
    "        f.append(fy)\n",
    "    f = np.array(f)\n",
    "    f[np.abs(f) < 1e-8] = 0\n",
    "    f = abs(f)/sum(abs(f))\n",
    "    f = np.round(f, 4)\n",
    "    return f\n",
    "        "
   ]
  },
  {
   "cell_type": "code",
   "execution_count": 4,
   "metadata": {},
   "outputs": [],
   "source": [
    "def plot(dft):\n",
    "    plt.figure(figsize=(10, 4))\n",
    "    plt.bar(range(len(dft)), dft)\n",
    "    plt.xlabel('DFT Indices')\n",
    "    plt.title('Discrete Foutier Transform')\n",
    "\n",
    "    # Display the plot\n",
    "    plt.show()"
   ]
  },
  {
   "cell_type": "code",
   "execution_count": 5,
   "metadata": {},
   "outputs": [],
   "source": [
    "def ContiFrac(x):\n",
    "    k = []\n",
    "    z = []\n",
    "    k_tmp = 1\n",
    "    print(f\"\\nContinuous Fractorization\")\n",
    "    for i in range(3):\n",
    "        ki = int(x+0.5)\n",
    "        k.append(ki)\n",
    "        z.append(k_tmp*ki+1)\n",
    "        k_tmp = ki\n",
    "        zi = math.floor(x)\n",
    "        print(f\"{x} = {zi} +\", end = \" \")\n",
    "        x -= zi\n",
    "        x = 1/x\n",
    "        print(f\"1/{x}\")\n",
    "    z[1]=k[1]\n",
    "    k[1]=1\n",
    "    return z,k"
   ]
  },
  {
   "cell_type": "code",
   "execution_count": 6,
   "metadata": {},
   "outputs": [],
   "source": [
    "def findPeak(arr):\n",
    "    d = []\n",
    "    for i in range(1,len(arr)-1):\n",
    "        if(arr[i]>arr[i-1] and arr[i]>arr[i+1]):\n",
    "            d.append(i)\n",
    "            if(len(d)>5):\n",
    "                return d"
   ]
  },
  {
   "cell_type": "code",
   "execution_count": 7,
   "metadata": {},
   "outputs": [],
   "source": [
    "def findDeno(d,N):\n",
    "    for i in range(len(d)):\n",
    "        z,k = ContiFrac(d[i]/N)\n",
    "        for j in range(1,len(z)):\n",
    "            if(abs(k[j]/z[j] - d[i]/N)<1/(2*N) and z[j]<2**N):\n",
    "                print(f\"z = {z[j]}\")\n",
    "                return z[j]"
   ]
  },
  {
   "cell_type": "code",
   "execution_count": 8,
   "metadata": {},
   "outputs": [
    {
     "data": {
      "image/png": "[encoded data removed]",
      "text/plain": [
       "<Figure size 720x288 with 1 Axes>"
      ]
     },
     "metadata": {
      "needs_background": "light"
     },
     "output_type": "display_data"
    },
    {
     "name": "stdout",
     "output_type": "stream",
     "text": [
      "d = [28, 57, 85, 114, 142, 171]\n",
      "\n",
      "Continuous Fractorization\n",
      "0.109375 = 0 + 1/9.142857142857142\n",
      "9.142857142857142 = 9 + 1/7.000000000000025\n",
      "7.000000000000025 = 7 + 1/40210710958665.14\n",
      "z = 9\n"
     ]
    }
   ],
   "source": [
    "N = 256\n",
    "s = 9\n",
    "a = g(N,s)\n",
    "dft = DFT(N,a)\n",
    "plot(dft)\n",
    "d = findPeak(dft)\n",
    "print(f\"d = {d}\")\n",
    "z = findDeno(d,N)"
   ]
  },
  {
   "cell_type": "markdown",
   "metadata": {},
   "source": [
    "## Factoring & find period"
   ]
  },
  {
   "cell_type": "code",
   "execution_count": 1,
   "metadata": {},
   "outputs": [],
   "source": [
    "def G(a,M):\n",
    "    g = []\n",
    "    for x in range (M):\n",
    "        g.append((a**x)%M)\n",
    "    return np.array(g)"
   ]
  },
  {
   "cell_type": "code",
   "execution_count": 10,
   "metadata": {},
   "outputs": [],
   "source": [
    "def Find1(g):\n",
    "    indices = np.where(g == 1)[0]\n",
    "    return indices[1]"
   ]
  },
  {
   "cell_type": "code",
   "execution_count": 11,
   "metadata": {},
   "outputs": [],
   "source": [
    "def gcd(a, b):\n",
    "    while b:\n",
    "        a, b = b, a % b\n",
    "    return a"
   ]
  },
  {
   "cell_type": "code",
   "execution_count": 16,
   "metadata": {},
   "outputs": [],
   "source": [
    "def findPQ(z,M):\n",
    "    p = gcd(z//2+1,M)\n",
    "    q = gcd(z//2-1,M)\n",
    "    print(f\"p = {p}, q = {q}\")\n",
    "    return p,q"
   ]
  },
  {
   "cell_type": "code",
   "execution_count": 17,
   "metadata": {},
   "outputs": [
    {
     "data": {
      "image/png": "[encoded data removed]",
      "text/plain": [
       "<Figure size 720x288 with 1 Axes>"
      ]
     },
     "metadata": {
      "needs_background": "light"
     },
     "output_type": "display_data"
    },
    {
     "name": "stdout",
     "output_type": "stream",
     "text": [
      "d = [3, 6, 9, 11, 14, 21]\n",
      "\n",
      "Continuous Fractorization\n",
      "0.08571428571428572 = 0 + 1/11.666666666666666\n",
      "11.666666666666666 = 11 + 1/1.5000000000000013\n",
      "1.5000000000000013 = 1 + 1/1.9999999999999947\n",
      "z = 12\n",
      "p = 7, q = 5\n"
     ]
    }
   ],
   "source": [
    "M=35\n",
    "a=2\n",
    "arr = G(a,M)\n",
    "dft = DFT(M,arr)\n",
    "plot(dft)\n",
    "d = findPeak(dft)\n",
    "print(f\"d = {d}\")\n",
    "z = findDeno(d,M)\n",
    "p,q = findPQ(z,M)"
   ]
  },
  {
   "cell_type": "code",
   "execution_count": null,
   "metadata": {},
   "outputs": [],
   "source": []
  }
 ],
 "metadata": {
  "kernelspec": {
   "display_name": "Python 3",
   "language": "python",
   "name": "python3"
  },
  "language_info": {
   "codemirror_mode": {
    "name": "ipython",
    "version": 3
   },
   "file_extension": ".py",
   "mimetype": "text/x-python",
   "name": "python",
   "nbconvert_exporter": "python",
   "pygments_lexer": "ipython3",
   "version": "3.8.5"
  }
 },
 "nbformat": 4,
 "nbformat_minor": 4
}
