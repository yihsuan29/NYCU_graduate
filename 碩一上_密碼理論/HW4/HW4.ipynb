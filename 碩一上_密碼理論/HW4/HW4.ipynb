{
 "cells": [
  {
   "cell_type": "markdown",
   "metadata": {},
   "source": [
    "## Q1"
   ]
  },
  {
   "cell_type": "code",
   "execution_count": 1,
   "metadata": {},
   "outputs": [],
   "source": [
    "import numpy as np\n",
    "import matplotlib.pyplot as plt\n",
    "import math"
   ]
  },
  {
   "cell_type": "code",
   "execution_count": 6,
   "metadata": {},
   "outputs": [],
   "source": [
    "def G_func(a,n,M):\n",
    "    g = []\n",
    "    for x in range (2**n):\n",
    "        g.append((a**x)%M)\n",
    "    return np.array(g)"
   ]
  },
  {
   "cell_type": "code",
   "execution_count": 7,
   "metadata": {},
   "outputs": [],
   "source": [
    "def X_func(g, theta,M):\n",
    "    x = np.zeros(len(g))\n",
    "    count=0\n",
    "    for i in range(len(g)):\n",
    "        if g[i] == theta:\n",
    "            count+=1\n",
    "            if count<4 or i>(len(g)-10):\n",
    "                print(f\"|{i}> |{g[i]}>\")\n",
    "            x[i]=1\n",
    "    print(count)\n",
    "    count = count**0.5\n",
    "    x/=(count)\n",
    "    return x\n",
    "    "
   ]
  },
  {
   "cell_type": "code",
   "execution_count": 8,
   "metadata": {},
   "outputs": [],
   "source": [
    "def QFT(a):\n",
    "    N = len(a)\n",
    "    omega = np.exp(-2j* np.pi/N)\n",
    "    f=[]\n",
    "    for y in range(N):\n",
    "        fy = 0\n",
    "        for x in range(N):\n",
    "            fy+=a[x]*(omega**(y*x))\n",
    "        f.append(fy)\n",
    "    f = np.array(f)\n",
    "    f = abs(f)/sum(abs(f))\n",
    "    f = np.round(f, 4)\n",
    "    return f\n",
    "        "
   ]
  },
  {
   "cell_type": "code",
   "execution_count": 2,
   "metadata": {},
   "outputs": [
    {
     "data": {
      "text/plain": [
       "(0.7071067811865476-0.7071067811865476j)"
      ]
     },
     "execution_count": 2,
     "metadata": {},
     "output_type": "execute_result"
    }
   ],
   "source": [
    "np.exp(-2j* np.pi/8)"
   ]
  },
  {
   "cell_type": "code",
   "execution_count": 3,
   "metadata": {},
   "outputs": [
    {
     "data": {
      "text/plain": [
       "0.7071067811865476"
      ]
     },
     "execution_count": 3,
     "metadata": {},
     "output_type": "execute_result"
    }
   ],
   "source": [
    "np.cos(-2*np.pi/8)"
   ]
  },
  {
   "cell_type": "code",
   "execution_count": 4,
   "metadata": {},
   "outputs": [
    {
     "data": {
      "text/plain": [
       "-0.7071067811865476"
      ]
     },
     "execution_count": 4,
     "metadata": {},
     "output_type": "execute_result"
    }
   ],
   "source": [
    "np.sin(-2*np.pi/8)"
   ]
  },
  {
   "cell_type": "code",
   "execution_count": 9,
   "metadata": {},
   "outputs": [],
   "source": [
    "def findPeak(arr):\n",
    "    d = []\n",
    "    for i in range(1,len(arr)-1):\n",
    "        if(arr[i]>arr[i-1] and arr[i]>arr[i+1]):\n",
    "            d.append(i)\n",
    "    return d"
   ]
  },
  {
   "cell_type": "code",
   "execution_count": 10,
   "metadata": {},
   "outputs": [],
   "source": [
    "def plot(qft):\n",
    "    plt.figure(figsize=(10, 20))\n",
    "    plt.bar(range(len(qft)), qft)\n",
    "    plt.title('QFT')\n",
    "\n",
    "    # Display the plot\n",
    "    plt.show()"
   ]
  },
  {
   "cell_type": "code",
   "execution_count": 11,
   "metadata": {},
   "outputs": [],
   "source": [
    "def ContiFrac(x):\n",
    "    k = []\n",
    "    z = []\n",
    "    k_tmp = 1\n",
    "    print(f\"\\nContinuous Fractorization\")\n",
    "    for i in range(3):\n",
    "        ki = int(x+0.5)\n",
    "        k.append(ki)\n",
    "        z.append(k_tmp*ki+1)\n",
    "        k_tmp = ki\n",
    "        zi = math.floor(x)\n",
    "        print(f\"{x} = {zi} +\", end = \" \")\n",
    "        x -= zi\n",
    "        x = 1/x\n",
    "        print(f\"1/{x}\")\n",
    "    z[1]=k[1]\n",
    "    k[1]=1\n",
    "    return z,k"
   ]
  },
  {
   "cell_type": "code",
   "execution_count": 12,
   "metadata": {},
   "outputs": [],
   "source": [
    "def gcd(a, b):\n",
    "    while b:\n",
    "        a, b = b, a % b\n",
    "    return a"
   ]
  },
  {
   "cell_type": "code",
   "execution_count": 9,
   "metadata": {},
   "outputs": [],
   "source": [
    "M = 65\n",
    "a = 6\n",
    "m = 7\n",
    "n = 14"
   ]
  },
  {
   "cell_type": "code",
   "execution_count": 10,
   "metadata": {},
   "outputs": [
    {
     "data": {
      "text/plain": [
       "array([ 1,  6, 36, ...,  6, 36, 21])"
      ]
     },
     "execution_count": 10,
     "metadata": {},
     "output_type": "execute_result"
    }
   ],
   "source": [
    "g = G_func(a,n,M)\n",
    "g"
   ]
  },
  {
   "cell_type": "code",
   "execution_count": 11,
   "metadata": {},
   "outputs": [
    {
     "name": "stdout",
     "output_type": "stream",
     "text": [
      "|3> |21>\n",
      "|15> |21>\n",
      "|27> |21>\n",
      "|16383> |21>\n",
      "1366\n"
     ]
    },
    {
     "data": {
      "text/plain": [
       "array([0.        , 0.        , 0.        , ..., 0.        , 0.        ,\n",
       "       0.02705669])"
      ]
     },
     "execution_count": 11,
     "metadata": {},
     "output_type": "execute_result"
    }
   ],
   "source": [
    "theta = 21\n",
    "X = X_func(g,theta,M)\n",
    "X"
   ]
  },
  {
   "cell_type": "code",
   "execution_count": 12,
   "metadata": {},
   "outputs": [],
   "source": [
    "qft = QFT(X)"
   ]
  },
  {
   "cell_type": "code",
   "execution_count": 13,
   "metadata": {},
   "outputs": [
    {
     "name": "stdout",
     "output_type": "stream",
     "text": [
      "d = [1365, 2731, 4096, 5461, 6827, 8192, 9557, 10923, 12288, 13653, 15019]\n"
     ]
    }
   ],
   "source": [
    "d = findPeak(qft)\n",
    "print(f\"d = {d}\")"
   ]
  },
  {
   "cell_type": "code",
   "execution_count": 14,
   "metadata": {},
   "outputs": [
    {
     "name": "stdout",
     "output_type": "stream",
     "text": [
      "Index: 0, Value: 0.0222\n",
      "Index: 12288, Value: 0.0222\n",
      "Index: 4096, Value: 0.0222\n",
      "Index: 8192, Value: 0.0222\n",
      "Index: 2731, Value: 0.0183\n",
      "Index: 5461, Value: 0.0183\n",
      "Index: 9557, Value: 0.0183\n",
      "Index: 1365, Value: 0.0183\n",
      "Index: 13653, Value: 0.0183\n",
      "Index: 10923, Value: 0.0183\n"
     ]
    }
   ],
   "source": [
    "sorted_indices = np.argsort(-qft)\n",
    "\n",
    "# Print the top 10 (index, value) pairs\n",
    "for i in range(10):\n",
    "    index = sorted_indices[i]\n",
    "    value = qft[index]\n",
    "    print(f\"Index: {index}, Value: {value}\")"
   ]
  },
  {
   "cell_type": "code",
   "execution_count": 15,
   "metadata": {},
   "outputs": [],
   "source": [
    "d = 1366\n",
    "N = 2**14"
   ]
  },
  {
   "cell_type": "code",
   "execution_count": 16,
   "metadata": {},
   "outputs": [
    {
     "name": "stdout",
     "output_type": "stream",
     "text": [
      "\n",
      "Continuous Fractorization\n",
      "0.0833740234375 = 0 + 1/11.994143484626647\n",
      "11.994143484626647 = 11 + 1/1.0058910162002943\n",
      "1.0058910162002943 = 1 + 1/169.750000000007\n"
     ]
    },
    {
     "data": {
      "text/plain": [
       "([1, 12, 13], [0, 1, 1])"
      ]
     },
     "execution_count": 16,
     "metadata": {},
     "output_type": "execute_result"
    }
   ],
   "source": [
    "ContiFrac(d/N)"
   ]
  },
  {
   "cell_type": "code",
   "execution_count": 17,
   "metadata": {},
   "outputs": [],
   "source": [
    "s = 12"
   ]
  },
  {
   "cell_type": "code",
   "execution_count": 18,
   "metadata": {},
   "outputs": [
    {
     "data": {
      "text/plain": [
       "46657"
      ]
     },
     "execution_count": 18,
     "metadata": {},
     "output_type": "execute_result"
    }
   ],
   "source": [
    "6**6+1"
   ]
  },
  {
   "cell_type": "code",
   "execution_count": 19,
   "metadata": {},
   "outputs": [
    {
     "data": {
      "text/plain": [
       "5.0"
      ]
     },
     "execution_count": 19,
     "metadata": {},
     "output_type": "execute_result"
    }
   ],
   "source": [
    "p = gcd(M, a**(s/2)-1)\n",
    "p"
   ]
  },
  {
   "cell_type": "code",
   "execution_count": 20,
   "metadata": {},
   "outputs": [
    {
     "data": {
      "text/plain": [
       "13.0"
      ]
     },
     "execution_count": 20,
     "metadata": {},
     "output_type": "execute_result"
    }
   ],
   "source": [
    "q = gcd(M, a**(s/2)+1)\n",
    "q"
   ]
  },
  {
   "cell_type": "markdown",
   "metadata": {},
   "source": [
    "## Q2"
   ]
  },
  {
   "cell_type": "code",
   "execution_count": 13,
   "metadata": {},
   "outputs": [],
   "source": [
    "def extended_euclidean(a, n):\n",
    "    # Initialize values\n",
    "    r1, r2 = n, a\n",
    "    t1, t2 = 1, 0  # t now holds the values previously held by s\n",
    "    s1, s2 = 0, 1  # s now holds the values previously held by t\n",
    "\n",
    "    # Print the initial header\n",
    "#     print(f\"{'t':<5} | {'s':<7} | {'r':<7} | {'q':<7}\")\n",
    "#     print(f\"{t1:<5} | {s1:<7} | {r1:<7} |\")\n",
    "#     print(f\"{t2:<5} | {s2:<7} | {r2:<7} |\")\n",
    "\n",
    "    while r2 != 0:\n",
    "        q = r1 // r2  # Quotient\n",
    "        r = r1 - q * r2  # Remainder\n",
    "        r1, r2 = r2, r\n",
    "        t = t1 - q * t2\n",
    "        t1, t2 = t2, t\n",
    "        s = s1 - q * s2\n",
    "        s1, s2 = s2, s\n",
    "\n",
    "        if r2 ==0:\n",
    "            t=\"\"\n",
    "            s=\"\"\n",
    "        # Print s, t, r, q in the required format\n",
    "        #print(f\"{t:<5} | {s:<7} | {r:<7} | {q:<7}\")\n",
    "\n",
    "    # At the end of the loop, r1 is the gcd and s1 is the modular inverse if r1 == 1\n",
    "    if r1 == 1:\n",
    "        return s1 % n  # Ensure the inverse is positive\n",
    "    else:\n",
    "        return None  # Inverse doesn't exist if gcd(a, n) != 1\n",
    "\n"
   ]
  },
  {
   "cell_type": "code",
   "execution_count": 14,
   "metadata": {},
   "outputs": [],
   "source": [
    "x=[1,2,3,5]\n",
    "y=[5,1,7,4]"
   ]
  },
  {
   "cell_type": "code",
   "execution_count": 15,
   "metadata": {},
   "outputs": [
    {
     "name": "stdout",
     "output_type": "stream",
     "text": [
      "lambda_0(0) = -30/-8\n",
      "lambda_0(0) = 15/4\n",
      "lambda_0(0) = 1*2 mod 7 = 2\n",
      "lambda_1(0) = -15/3\n",
      "lambda_1(0) = -5/1\n",
      "lambda_1(0) = 2*1 mod 7 = 2\n",
      "lambda_2(0) = -10/-4\n",
      "lambda_2(0) = 5/2\n",
      "lambda_2(0) = 5*4 mod 7 = 6\n",
      "lambda_3(0) = -6/24\n",
      "lambda_3(0) = -1/4\n",
      "lambda_3(0) = 6*2 mod 7 = 5\n",
      "f(0) = 4\n",
      "[4 0 0 0]\n"
     ]
    }
   ],
   "source": [
    "q = 7\n",
    "f = 0\n",
    "lambda_ = np.zeros((4,4), dtype=int)\n",
    "f = np.zeros((4), dtype=int)\n",
    "for X in range(1):\n",
    "    for i in range(4):\n",
    "        den = 1\n",
    "        neu = 1\n",
    "        for j in range(4):\n",
    "            if(i==j):\n",
    "                continue\n",
    "            den*=(x[i]-x[j])\n",
    "            neu*=(X-x[j])\n",
    "        print(f\"lambda_{i}({X}) = {neu}/{den}\")\n",
    "        g= gcd(abs(neu),abs(den))\n",
    "        neu//=g\n",
    "        den//=g\n",
    "        if den<0:\n",
    "            neu *=-1\n",
    "            den *=-1\n",
    "        print(f\"lambda_{i}({X}) = {neu}/{den}\")\n",
    "        neu= neu% q\n",
    "        den = extended_euclidean(den, q)\n",
    "        lambda_[X][i]=(neu*den)%q\n",
    "        print(f\"lambda_{i}({X}) = {neu}*{den} mod {q} = {lambda_[X][i]}\")\n",
    "\n",
    "        f[X] +=y[i]*lambda_[X][i]\n",
    "    \n",
    "    f[X]%=q\n",
    "    print(f\"f({X}) = {f[X]%q}\")\n",
    "print(f)"
   ]
  },
  {
   "cell_type": "markdown",
   "metadata": {},
   "source": [
    "## Q4"
   ]
  },
  {
   "cell_type": "code",
   "execution_count": 24,
   "metadata": {},
   "outputs": [],
   "source": [
    "p = 139\n",
    "q = 23\n",
    "g = 6\n",
    "h = 80\n",
    "c1s = [112,106,44,129,57,79,55]\n",
    "c2s = [1,125,52,100,44,77,112]\n",
    "x = [1,2,3,4]\n",
    "w = [79,36,77,106]\n",
    "J=[1,2,4]"
   ]
  },
  {
   "cell_type": "code",
   "execution_count": 21,
   "metadata": {},
   "outputs": [],
   "source": [
    "def count_c(c1s,p):\n",
    "    c1 = 1\n",
    "    for i in range(len(c1s)):\n",
    "        print(f\"{c1} x {c1s[i]} =\", end=\"\")\n",
    "        c1 = c1*c1s[i]\n",
    "        print(f\" {c1} mod {p}\", end =\"\")\n",
    "        c1 = c1%p\n",
    "        print(f\" = {c1}\")"
   ]
  },
  {
   "cell_type": "code",
   "execution_count": 25,
   "metadata": {},
   "outputs": [],
   "source": [
    "def lambda0(x):\n",
    "    t = len(x)\n",
    "    X=0\n",
    "    lambda_up = np.ones(t)\n",
    "    lambda_down = np.ones(t)\n",
    "    for i in range (t):\n",
    "        for j in range(t):\n",
    "            if i==j:\n",
    "                continue\n",
    "            else:\n",
    "                lambda_up[i]*=(X-x[j])\n",
    "                lambda_down[i]*=(x[i]-x[j])\n",
    "        print(f\"lambda_{i}({X}) = {lambda_up[i]} / {lambda_down[i]}\")"
   ]
  },
  {
   "cell_type": "code",
   "execution_count": 42,
   "metadata": {},
   "outputs": [],
   "source": [
    "def square_and_multiply(a, b, n):\n",
    "    z = 1\n",
    "    a = a % n\n",
    "    print(f\"{a}^{b}mod{n}\")\n",
    "    print(f\"{'b':<2} |{'':<35}| {'z':<5}\")\n",
    "    print(f\"{'':<2} |{'':<35}| {z:<5}\")\n",
    "    for i in range(b.bit_length() - 1, -1, -1):\n",
    "        current_bit = (b >> i) & 1\n",
    "        if current_bit == 0:\n",
    "            sentence = f\"{z}*{z} mod {n}\"\n",
    "            z = (z * z) % n\n",
    "\n",
    "        else:\n",
    "            sentence = f\"{z}*{z}*{a} mod {n}\"\n",
    "            z = (z* z * a) % n\n",
    "\n",
    "        print(f\"{current_bit:<2} |{sentence:<35}| {z:<5}\")\n",
    "    return z\n"
   ]
  },
  {
   "cell_type": "code",
   "execution_count": 53,
   "metadata": {},
   "outputs": [],
   "source": [
    "def extended_euclidean(a, n):\n",
    "    # Initialize values\n",
    "    r1, r2 = n, a\n",
    "    t1, t2 = 1, 0  # t now holds the values previously held by s\n",
    "    s1, s2 = 0, 1  # s now holds the values previously held by t\n",
    "\n",
    "    # Print the initial header\n",
    "    print(f\"{'t':<5} | {'s':<7} | {'r':<7} | {'q':<7}\")\n",
    "    print(f\"{t1:<5} | {s1:<7} | {r1:<7} |\")\n",
    "    print(f\"{t2:<5} | {s2:<7} | {r2:<7} |\")\n",
    "\n",
    "    while r2 != 0:\n",
    "        q = r1 // r2  # Quotient\n",
    "        r = r1 - q * r2  # Remainder\n",
    "        r1, r2 = r2, r\n",
    "        t = t1 - q * t2\n",
    "        t1, t2 = t2, t\n",
    "        s = s1 - q * s2\n",
    "        s1, s2 = s2, s\n",
    "\n",
    "        if r2 ==0:\n",
    "            t=\"\"\n",
    "            s=\"\"\n",
    "        # Print s, t, r, q in the required format\n",
    "        print(f\"{t:<5} | {s:<7} | {r:<7} | {q:<7}\")\n",
    "\n",
    "    # At the end of the loop, r1 is the gcd and s1 is the modular inverse if r1 == 1\n",
    "    if r1 == 1:\n",
    "        return s1 % n  # Ensure the inverse is positive\n",
    "    else:\n",
    "        return None  # Inverse doesn't exist if gcd(a, n) != 1\n",
    "\n"
   ]
  },
  {
   "cell_type": "code",
   "execution_count": 22,
   "metadata": {},
   "outputs": [
    {
     "name": "stdout",
     "output_type": "stream",
     "text": [
      "1 x 112 = 112 mod 139 = 112\n",
      "112 x 106 = 11872 mod 139 = 57\n",
      "57 x 44 = 2508 mod 139 = 6\n",
      "6 x 129 = 774 mod 139 = 79\n",
      "79 x 57 = 4503 mod 139 = 55\n",
      "55 x 79 = 4345 mod 139 = 36\n",
      "36 x 55 = 1980 mod 139 = 34\n"
     ]
    }
   ],
   "source": [
    "c1 = count_c(c1s,p)"
   ]
  },
  {
   "cell_type": "code",
   "execution_count": 23,
   "metadata": {},
   "outputs": [
    {
     "name": "stdout",
     "output_type": "stream",
     "text": [
      "1 x 1 = 1 mod 139 = 1\n",
      "1 x 125 = 125 mod 139 = 125\n",
      "125 x 52 = 6500 mod 139 = 106\n",
      "106 x 100 = 10600 mod 139 = 36\n",
      "36 x 44 = 1584 mod 139 = 55\n",
      "55 x 77 = 4235 mod 139 = 65\n",
      "65 x 112 = 7280 mod 139 = 52\n"
     ]
    }
   ],
   "source": [
    "c2 = count_c(c2s,p)"
   ]
  },
  {
   "cell_type": "code",
   "execution_count": 26,
   "metadata": {},
   "outputs": [
    {
     "name": "stdout",
     "output_type": "stream",
     "text": [
      "lambda_0(0) = -24.0 / -6.0\n",
      "lambda_1(0) = -12.0 / 2.0\n",
      "lambda_2(0) = -8.0 / -2.0\n",
      "lambda_3(0) = -6.0 / 6.0\n"
     ]
    }
   ],
   "source": [
    "lambda0(x)"
   ]
  },
  {
   "cell_type": "code",
   "execution_count": 178,
   "metadata": {},
   "outputs": [],
   "source": [
    "lambda_ = [18,21,8]\n",
    "w_ = [79,36,106]"
   ]
  },
  {
   "cell_type": "code",
   "execution_count": 179,
   "metadata": {},
   "outputs": [
    {
     "name": "stdout",
     "output_type": "stream",
     "text": [
      "79^18mod139\n",
      "b  |                                   | z    \n",
      "   |                                   | 1    \n",
      "1  |1*1*79 mod 139                     | 79   \n",
      "0  |79*79 mod 139                      | 125  \n",
      "0  |125*125 mod 139                    | 57   \n",
      "1  |57*57*79 mod 139                   | 77   \n",
      "0  |77*77 mod 139                      | 91   \n",
      "\n",
      "36^21mod139\n",
      "b  |                                   | z    \n",
      "   |                                   | 1    \n",
      "1  |1*1*36 mod 139                     | 36   \n",
      "0  |36*36 mod 139                      | 45   \n",
      "1  |45*45*36 mod 139                   | 64   \n",
      "0  |64*64 mod 139                      | 65   \n",
      "1  |65*65*36 mod 139                   | 34   \n",
      "\n",
      "106^8mod139\n",
      "b  |                                   | z    \n",
      "   |                                   | 1    \n",
      "1  |1*1*106 mod 139                    | 106  \n",
      "0  |106*106 mod 139                    | 116  \n",
      "0  |116*116 mod 139                    | 112  \n",
      "0  |112*112 mod 139                    | 34   \n",
      "\n"
     ]
    }
   ],
   "source": [
    "for j in range(3):\n",
    "    square_and_multiply(w_[j],lambda_[j],p)\n",
    "    print(\"\")"
   ]
  },
  {
   "cell_type": "code",
   "execution_count": 180,
   "metadata": {},
   "outputs": [
    {
     "data": {
      "text/plain": [
       "112"
      ]
     },
     "execution_count": 180,
     "metadata": {},
     "output_type": "execute_result"
    }
   ],
   "source": [
    "(91*34*34)%139"
   ]
  },
  {
   "cell_type": "code",
   "execution_count": 183,
   "metadata": {},
   "outputs": [
    {
     "name": "stdout",
     "output_type": "stream",
     "text": [
      "t     | s       | r       | q      \n",
      "1     | 0       | 139     |\n",
      "0     | 1       | 216     |\n",
      "1     | 0       | 139     | 0      \n",
      "-1    | 1       | 77      | 1      \n",
      "2     | -1      | 62      | 1      \n",
      "-3    | 2       | 15      | 1      \n",
      "14    | -9      | 2       | 4      \n",
      "-101  | 65      | 1       | 7      \n",
      "      |         | 0       | 2      \n"
     ]
    },
    {
     "data": {
      "text/plain": [
       "65"
      ]
     },
     "execution_count": 183,
     "metadata": {},
     "output_type": "execute_result"
    }
   ],
   "source": [
    "extended_euclidean(6**3, 139)"
   ]
  },
  {
   "cell_type": "code",
   "execution_count": 182,
   "metadata": {},
   "outputs": [
    {
     "data": {
      "text/plain": [
       "65"
      ]
     },
     "execution_count": 182,
     "metadata": {},
     "output_type": "execute_result"
    }
   ],
   "source": [
    "(52*36)%139"
   ]
  },
  {
   "cell_type": "code",
   "execution_count": 55,
   "metadata": {},
   "outputs": [
    {
     "name": "stdout",
     "output_type": "stream",
     "text": [
      "0\n",
      "6^0mod139\n",
      "b  |                                   | z    \n",
      "   |                                   | 1    \n",
      "===============\n",
      "1\n",
      "6^1mod139\n",
      "b  |                                   | z    \n",
      "   |                                   | 1    \n",
      "1  |1*1*6 mod 139                      | 6    \n",
      "===============\n",
      "2\n",
      "6^2mod139\n",
      "b  |                                   | z    \n",
      "   |                                   | 1    \n",
      "1  |1*1*6 mod 139                      | 6    \n",
      "0  |6*6 mod 139                        | 36   \n",
      "===============\n",
      "3\n",
      "6^3mod139\n",
      "b  |                                   | z    \n",
      "   |                                   | 1    \n",
      "1  |1*1*6 mod 139                      | 6    \n",
      "1  |6*6*6 mod 139                      | 77   \n",
      "===============\n",
      "4\n",
      "6^4mod139\n",
      "b  |                                   | z    \n",
      "   |                                   | 1    \n",
      "1  |1*1*6 mod 139                      | 6    \n",
      "0  |6*6 mod 139                        | 36   \n",
      "0  |36*36 mod 139                      | 45   \n",
      "===============\n",
      "5\n",
      "6^5mod139\n",
      "b  |                                   | z    \n",
      "   |                                   | 1    \n",
      "1  |1*1*6 mod 139                      | 6    \n",
      "0  |6*6 mod 139                        | 36   \n",
      "1  |36*36*6 mod 139                    | 131  \n",
      "===============\n",
      "6\n",
      "6^6mod139\n",
      "b  |                                   | z    \n",
      "   |                                   | 1    \n",
      "1  |1*1*6 mod 139                      | 6    \n",
      "1  |6*6*6 mod 139                      | 77   \n",
      "0  |77*77 mod 139                      | 91   \n",
      "===============\n",
      "7\n",
      "6^7mod139\n",
      "b  |                                   | z    \n",
      "   |                                   | 1    \n",
      "1  |1*1*6 mod 139                      | 6    \n",
      "1  |6*6*6 mod 139                      | 77   \n",
      "1  |77*77*6 mod 139                    | 129  \n",
      "===============\n"
     ]
    }
   ],
   "source": []
  },
  {
   "cell_type": "code",
   "execution_count": 56,
   "metadata": {},
   "outputs": [
    {
     "data": {
      "text/plain": [
       "52"
      ]
     },
     "execution_count": 56,
     "metadata": {},
     "output_type": "execute_result"
    }
   ],
   "source": [
    "(1*125*52*100*44*77*112)%139"
   ]
  },
  {
   "cell_type": "code",
   "execution_count": 65,
   "metadata": {},
   "outputs": [
    {
     "data": {
      "text/plain": [
       "22.0"
      ]
     },
     "execution_count": 65,
     "metadata": {},
     "output_type": "execute_result"
    }
   ],
   "source": [
    "(((0-1)*(0-2)*(0-3))/((4-1)*(4-2)*(4-3)))%23"
   ]
  },
  {
   "cell_type": "code",
   "execution_count": 71,
   "metadata": {},
   "outputs": [
    {
     "data": {
      "text/plain": [
       "0.017543859649122806"
      ]
     },
     "execution_count": 71,
     "metadata": {},
     "output_type": "execute_result"
    }
   ],
   "source": [
    "(1/57)%139"
   ]
  },
  {
   "cell_type": "code",
   "execution_count": 168,
   "metadata": {},
   "outputs": [
    {
     "data": {
      "text/plain": [
       "{0: 1,\n",
       " 1: 34,\n",
       " 2: 44,\n",
       " 3: 106,\n",
       " 4: 129,\n",
       " 5: 77,\n",
       " 6: 116,\n",
       " 7: 52,\n",
       " 8: 100,\n",
       " 9: 64,\n",
       " 10: 91,\n",
       " 11: 36,\n",
       " 12: 112,\n",
       " 13: 55,\n",
       " 14: 63,\n",
       " 15: 57,\n",
       " 16: 131,\n",
       " 17: 6,\n",
       " 18: 65,\n",
       " 19: 125,\n",
       " 20: 80,\n",
       " 21: 79,\n",
       " 22: 45}"
      ]
     },
     "execution_count": 168,
     "metadata": {},
     "output_type": "execute_result"
    }
   ],
   "source": [
    "# Define the parameters\n",
    "modulus = 139\n",
    "base = 34\n",
    "exponents = range(0,23)  # Range from -7 to 7\n",
    "\n",
    "# Function to compute modular exponentiation for negative exponents\n",
    "def modular_exponentiation(base, exp, mod):\n",
    "    if exp >= 0:\n",
    "        return pow(base, exp, mod)\n",
    "    else:\n",
    "        # For negative exponents, compute the modular inverse of the positive exponentiation\n",
    "        positive_result = pow(base, -exp, mod)\n",
    "        return pow(positive_result, -1, mod)\n",
    "\n",
    "# Compute the results for all exponents in the range\n",
    "results = {i: modular_exponentiation(base, i, modulus) for i in exponents}\n",
    "results\n"
   ]
  },
  {
   "cell_type": "code",
   "execution_count": 170,
   "metadata": {},
   "outputs": [
    {
     "data": {
      "text/plain": [
       "4.0"
      ]
     },
     "execution_count": 170,
     "metadata": {},
     "output_type": "execute_result"
    }
   ],
   "source": [
    "(-2*-3*-4)/(-1*-2*-3)"
   ]
  },
  {
   "cell_type": "code",
   "execution_count": 171,
   "metadata": {},
   "outputs": [
    {
     "data": {
      "text/plain": [
       "-6.0"
      ]
     },
     "execution_count": 171,
     "metadata": {},
     "output_type": "execute_result"
    }
   ],
   "source": [
    "(-1*-3*-4)/(1*1*2)"
   ]
  },
  {
   "cell_type": "code",
   "execution_count": 173,
   "metadata": {},
   "outputs": [
    {
     "data": {
      "text/plain": [
       "18"
      ]
     },
     "execution_count": 173,
     "metadata": {},
     "output_type": "execute_result"
    }
   ],
   "source": [
    "64%23"
   ]
  },
  {
   "cell_type": "code",
   "execution_count": 174,
   "metadata": {},
   "outputs": [
    {
     "data": {
      "text/plain": [
       "4"
      ]
     },
     "execution_count": 174,
     "metadata": {},
     "output_type": "execute_result"
    }
   ],
   "source": [
    "-1*-4"
   ]
  },
  {
   "cell_type": "code",
   "execution_count": 175,
   "metadata": {},
   "outputs": [
    {
     "data": {
      "text/plain": [
       "-2"
      ]
     },
     "execution_count": 175,
     "metadata": {},
     "output_type": "execute_result"
    }
   ],
   "source": [
    "1*-2"
   ]
  },
  {
   "cell_type": "code",
   "execution_count": 176,
   "metadata": {},
   "outputs": [
    {
     "data": {
      "text/plain": [
       "21"
      ]
     },
     "execution_count": 176,
     "metadata": {},
     "output_type": "execute_result"
    }
   ],
   "source": [
    "-2%23"
   ]
  },
  {
   "cell_type": "code",
   "execution_count": 177,
   "metadata": {},
   "outputs": [
    {
     "data": {
      "text/plain": [
       "112"
      ]
     },
     "execution_count": 177,
     "metadata": {},
     "output_type": "execute_result"
    }
   ],
   "source": [
    "((79**18)*(36**21)*(106**8))%139"
   ]
  },
  {
   "cell_type": "code",
   "execution_count": null,
   "metadata": {},
   "outputs": [],
   "source": []
  }
 ],
 "metadata": {
  "kernelspec": {
   "display_name": "Python 3",
   "language": "python",
   "name": "python3"
  },
  "language_info": {
   "codemirror_mode": {
    "name": "ipython",
    "version": 3
   },
   "file_extension": ".py",
   "mimetype": "text/x-python",
   "name": "python",
   "nbconvert_exporter": "python",
   "pygments_lexer": "ipython3",
   "version": "3.8.5"
  }
 },
 "nbformat": 4,
 "nbformat_minor": 4
}
